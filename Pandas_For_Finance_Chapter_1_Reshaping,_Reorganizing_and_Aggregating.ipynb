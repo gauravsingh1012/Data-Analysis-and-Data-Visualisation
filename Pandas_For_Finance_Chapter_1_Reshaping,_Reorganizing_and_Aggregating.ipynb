{
  "nbformat": 4,
  "nbformat_minor": 0,
  "metadata": {
    "colab": {
      "name": "Pandas For Finance Chapter 1: Reshaping, Reorganizing and Aggregating.ipynb",
      "version": "0.3.2",
      "provenance": [],
      "collapsed_sections": [],
      "include_colab_link": true
    },
    "kernelspec": {
      "name": "python3",
      "display_name": "Python 3"
    }
  },
  "cells": [
    {
      "cell_type": "markdown",
      "metadata": {
        "id": "view-in-github",
        "colab_type": "text"
      },
      "source": [
        "[View in Colaboratory](https://colab.research.google.com/github/gauravsingh1012/Using-Pandas-For-Data-Analysis-and-Data-Visualisation/blob/master/Pandas_For_Finance_Chapter_1_Reshaping,_Reorganizing_and_Aggregating.ipynb)"
      ]
    },
    {
      "metadata": {
        "id": "cmHImLxw0vh7",
        "colab_type": "text"
      },
      "cell_type": "markdown",
      "source": [
        "#Chapter 1: Reshaping, Reorganizing and Aggregating"
      ]
    },
    {
      "metadata": {
        "id": "6XFlqJTJ09zR",
        "colab_type": "text"
      },
      "cell_type": "markdown",
      "source": [
        "\n",
        "\n",
        "> ** A. Loading historical stock data from the quandl **\n",
        "\n"
      ]
    },
    {
      "metadata": {
        "id": "woSIpegePMb3",
        "colab_type": "code",
        "colab": {
          "base_uri": "https://localhost:8080/",
          "height": 403
        },
        "outputId": "d7b226ff-abd1-4972-efb4-a5df59c37745"
      },
      "cell_type": "code",
      "source": [
        "!pip install quandl"
      ],
      "execution_count": 1,
      "outputs": [
        {
          "output_type": "stream",
          "text": [
            "Collecting quandl\n",
            "  Downloading https://files.pythonhosted.org/packages/91/c4/dffb7ebe00231e7bde2c6841d68710705ef4fdc799e1f6ea9cc3d1fe751b/Quandl-3.4.1-py2.py3-none-any.whl\n",
            "Requirement already satisfied: numpy>=1.8 in /usr/local/lib/python3.6/dist-packages (from quandl) (1.14.5)\n",
            "Collecting inflection>=0.3.1 (from quandl)\n",
            "  Downloading https://files.pythonhosted.org/packages/d5/35/a6eb45b4e2356fe688b21570864d4aa0d0a880ce387defe9c589112077f8/inflection-0.3.1.tar.gz\n",
            "Collecting more-itertools (from quandl)\n",
            "\u001b[?25l  Downloading https://files.pythonhosted.org/packages/79/b1/eace304ef66bd7d3d8b2f78cc374b73ca03bc53664d78151e9df3b3996cc/more_itertools-4.3.0-py3-none-any.whl (48kB)\n",
            "\u001b[K    100% |████████████████████████████████| 51kB 5.4MB/s \n",
            "\u001b[?25hRequirement already satisfied: requests>=2.7.0 in /usr/local/lib/python3.6/dist-packages (from quandl) (2.18.4)\n",
            "Requirement already satisfied: six in /usr/local/lib/python3.6/dist-packages (from quandl) (1.11.0)\n",
            "Requirement already satisfied: python-dateutil in /usr/local/lib/python3.6/dist-packages (from quandl) (2.5.3)\n",
            "Requirement already satisfied: pandas>=0.14 in /usr/local/lib/python3.6/dist-packages (from quandl) (0.22.0)\n",
            "Requirement already satisfied: idna<2.7,>=2.5 in /usr/local/lib/python3.6/dist-packages (from requests>=2.7.0->quandl) (2.6)\n",
            "Requirement already satisfied: certifi>=2017.4.17 in /usr/local/lib/python3.6/dist-packages (from requests>=2.7.0->quandl) (2018.8.13)\n",
            "Requirement already satisfied: urllib3<1.23,>=1.21.1 in /usr/local/lib/python3.6/dist-packages (from requests>=2.7.0->quandl) (1.22)\n",
            "Requirement already satisfied: chardet<3.1.0,>=3.0.2 in /usr/local/lib/python3.6/dist-packages (from requests>=2.7.0->quandl) (3.0.4)\n",
            "Requirement already satisfied: pytz>=2011k in /usr/local/lib/python3.6/dist-packages (from pandas>=0.14->quandl) (2018.5)\n",
            "Building wheels for collected packages: inflection\n",
            "  Running setup.py bdist_wheel for inflection ... \u001b[?25l-\b \bdone\n",
            "\u001b[?25h  Stored in directory: /content/.cache/pip/wheels/9f/5a/d3/6fc3bf6516d2a3eb7e18f9f28b472110b59325f3f258fe9211\n",
            "Successfully built inflection\n",
            "Installing collected packages: inflection, more-itertools, quandl\n",
            "Successfully installed inflection-0.3.1 more-itertools-4.3.0 quandl-3.4.1\n"
          ],
          "name": "stdout"
        }
      ]
    },
    {
      "metadata": {
        "id": "tSpPUHNm1sP4",
        "colab_type": "code",
        "colab": {}
      },
      "cell_type": "code",
      "source": [
        "import quandl\n",
        "import pandas as pd\n",
        "import numpy as np\n",
        "import time"
      ],
      "execution_count": 0,
      "outputs": []
    },
    {
      "metadata": {
        "id": "9QsUQxxu16Ht",
        "colab_type": "code",
        "colab": {
          "base_uri": "https://localhost:8080/",
          "height": 34
        },
        "outputId": "2eb580cc-c1a1-4914-b176-464fb345a098"
      },
      "cell_type": "code",
      "source": [
        "quandl.ApiConfig.api_key = input('Please enter your quandl Key: ')\n",
        "exchange = 'WIKI'"
      ],
      "execution_count": 3,
      "outputs": [
        {
          "output_type": "stream",
          "text": [
            "Please enter your quandl Key: \n"
          ],
          "name": "stdout"
        }
      ]
    },
    {
      "metadata": {
        "id": "3I4hotS6DP1a",
        "colab_type": "code",
        "colab": {
          "base_uri": "https://localhost:8080/",
          "height": 106
        },
        "outputId": "ab2a3162-aad7-474b-8159-5c2759b6f7d1"
      },
      "cell_type": "code",
      "source": [
        "ticker = 'MSFT'\n",
        "msft = quandl.get('%s/%s' % (exchange, ticker))\n",
        "msft.head(1)"
      ],
      "execution_count": 4,
      "outputs": [
        {
          "output_type": "execute_result",
          "data": {
            "text/html": [
              "<div>\n",
              "<style scoped>\n",
              "    .dataframe tbody tr th:only-of-type {\n",
              "        vertical-align: middle;\n",
              "    }\n",
              "\n",
              "    .dataframe tbody tr th {\n",
              "        vertical-align: top;\n",
              "    }\n",
              "\n",
              "    .dataframe thead th {\n",
              "        text-align: right;\n",
              "    }\n",
              "</style>\n",
              "<table border=\"1\" class=\"dataframe\">\n",
              "  <thead>\n",
              "    <tr style=\"text-align: right;\">\n",
              "      <th></th>\n",
              "      <th>Open</th>\n",
              "      <th>High</th>\n",
              "      <th>Low</th>\n",
              "      <th>Close</th>\n",
              "      <th>Volume</th>\n",
              "      <th>Ex-Dividend</th>\n",
              "      <th>Split Ratio</th>\n",
              "      <th>Adj. Open</th>\n",
              "      <th>Adj. High</th>\n",
              "      <th>Adj. Low</th>\n",
              "      <th>Adj. Close</th>\n",
              "      <th>Adj. Volume</th>\n",
              "    </tr>\n",
              "    <tr>\n",
              "      <th>Date</th>\n",
              "      <th></th>\n",
              "      <th></th>\n",
              "      <th></th>\n",
              "      <th></th>\n",
              "      <th></th>\n",
              "      <th></th>\n",
              "      <th></th>\n",
              "      <th></th>\n",
              "      <th></th>\n",
              "      <th></th>\n",
              "      <th></th>\n",
              "      <th></th>\n",
              "    </tr>\n",
              "  </thead>\n",
              "  <tbody>\n",
              "    <tr>\n",
              "      <th>1986-03-13</th>\n",
              "      <td>25.5</td>\n",
              "      <td>29.25</td>\n",
              "      <td>25.5</td>\n",
              "      <td>28.0</td>\n",
              "      <td>3582600.0</td>\n",
              "      <td>0.0</td>\n",
              "      <td>1.0</td>\n",
              "      <td>0.058941</td>\n",
              "      <td>0.067609</td>\n",
              "      <td>0.058941</td>\n",
              "      <td>0.06472</td>\n",
              "      <td>1.031789e+09</td>\n",
              "    </tr>\n",
              "  </tbody>\n",
              "</table>\n",
              "</div>"
            ],
            "text/plain": [
              "            Open   High   Low  Close     Volume  Ex-Dividend  Split Ratio  \\\n",
              "Date                                                                        \n",
              "1986-03-13  25.5  29.25  25.5   28.0  3582600.0          0.0          1.0   \n",
              "\n",
              "            Adj. Open  Adj. High  Adj. Low  Adj. Close   Adj. Volume  \n",
              "Date                                                                  \n",
              "1986-03-13   0.058941   0.067609  0.058941     0.06472  1.031789e+09  "
            ]
          },
          "metadata": {
            "tags": []
          },
          "execution_count": 4
        }
      ]
    },
    {
      "metadata": {
        "id": "EwqPLwy-DQCb",
        "colab_type": "code",
        "colab": {
          "base_uri": "https://localhost:8080/",
          "height": 106
        },
        "outputId": "e825bb15-a528-4f07-f8f9-fa07075cb74f"
      },
      "cell_type": "code",
      "source": [
        "ticker = 'AAPL'\n",
        "appl = quandl.get('%s/%s' % (exchange, ticker))\n",
        "appl.head(1)"
      ],
      "execution_count": 5,
      "outputs": [
        {
          "output_type": "execute_result",
          "data": {
            "text/html": [
              "<div>\n",
              "<style scoped>\n",
              "    .dataframe tbody tr th:only-of-type {\n",
              "        vertical-align: middle;\n",
              "    }\n",
              "\n",
              "    .dataframe tbody tr th {\n",
              "        vertical-align: top;\n",
              "    }\n",
              "\n",
              "    .dataframe thead th {\n",
              "        text-align: right;\n",
              "    }\n",
              "</style>\n",
              "<table border=\"1\" class=\"dataframe\">\n",
              "  <thead>\n",
              "    <tr style=\"text-align: right;\">\n",
              "      <th></th>\n",
              "      <th>Open</th>\n",
              "      <th>High</th>\n",
              "      <th>Low</th>\n",
              "      <th>Close</th>\n",
              "      <th>Volume</th>\n",
              "      <th>Ex-Dividend</th>\n",
              "      <th>Split Ratio</th>\n",
              "      <th>Adj. Open</th>\n",
              "      <th>Adj. High</th>\n",
              "      <th>Adj. Low</th>\n",
              "      <th>Adj. Close</th>\n",
              "      <th>Adj. Volume</th>\n",
              "    </tr>\n",
              "    <tr>\n",
              "      <th>Date</th>\n",
              "      <th></th>\n",
              "      <th></th>\n",
              "      <th></th>\n",
              "      <th></th>\n",
              "      <th></th>\n",
              "      <th></th>\n",
              "      <th></th>\n",
              "      <th></th>\n",
              "      <th></th>\n",
              "      <th></th>\n",
              "      <th></th>\n",
              "      <th></th>\n",
              "    </tr>\n",
              "  </thead>\n",
              "  <tbody>\n",
              "    <tr>\n",
              "      <th>1980-12-12</th>\n",
              "      <td>28.75</td>\n",
              "      <td>28.87</td>\n",
              "      <td>28.75</td>\n",
              "      <td>28.75</td>\n",
              "      <td>2093900.0</td>\n",
              "      <td>0.0</td>\n",
              "      <td>1.0</td>\n",
              "      <td>0.422706</td>\n",
              "      <td>0.42447</td>\n",
              "      <td>0.422706</td>\n",
              "      <td>0.422706</td>\n",
              "      <td>117258400.0</td>\n",
              "    </tr>\n",
              "  </tbody>\n",
              "</table>\n",
              "</div>"
            ],
            "text/plain": [
              "             Open   High    Low  Close     Volume  Ex-Dividend  Split Ratio  \\\n",
              "Date                                                                          \n",
              "1980-12-12  28.75  28.87  28.75  28.75  2093900.0          0.0          1.0   \n",
              "\n",
              "            Adj. Open  Adj. High  Adj. Low  Adj. Close  Adj. Volume  \n",
              "Date                                                                 \n",
              "1980-12-12   0.422706    0.42447  0.422706    0.422706  117258400.0  "
            ]
          },
          "metadata": {
            "tags": []
          },
          "execution_count": 5
        }
      ]
    },
    {
      "metadata": {
        "id": "29aVPwgm3EAv",
        "colab_type": "code",
        "colab": {}
      },
      "cell_type": "code",
      "source": [
        "# Set the index to a column called Date\n",
        "msft = msft.reset_index(level=0)\n",
        "appl = appl.reset_index(level=0)\n"
      ],
      "execution_count": 0,
      "outputs": []
    },
    {
      "metadata": {
        "id": "6LsnHBgBECxB",
        "colab_type": "text"
      },
      "cell_type": "markdown",
      "source": [
        "\n",
        "\n",
        "> **B. Concatenating multiple DataFrame objects**\n",
        "\n",
        "\n",
        "\n",
        "> To demonstrate various forms of concatenation, we will start with the following\n",
        "data that shows the adjusted closing prices for MSFT for the months of January and\n",
        "February 2012 represented in the following command. This dataset simulates the\n",
        "retrieval of stock information representing two different time periods and stores the\n",
        "data in two different DataFrame objects, as shown here:\n",
        "\n",
        "\n",
        "\n",
        "\n"
      ]
    },
    {
      "metadata": {
        "id": "2ZTbpT0WCLgM",
        "colab_type": "code",
        "colab": {}
      },
      "cell_type": "code",
      "source": [
        "msft.set_index('Date', inplace = True)\n",
        "appl.set_index('Date', inplace = True)"
      ],
      "execution_count": 0,
      "outputs": []
    },
    {
      "metadata": {
        "id": "4MsQ3WsjWSX0",
        "colab_type": "code",
        "colab": {
          "base_uri": "https://localhost:8080/",
          "height": 166
        },
        "outputId": "e7be2046-e32f-44bc-8a4d-99252141e030"
      },
      "cell_type": "code",
      "source": [
        "msftJanClose = msft['2012-01'][['Adj. Close']]\n",
        "msftFebClose = msft['2012-02'][['Adj. Close']]\n",
        "msftJanClose[:3]"
      ],
      "execution_count": 8,
      "outputs": [
        {
          "output_type": "execute_result",
          "data": {
            "text/html": [
              "<div>\n",
              "<style scoped>\n",
              "    .dataframe tbody tr th:only-of-type {\n",
              "        vertical-align: middle;\n",
              "    }\n",
              "\n",
              "    .dataframe tbody tr th {\n",
              "        vertical-align: top;\n",
              "    }\n",
              "\n",
              "    .dataframe thead th {\n",
              "        text-align: right;\n",
              "    }\n",
              "</style>\n",
              "<table border=\"1\" class=\"dataframe\">\n",
              "  <thead>\n",
              "    <tr style=\"text-align: right;\">\n",
              "      <th></th>\n",
              "      <th>Adj. Close</th>\n",
              "    </tr>\n",
              "    <tr>\n",
              "      <th>Date</th>\n",
              "      <th></th>\n",
              "    </tr>\n",
              "  </thead>\n",
              "  <tbody>\n",
              "    <tr>\n",
              "      <th>2012-01-03</th>\n",
              "      <td>22.792249</td>\n",
              "    </tr>\n",
              "    <tr>\n",
              "      <th>2012-01-04</th>\n",
              "      <td>23.332995</td>\n",
              "    </tr>\n",
              "    <tr>\n",
              "      <th>2012-01-05</th>\n",
              "      <td>23.571435</td>\n",
              "    </tr>\n",
              "  </tbody>\n",
              "</table>\n",
              "</div>"
            ],
            "text/plain": [
              "            Adj. Close\n",
              "Date                  \n",
              "2012-01-03   22.792249\n",
              "2012-01-04   23.332995\n",
              "2012-01-05   23.571435"
            ]
          },
          "metadata": {
            "tags": []
          },
          "execution_count": 8
        }
      ]
    },
    {
      "metadata": {
        "id": "wusrr3j4WazH",
        "colab_type": "code",
        "colab": {
          "base_uri": "https://localhost:8080/",
          "height": 166
        },
        "outputId": "459b3ee6-dc9e-4264-97ad-ca23842e9566"
      },
      "cell_type": "code",
      "source": [
        "msftFebClose[:3]"
      ],
      "execution_count": 9,
      "outputs": [
        {
          "output_type": "execute_result",
          "data": {
            "text/html": [
              "<div>\n",
              "<style scoped>\n",
              "    .dataframe tbody tr th:only-of-type {\n",
              "        vertical-align: middle;\n",
              "    }\n",
              "\n",
              "    .dataframe tbody tr th {\n",
              "        vertical-align: top;\n",
              "    }\n",
              "\n",
              "    .dataframe thead th {\n",
              "        text-align: right;\n",
              "    }\n",
              "</style>\n",
              "<table border=\"1\" class=\"dataframe\">\n",
              "  <thead>\n",
              "    <tr style=\"text-align: right;\">\n",
              "      <th></th>\n",
              "      <th>Adj. Close</th>\n",
              "    </tr>\n",
              "    <tr>\n",
              "      <th>Date</th>\n",
              "      <th></th>\n",
              "    </tr>\n",
              "  </thead>\n",
              "  <tbody>\n",
              "    <tr>\n",
              "      <th>2012-02-01</th>\n",
              "      <td>25.453403</td>\n",
              "    </tr>\n",
              "    <tr>\n",
              "      <th>2012-02-02</th>\n",
              "      <td>25.504497</td>\n",
              "    </tr>\n",
              "    <tr>\n",
              "      <th>2012-02-03</th>\n",
              "      <td>25.751452</td>\n",
              "    </tr>\n",
              "  </tbody>\n",
              "</table>\n",
              "</div>"
            ],
            "text/plain": [
              "            Adj. Close\n",
              "Date                  \n",
              "2012-02-01   25.453403\n",
              "2012-02-02   25.504497\n",
              "2012-02-03   25.751452"
            ]
          },
          "metadata": {
            "tags": []
          },
          "execution_count": 9
        }
      ]
    },
    {
      "metadata": {
        "id": "HA-zMYiIWiiH",
        "colab_type": "code",
        "colab": {
          "base_uri": "https://localhost:8080/",
          "height": 254
        },
        "outputId": "070d1279-8099-4339-f066-b667b7c3b8de"
      },
      "cell_type": "code",
      "source": [
        "pd.concat([msftJanClose.head(3), msftFebClose.head(3)])"
      ],
      "execution_count": 10,
      "outputs": [
        {
          "output_type": "execute_result",
          "data": {
            "text/html": [
              "<div>\n",
              "<style scoped>\n",
              "    .dataframe tbody tr th:only-of-type {\n",
              "        vertical-align: middle;\n",
              "    }\n",
              "\n",
              "    .dataframe tbody tr th {\n",
              "        vertical-align: top;\n",
              "    }\n",
              "\n",
              "    .dataframe thead th {\n",
              "        text-align: right;\n",
              "    }\n",
              "</style>\n",
              "<table border=\"1\" class=\"dataframe\">\n",
              "  <thead>\n",
              "    <tr style=\"text-align: right;\">\n",
              "      <th></th>\n",
              "      <th>Adj. Close</th>\n",
              "    </tr>\n",
              "    <tr>\n",
              "      <th>Date</th>\n",
              "      <th></th>\n",
              "    </tr>\n",
              "  </thead>\n",
              "  <tbody>\n",
              "    <tr>\n",
              "      <th>2012-01-03</th>\n",
              "      <td>22.792249</td>\n",
              "    </tr>\n",
              "    <tr>\n",
              "      <th>2012-01-04</th>\n",
              "      <td>23.332995</td>\n",
              "    </tr>\n",
              "    <tr>\n",
              "      <th>2012-01-05</th>\n",
              "      <td>23.571435</td>\n",
              "    </tr>\n",
              "    <tr>\n",
              "      <th>2012-02-01</th>\n",
              "      <td>25.453403</td>\n",
              "    </tr>\n",
              "    <tr>\n",
              "      <th>2012-02-02</th>\n",
              "      <td>25.504497</td>\n",
              "    </tr>\n",
              "    <tr>\n",
              "      <th>2012-02-03</th>\n",
              "      <td>25.751452</td>\n",
              "    </tr>\n",
              "  </tbody>\n",
              "</table>\n",
              "</div>"
            ],
            "text/plain": [
              "            Adj. Close\n",
              "Date                  \n",
              "2012-01-03   22.792249\n",
              "2012-01-04   23.332995\n",
              "2012-01-05   23.571435\n",
              "2012-02-01   25.453403\n",
              "2012-02-02   25.504497\n",
              "2012-02-03   25.751452"
            ]
          },
          "metadata": {
            "tags": []
          },
          "execution_count": 10
        }
      ]
    },
    {
      "metadata": {
        "id": "uGy2A0S-FWAl",
        "colab_type": "text"
      },
      "cell_type": "markdown",
      "source": [
        "\n",
        "\n",
        "> The resulting DataFrame contains an index identical in structure to both of the\n",
        "objects, with labels from the first object and then the second object copied into the\n",
        "new object. At first glance, it may appear that the concatenation is a pure copy of the\n",
        "rows from each DataFrame into the new DataFrame , but as we will see, the process is\n",
        "more elaborate (and hence flexible). This will become more evident as we take a look\n",
        "at more examples.\n",
        "The following example concatenates the first five adjusted close values in January\n",
        "for both MSFT and AAPL. These have identical index labels and result in duplicate\n",
        "index labels in the new DataFrame . During a concatenation along the row axis,\n",
        "pandas will not align the index labels. They will be copied and this can create\n",
        "duplicate, identical index labels:"
      ]
    },
    {
      "metadata": {
        "id": "KbMs1TvNWrnL",
        "colab_type": "code",
        "colab": {
          "base_uri": "https://localhost:8080/",
          "height": 254
        },
        "outputId": "decae5ff-146b-427f-a34e-6dfa062c7c74"
      },
      "cell_type": "code",
      "source": [
        "applJanClose = appl['2012-01'][['Adj. Close']]\n",
        "withDups = pd.concat([msftJanClose[:3], applJanClose[:3]])\n",
        "withDups"
      ],
      "execution_count": 11,
      "outputs": [
        {
          "output_type": "execute_result",
          "data": {
            "text/html": [
              "<div>\n",
              "<style scoped>\n",
              "    .dataframe tbody tr th:only-of-type {\n",
              "        vertical-align: middle;\n",
              "    }\n",
              "\n",
              "    .dataframe tbody tr th {\n",
              "        vertical-align: top;\n",
              "    }\n",
              "\n",
              "    .dataframe thead th {\n",
              "        text-align: right;\n",
              "    }\n",
              "</style>\n",
              "<table border=\"1\" class=\"dataframe\">\n",
              "  <thead>\n",
              "    <tr style=\"text-align: right;\">\n",
              "      <th></th>\n",
              "      <th>Adj. Close</th>\n",
              "    </tr>\n",
              "    <tr>\n",
              "      <th>Date</th>\n",
              "      <th></th>\n",
              "    </tr>\n",
              "  </thead>\n",
              "  <tbody>\n",
              "    <tr>\n",
              "      <th>2012-01-03</th>\n",
              "      <td>22.792249</td>\n",
              "    </tr>\n",
              "    <tr>\n",
              "      <th>2012-01-04</th>\n",
              "      <td>23.332995</td>\n",
              "    </tr>\n",
              "    <tr>\n",
              "      <th>2012-01-05</th>\n",
              "      <td>23.571435</td>\n",
              "    </tr>\n",
              "    <tr>\n",
              "      <th>2012-01-03</th>\n",
              "      <td>52.848787</td>\n",
              "    </tr>\n",
              "    <tr>\n",
              "      <th>2012-01-04</th>\n",
              "      <td>53.132802</td>\n",
              "    </tr>\n",
              "    <tr>\n",
              "      <th>2012-01-05</th>\n",
              "      <td>53.722681</td>\n",
              "    </tr>\n",
              "  </tbody>\n",
              "</table>\n",
              "</div>"
            ],
            "text/plain": [
              "            Adj. Close\n",
              "Date                  \n",
              "2012-01-03   22.792249\n",
              "2012-01-04   23.332995\n",
              "2012-01-05   23.571435\n",
              "2012-01-03   52.848787\n",
              "2012-01-04   53.132802\n",
              "2012-01-05   53.722681"
            ]
          },
          "metadata": {
            "tags": []
          },
          "execution_count": 11
        }
      ]
    },
    {
      "metadata": {
        "id": "o6TxKzn1Wx7h",
        "colab_type": "code",
        "colab": {
          "base_uri": "https://localhost:8080/",
          "height": 136
        },
        "outputId": "d5734884-2ab0-4a61-b0d5-4b59b4585f73"
      },
      "cell_type": "code",
      "source": [
        "withDups.loc['2012-01-03']"
      ],
      "execution_count": 12,
      "outputs": [
        {
          "output_type": "execute_result",
          "data": {
            "text/html": [
              "<div>\n",
              "<style scoped>\n",
              "    .dataframe tbody tr th:only-of-type {\n",
              "        vertical-align: middle;\n",
              "    }\n",
              "\n",
              "    .dataframe tbody tr th {\n",
              "        vertical-align: top;\n",
              "    }\n",
              "\n",
              "    .dataframe thead th {\n",
              "        text-align: right;\n",
              "    }\n",
              "</style>\n",
              "<table border=\"1\" class=\"dataframe\">\n",
              "  <thead>\n",
              "    <tr style=\"text-align: right;\">\n",
              "      <th></th>\n",
              "      <th>Adj. Close</th>\n",
              "    </tr>\n",
              "    <tr>\n",
              "      <th>Date</th>\n",
              "      <th></th>\n",
              "    </tr>\n",
              "  </thead>\n",
              "  <tbody>\n",
              "    <tr>\n",
              "      <th>2012-01-03</th>\n",
              "      <td>22.792249</td>\n",
              "    </tr>\n",
              "    <tr>\n",
              "      <th>2012-01-03</th>\n",
              "      <td>52.848787</td>\n",
              "    </tr>\n",
              "  </tbody>\n",
              "</table>\n",
              "</div>"
            ],
            "text/plain": [
              "            Adj. Close\n",
              "Date                  \n",
              "2012-01-03   22.792249\n",
              "2012-01-03   52.848787"
            ]
          },
          "metadata": {
            "tags": []
          },
          "execution_count": 12
        }
      ]
    },
    {
      "metadata": {
        "id": "OkW7OfMEdmlM",
        "colab_type": "text"
      },
      "cell_type": "markdown",
      "source": [
        "\n",
        "\n",
        "> This concatenation has lost whether the Adj Close value in the new DataFrame\n",
        "came from the MSFT or AAPL DataFrame . This source DataFrame of each row\n",
        "can be preserved during concatenation by specifying the value of the keys in the\n",
        "new DataFrame . These keys will add an additional level to the index (making a\n",
        "MultiIndex ), which then can be used to identify the source DataFrame :"
      ]
    },
    {
      "metadata": {
        "id": "VHbLlCeLdnXv",
        "colab_type": "code",
        "colab": {
          "base_uri": "https://localhost:8080/",
          "height": 254
        },
        "outputId": "140bf485-df36-4660-d1c5-9a7e658c0fac"
      },
      "cell_type": "code",
      "source": [
        "closes = pd.concat([msftJanClose[:3], applJanClose[:3]],\n",
        "keys=['MSFT', 'APPL'])\n",
        "closes"
      ],
      "execution_count": 13,
      "outputs": [
        {
          "output_type": "execute_result",
          "data": {
            "text/html": [
              "<div>\n",
              "<style scoped>\n",
              "    .dataframe tbody tr th:only-of-type {\n",
              "        vertical-align: middle;\n",
              "    }\n",
              "\n",
              "    .dataframe tbody tr th {\n",
              "        vertical-align: top;\n",
              "    }\n",
              "\n",
              "    .dataframe thead th {\n",
              "        text-align: right;\n",
              "    }\n",
              "</style>\n",
              "<table border=\"1\" class=\"dataframe\">\n",
              "  <thead>\n",
              "    <tr style=\"text-align: right;\">\n",
              "      <th></th>\n",
              "      <th></th>\n",
              "      <th>Adj. Close</th>\n",
              "    </tr>\n",
              "    <tr>\n",
              "      <th></th>\n",
              "      <th>Date</th>\n",
              "      <th></th>\n",
              "    </tr>\n",
              "  </thead>\n",
              "  <tbody>\n",
              "    <tr>\n",
              "      <th rowspan=\"3\" valign=\"top\">MSFT</th>\n",
              "      <th>2012-01-03</th>\n",
              "      <td>22.792249</td>\n",
              "    </tr>\n",
              "    <tr>\n",
              "      <th>2012-01-04</th>\n",
              "      <td>23.332995</td>\n",
              "    </tr>\n",
              "    <tr>\n",
              "      <th>2012-01-05</th>\n",
              "      <td>23.571435</td>\n",
              "    </tr>\n",
              "    <tr>\n",
              "      <th rowspan=\"3\" valign=\"top\">APPL</th>\n",
              "      <th>2012-01-03</th>\n",
              "      <td>52.848787</td>\n",
              "    </tr>\n",
              "    <tr>\n",
              "      <th>2012-01-04</th>\n",
              "      <td>53.132802</td>\n",
              "    </tr>\n",
              "    <tr>\n",
              "      <th>2012-01-05</th>\n",
              "      <td>53.722681</td>\n",
              "    </tr>\n",
              "  </tbody>\n",
              "</table>\n",
              "</div>"
            ],
            "text/plain": [
              "                 Adj. Close\n",
              "     Date                  \n",
              "MSFT 2012-01-03   22.792249\n",
              "     2012-01-04   23.332995\n",
              "     2012-01-05   23.571435\n",
              "APPL 2012-01-03   52.848787\n",
              "     2012-01-04   53.132802\n",
              "     2012-01-05   53.722681"
            ]
          },
          "metadata": {
            "tags": []
          },
          "execution_count": 13
        }
      ]
    },
    {
      "metadata": {
        "id": "Qy92_bxReLxE",
        "colab_type": "text"
      },
      "cell_type": "markdown",
      "source": [
        "\n",
        "\n",
        "> Using this new MultiIndex , it is then possible to extract the values for either stock\n",
        "from this new DataFrame by only using the index labels. The following command\n",
        "does this for the MSFT entries:"
      ]
    },
    {
      "metadata": {
        "id": "YeW5Bmrqd9tt",
        "colab_type": "code",
        "colab": {
          "base_uri": "https://localhost:8080/",
          "height": 166
        },
        "outputId": "ee2f6a83-2587-418d-ea00-1a4fd8ea46b9"
      },
      "cell_type": "code",
      "source": [
        "closes.loc['MSFT'][:3]"
      ],
      "execution_count": 14,
      "outputs": [
        {
          "output_type": "execute_result",
          "data": {
            "text/html": [
              "<div>\n",
              "<style scoped>\n",
              "    .dataframe tbody tr th:only-of-type {\n",
              "        vertical-align: middle;\n",
              "    }\n",
              "\n",
              "    .dataframe tbody tr th {\n",
              "        vertical-align: top;\n",
              "    }\n",
              "\n",
              "    .dataframe thead th {\n",
              "        text-align: right;\n",
              "    }\n",
              "</style>\n",
              "<table border=\"1\" class=\"dataframe\">\n",
              "  <thead>\n",
              "    <tr style=\"text-align: right;\">\n",
              "      <th></th>\n",
              "      <th>Adj. Close</th>\n",
              "    </tr>\n",
              "    <tr>\n",
              "      <th>Date</th>\n",
              "      <th></th>\n",
              "    </tr>\n",
              "  </thead>\n",
              "  <tbody>\n",
              "    <tr>\n",
              "      <th>2012-01-03</th>\n",
              "      <td>22.792249</td>\n",
              "    </tr>\n",
              "    <tr>\n",
              "      <th>2012-01-04</th>\n",
              "      <td>23.332995</td>\n",
              "    </tr>\n",
              "    <tr>\n",
              "      <th>2012-01-05</th>\n",
              "      <td>23.571435</td>\n",
              "    </tr>\n",
              "  </tbody>\n",
              "</table>\n",
              "</div>"
            ],
            "text/plain": [
              "            Adj. Close\n",
              "Date                  \n",
              "2012-01-03   22.792249\n",
              "2012-01-04   23.332995\n",
              "2012-01-05   23.571435"
            ]
          },
          "metadata": {
            "tags": []
          },
          "execution_count": 14
        }
      ]
    },
    {
      "metadata": {
        "id": "F98uigy7ehHI",
        "colab_type": "text"
      },
      "cell_type": "markdown",
      "source": [
        "\n",
        "\n",
        "> Concatenation along the row axis can also be performed using DataFrame objects\n",
        "with multiple columns. The following command modifies the previous example to\n",
        "use the Adj Close and Adj Volume columns in each DataFrame . "
      ]
    },
    {
      "metadata": {
        "id": "Vo2LuqMaePc3",
        "colab_type": "code",
        "colab": {}
      },
      "cell_type": "code",
      "source": [
        "msftCV = msft[['Adj. Close', 'Adj. Volume']]\n",
        "applCV = appl[['Adj. Close', 'Adj. Volume']]"
      ],
      "execution_count": 0,
      "outputs": []
    },
    {
      "metadata": {
        "id": "pd-cwXB5e_CA",
        "colab_type": "code",
        "colab": {
          "base_uri": "https://localhost:8080/",
          "height": 254
        },
        "outputId": "4d866ff4-31bb-4e5a-85b9-9bc369b6a71b"
      },
      "cell_type": "code",
      "source": [
        "pd.concat([msftCV[:3], applCV[:3]])"
      ],
      "execution_count": 16,
      "outputs": [
        {
          "output_type": "execute_result",
          "data": {
            "text/html": [
              "<div>\n",
              "<style scoped>\n",
              "    .dataframe tbody tr th:only-of-type {\n",
              "        vertical-align: middle;\n",
              "    }\n",
              "\n",
              "    .dataframe tbody tr th {\n",
              "        vertical-align: top;\n",
              "    }\n",
              "\n",
              "    .dataframe thead th {\n",
              "        text-align: right;\n",
              "    }\n",
              "</style>\n",
              "<table border=\"1\" class=\"dataframe\">\n",
              "  <thead>\n",
              "    <tr style=\"text-align: right;\">\n",
              "      <th></th>\n",
              "      <th>Adj. Close</th>\n",
              "      <th>Adj. Volume</th>\n",
              "    </tr>\n",
              "    <tr>\n",
              "      <th>Date</th>\n",
              "      <th></th>\n",
              "      <th></th>\n",
              "    </tr>\n",
              "  </thead>\n",
              "  <tbody>\n",
              "    <tr>\n",
              "      <th>1986-03-13</th>\n",
              "      <td>0.064720</td>\n",
              "      <td>1.031789e+09</td>\n",
              "    </tr>\n",
              "    <tr>\n",
              "      <th>1986-03-14</th>\n",
              "      <td>0.067031</td>\n",
              "      <td>3.081600e+08</td>\n",
              "    </tr>\n",
              "    <tr>\n",
              "      <th>1986-03-17</th>\n",
              "      <td>0.068187</td>\n",
              "      <td>1.331712e+08</td>\n",
              "    </tr>\n",
              "    <tr>\n",
              "      <th>1980-12-12</th>\n",
              "      <td>0.422706</td>\n",
              "      <td>1.172584e+08</td>\n",
              "    </tr>\n",
              "    <tr>\n",
              "      <th>1980-12-15</th>\n",
              "      <td>0.400652</td>\n",
              "      <td>4.397120e+07</td>\n",
              "    </tr>\n",
              "    <tr>\n",
              "      <th>1980-12-16</th>\n",
              "      <td>0.371246</td>\n",
              "      <td>2.643200e+07</td>\n",
              "    </tr>\n",
              "  </tbody>\n",
              "</table>\n",
              "</div>"
            ],
            "text/plain": [
              "            Adj. Close   Adj. Volume\n",
              "Date                                \n",
              "1986-03-13    0.064720  1.031789e+09\n",
              "1986-03-14    0.067031  3.081600e+08\n",
              "1986-03-17    0.068187  1.331712e+08\n",
              "1980-12-12    0.422706  1.172584e+08\n",
              "1980-12-15    0.400652  4.397120e+07\n",
              "1980-12-16    0.371246  2.643200e+07"
            ]
          },
          "metadata": {
            "tags": []
          },
          "execution_count": 16
        }
      ]
    },
    {
      "metadata": {
        "id": "bWTAJD-Ufwrz",
        "colab_type": "text"
      },
      "cell_type": "markdown",
      "source": [
        "\n",
        "\n",
        "> The columns in the DataFrame objects in a concatenation do not have to have the\n",
        "same names. The following command demonstrates a concatenation where the\n",
        "aaplA DataFrame only consists of the Adj Close column, whereas the MSFT\n",
        "DataFrame has both Adj Close and Volume columns:"
      ]
    },
    {
      "metadata": {
        "id": "JRI4dseEfCJW",
        "colab_type": "code",
        "colab": {
          "base_uri": "https://localhost:8080/",
          "height": 254
        },
        "outputId": "e6dfeb1c-e859-4af9-a8e8-dfd646c31ca7"
      },
      "cell_type": "code",
      "source": [
        "applC = appl[['Adj. Close']]\n",
        "pd.concat([msftCV[:3], applC[:3]])"
      ],
      "execution_count": 17,
      "outputs": [
        {
          "output_type": "execute_result",
          "data": {
            "text/html": [
              "<div>\n",
              "<style scoped>\n",
              "    .dataframe tbody tr th:only-of-type {\n",
              "        vertical-align: middle;\n",
              "    }\n",
              "\n",
              "    .dataframe tbody tr th {\n",
              "        vertical-align: top;\n",
              "    }\n",
              "\n",
              "    .dataframe thead th {\n",
              "        text-align: right;\n",
              "    }\n",
              "</style>\n",
              "<table border=\"1\" class=\"dataframe\">\n",
              "  <thead>\n",
              "    <tr style=\"text-align: right;\">\n",
              "      <th></th>\n",
              "      <th>Adj. Close</th>\n",
              "      <th>Adj. Volume</th>\n",
              "    </tr>\n",
              "    <tr>\n",
              "      <th>Date</th>\n",
              "      <th></th>\n",
              "      <th></th>\n",
              "    </tr>\n",
              "  </thead>\n",
              "  <tbody>\n",
              "    <tr>\n",
              "      <th>1986-03-13</th>\n",
              "      <td>0.064720</td>\n",
              "      <td>1.031789e+09</td>\n",
              "    </tr>\n",
              "    <tr>\n",
              "      <th>1986-03-14</th>\n",
              "      <td>0.067031</td>\n",
              "      <td>3.081600e+08</td>\n",
              "    </tr>\n",
              "    <tr>\n",
              "      <th>1986-03-17</th>\n",
              "      <td>0.068187</td>\n",
              "      <td>1.331712e+08</td>\n",
              "    </tr>\n",
              "    <tr>\n",
              "      <th>1980-12-12</th>\n",
              "      <td>0.422706</td>\n",
              "      <td>NaN</td>\n",
              "    </tr>\n",
              "    <tr>\n",
              "      <th>1980-12-15</th>\n",
              "      <td>0.400652</td>\n",
              "      <td>NaN</td>\n",
              "    </tr>\n",
              "    <tr>\n",
              "      <th>1980-12-16</th>\n",
              "      <td>0.371246</td>\n",
              "      <td>NaN</td>\n",
              "    </tr>\n",
              "  </tbody>\n",
              "</table>\n",
              "</div>"
            ],
            "text/plain": [
              "            Adj. Close   Adj. Volume\n",
              "Date                                \n",
              "1986-03-13    0.064720  1.031789e+09\n",
              "1986-03-14    0.067031  3.081600e+08\n",
              "1986-03-17    0.068187  1.331712e+08\n",
              "1980-12-12    0.422706           NaN\n",
              "1980-12-15    0.400652           NaN\n",
              "1980-12-16    0.371246           NaN"
            ]
          },
          "metadata": {
            "tags": []
          },
          "execution_count": 17
        }
      ]
    },
    {
      "metadata": {
        "id": "ctuRXZxDjJGj",
        "colab_type": "text"
      },
      "cell_type": "markdown",
      "source": [
        "\n",
        "\n",
        "> Since the rows originating from the appl DataFrame do not have a Volume column,\n",
        "pandas inserts NaN into the Volume column for those rows.\n",
        "The set of columns that results from a concatenation along the row axis is the result\n",
        "of relational algebra across the names of the columns. In this default scenario, the\n",
        "resulting column is the union of column names from each DataFrame . This can be\n",
        "changed to an intersection using the join parameter. The following command makes\n",
        "the set of resulting columns the intersection of the column names by specifying\n",
        "join='inner' :"
      ]
    },
    {
      "metadata": {
        "id": "gSuMeVdOi3n8",
        "colab_type": "code",
        "colab": {
          "base_uri": "https://localhost:8080/",
          "height": 254
        },
        "outputId": "8a6f1bff-a86a-4e72-d266-59a6e0281c20"
      },
      "cell_type": "code",
      "source": [
        "pd.concat([msftCV[:3], applC[:3]], join='inner')"
      ],
      "execution_count": 18,
      "outputs": [
        {
          "output_type": "execute_result",
          "data": {
            "text/html": [
              "<div>\n",
              "<style scoped>\n",
              "    .dataframe tbody tr th:only-of-type {\n",
              "        vertical-align: middle;\n",
              "    }\n",
              "\n",
              "    .dataframe tbody tr th {\n",
              "        vertical-align: top;\n",
              "    }\n",
              "\n",
              "    .dataframe thead th {\n",
              "        text-align: right;\n",
              "    }\n",
              "</style>\n",
              "<table border=\"1\" class=\"dataframe\">\n",
              "  <thead>\n",
              "    <tr style=\"text-align: right;\">\n",
              "      <th></th>\n",
              "      <th>Adj. Close</th>\n",
              "    </tr>\n",
              "    <tr>\n",
              "      <th>Date</th>\n",
              "      <th></th>\n",
              "    </tr>\n",
              "  </thead>\n",
              "  <tbody>\n",
              "    <tr>\n",
              "      <th>1986-03-13</th>\n",
              "      <td>0.064720</td>\n",
              "    </tr>\n",
              "    <tr>\n",
              "      <th>1986-03-14</th>\n",
              "      <td>0.067031</td>\n",
              "    </tr>\n",
              "    <tr>\n",
              "      <th>1986-03-17</th>\n",
              "      <td>0.068187</td>\n",
              "    </tr>\n",
              "    <tr>\n",
              "      <th>1980-12-12</th>\n",
              "      <td>0.422706</td>\n",
              "    </tr>\n",
              "    <tr>\n",
              "      <th>1980-12-15</th>\n",
              "      <td>0.400652</td>\n",
              "    </tr>\n",
              "    <tr>\n",
              "      <th>1980-12-16</th>\n",
              "      <td>0.371246</td>\n",
              "    </tr>\n",
              "  </tbody>\n",
              "</table>\n",
              "</div>"
            ],
            "text/plain": [
              "            Adj. Close\n",
              "Date                  \n",
              "1986-03-13    0.064720\n",
              "1986-03-14    0.067031\n",
              "1986-03-17    0.068187\n",
              "1980-12-12    0.422706\n",
              "1980-12-15    0.400652\n",
              "1980-12-16    0.371246"
            ]
          },
          "metadata": {
            "tags": []
          },
          "execution_count": 18
        }
      ]
    },
    {
      "metadata": {
        "id": "pNrYN946k_iF",
        "colab_type": "text"
      },
      "cell_type": "markdown",
      "source": [
        "\n",
        "\n",
        "> We can change the axis for concatenation to the columns using axis=1 :"
      ]
    },
    {
      "metadata": {
        "id": "b_Ho_dFHjqGT",
        "colab_type": "code",
        "colab": {
          "base_uri": "https://localhost:8080/",
          "height": 166
        },
        "outputId": "e2c41658-6ac9-4e95-97c4-3d2ca43c0934"
      },
      "cell_type": "code",
      "source": [
        "msftC = msft[['Adj. Close']]\n",
        "closes = pd.concat([msftJanClose[:3], applJanClose[:3]], axis=1)\n",
        "closes"
      ],
      "execution_count": 19,
      "outputs": [
        {
          "output_type": "execute_result",
          "data": {
            "text/html": [
              "<div>\n",
              "<style scoped>\n",
              "    .dataframe tbody tr th:only-of-type {\n",
              "        vertical-align: middle;\n",
              "    }\n",
              "\n",
              "    .dataframe tbody tr th {\n",
              "        vertical-align: top;\n",
              "    }\n",
              "\n",
              "    .dataframe thead th {\n",
              "        text-align: right;\n",
              "    }\n",
              "</style>\n",
              "<table border=\"1\" class=\"dataframe\">\n",
              "  <thead>\n",
              "    <tr style=\"text-align: right;\">\n",
              "      <th></th>\n",
              "      <th>Adj. Close</th>\n",
              "      <th>Adj. Close</th>\n",
              "    </tr>\n",
              "    <tr>\n",
              "      <th>Date</th>\n",
              "      <th></th>\n",
              "      <th></th>\n",
              "    </tr>\n",
              "  </thead>\n",
              "  <tbody>\n",
              "    <tr>\n",
              "      <th>2012-01-03</th>\n",
              "      <td>22.792249</td>\n",
              "      <td>52.848787</td>\n",
              "    </tr>\n",
              "    <tr>\n",
              "      <th>2012-01-04</th>\n",
              "      <td>23.332995</td>\n",
              "      <td>53.132802</td>\n",
              "    </tr>\n",
              "    <tr>\n",
              "      <th>2012-01-05</th>\n",
              "      <td>23.571435</td>\n",
              "      <td>53.722681</td>\n",
              "    </tr>\n",
              "  </tbody>\n",
              "</table>\n",
              "</div>"
            ],
            "text/plain": [
              "            Adj. Close  Adj. Close\n",
              "Date                              \n",
              "2012-01-03   22.792249   52.848787\n",
              "2012-01-04   23.332995   53.132802\n",
              "2012-01-05   23.571435   53.722681"
            ]
          },
          "metadata": {
            "tags": []
          },
          "execution_count": 19
        }
      ]
    },
    {
      "metadata": {
        "id": "8SMiSv13lqIm",
        "colab_type": "text"
      },
      "cell_type": "markdown",
      "source": [
        "\n",
        "\n",
        "> Note that this DataFrame has two Adj Close columns and only consists of 3 rows\n",
        "(the concatenation along axis=0 has 6 ). Because of the use of axis=1 , the union of\n",
        "the index labels is derived instead from the column names, and the columns are copied\n",
        "one by one in an orderly manner from the DataFrame objects, including duplicates.\n",
        "It is also possible to concatenate with multiple columns where the DataFrame objects\n",
        "do not have the same set of index labels. The following command concatenates the\n",
        "first five msftCV values and the first three applCV values:"
      ]
    },
    {
      "metadata": {
        "id": "nScSL1-clLqB",
        "colab_type": "code",
        "colab": {
          "base_uri": "https://localhost:8080/",
          "height": 254
        },
        "outputId": "9a227ab8-1aa2-47ec-ee42-09302a3881cf"
      },
      "cell_type": "code",
      "source": [
        "pd.concat([msftJanClose[:5], applJanClose[:3]], axis=1, keys=['MSFT', 'APPL'])"
      ],
      "execution_count": 20,
      "outputs": [
        {
          "output_type": "execute_result",
          "data": {
            "text/html": [
              "<div>\n",
              "<style scoped>\n",
              "    .dataframe tbody tr th:only-of-type {\n",
              "        vertical-align: middle;\n",
              "    }\n",
              "\n",
              "    .dataframe tbody tr th {\n",
              "        vertical-align: top;\n",
              "    }\n",
              "\n",
              "    .dataframe thead tr th {\n",
              "        text-align: left;\n",
              "    }\n",
              "\n",
              "    .dataframe thead tr:last-of-type th {\n",
              "        text-align: right;\n",
              "    }\n",
              "</style>\n",
              "<table border=\"1\" class=\"dataframe\">\n",
              "  <thead>\n",
              "    <tr>\n",
              "      <th></th>\n",
              "      <th>MSFT</th>\n",
              "      <th>APPL</th>\n",
              "    </tr>\n",
              "    <tr>\n",
              "      <th></th>\n",
              "      <th>Adj. Close</th>\n",
              "      <th>Adj. Close</th>\n",
              "    </tr>\n",
              "    <tr>\n",
              "      <th>Date</th>\n",
              "      <th></th>\n",
              "      <th></th>\n",
              "    </tr>\n",
              "  </thead>\n",
              "  <tbody>\n",
              "    <tr>\n",
              "      <th>2012-01-03</th>\n",
              "      <td>22.792249</td>\n",
              "      <td>52.848787</td>\n",
              "    </tr>\n",
              "    <tr>\n",
              "      <th>2012-01-04</th>\n",
              "      <td>23.332995</td>\n",
              "      <td>53.132802</td>\n",
              "    </tr>\n",
              "    <tr>\n",
              "      <th>2012-01-05</th>\n",
              "      <td>23.571435</td>\n",
              "      <td>53.722681</td>\n",
              "    </tr>\n",
              "    <tr>\n",
              "      <th>2012-01-06</th>\n",
              "      <td>23.933352</td>\n",
              "      <td>NaN</td>\n",
              "    </tr>\n",
              "    <tr>\n",
              "      <th>2012-01-09</th>\n",
              "      <td>23.622529</td>\n",
              "      <td>NaN</td>\n",
              "    </tr>\n",
              "  </tbody>\n",
              "</table>\n",
              "</div>"
            ],
            "text/plain": [
              "                 MSFT       APPL\n",
              "           Adj. Close Adj. Close\n",
              "Date                            \n",
              "2012-01-03  22.792249  52.848787\n",
              "2012-01-04  23.332995  53.132802\n",
              "2012-01-05  23.571435  53.722681\n",
              "2012-01-06  23.933352        NaN\n",
              "2012-01-09  23.622529        NaN"
            ]
          },
          "metadata": {
            "tags": []
          },
          "execution_count": 20
        }
      ]
    },
    {
      "metadata": {
        "id": "j_X9vWPcteCC",
        "colab_type": "text"
      },
      "cell_type": "markdown",
      "source": [
        "\n",
        "\n",
        "> This results in duplicate column names, so we use the keys parameter to create\n",
        "MultiIndex for the columns. Since there were row index labels that were not found\n",
        "in aaplCV , pandas fills those with NaN .\n",
        "Just as with concatenation along the row axis, the type of join performed by\n",
        "pd.concat() can be changed using the join parameter. The following command\n",
        "performs an inner join instead of an outer join, which results in the intersection of\n",
        "row index labels:"
      ]
    },
    {
      "metadata": {
        "id": "f_Rmv1Qvs3je",
        "colab_type": "code",
        "colab": {
          "base_uri": "https://localhost:8080/",
          "height": 195
        },
        "outputId": "686cdd6d-ba3d-43bf-df76-26e3b79601c4"
      },
      "cell_type": "code",
      "source": [
        "pd.concat([msftJanClose[:5], applJanClose[:3]], axis=1,join='inner', keys=['MSFT', 'AAPL'])"
      ],
      "execution_count": 21,
      "outputs": [
        {
          "output_type": "execute_result",
          "data": {
            "text/html": [
              "<div>\n",
              "<style scoped>\n",
              "    .dataframe tbody tr th:only-of-type {\n",
              "        vertical-align: middle;\n",
              "    }\n",
              "\n",
              "    .dataframe tbody tr th {\n",
              "        vertical-align: top;\n",
              "    }\n",
              "\n",
              "    .dataframe thead tr th {\n",
              "        text-align: left;\n",
              "    }\n",
              "\n",
              "    .dataframe thead tr:last-of-type th {\n",
              "        text-align: right;\n",
              "    }\n",
              "</style>\n",
              "<table border=\"1\" class=\"dataframe\">\n",
              "  <thead>\n",
              "    <tr>\n",
              "      <th></th>\n",
              "      <th>MSFT</th>\n",
              "      <th>AAPL</th>\n",
              "    </tr>\n",
              "    <tr>\n",
              "      <th></th>\n",
              "      <th>Adj. Close</th>\n",
              "      <th>Adj. Close</th>\n",
              "    </tr>\n",
              "    <tr>\n",
              "      <th>Date</th>\n",
              "      <th></th>\n",
              "      <th></th>\n",
              "    </tr>\n",
              "  </thead>\n",
              "  <tbody>\n",
              "    <tr>\n",
              "      <th>2012-01-03</th>\n",
              "      <td>22.792249</td>\n",
              "      <td>52.848787</td>\n",
              "    </tr>\n",
              "    <tr>\n",
              "      <th>2012-01-04</th>\n",
              "      <td>23.332995</td>\n",
              "      <td>53.132802</td>\n",
              "    </tr>\n",
              "    <tr>\n",
              "      <th>2012-01-05</th>\n",
              "      <td>23.571435</td>\n",
              "      <td>53.722681</td>\n",
              "    </tr>\n",
              "  </tbody>\n",
              "</table>\n",
              "</div>"
            ],
            "text/plain": [
              "                 MSFT       AAPL\n",
              "           Adj. Close Adj. Close\n",
              "Date                            \n",
              "2012-01-03  22.792249  52.848787\n",
              "2012-01-04  23.332995  53.132802\n",
              "2012-01-05  23.571435  53.722681"
            ]
          },
          "metadata": {
            "tags": []
          },
          "execution_count": 21
        }
      ]
    },
    {
      "metadata": {
        "id": "EiETHgC8uIUo",
        "colab_type": "text"
      },
      "cell_type": "markdown",
      "source": [
        "\n",
        "\n",
        "> The resulting DataFrame only has three rows because those index labels were the\n",
        "only ones in common in the two concatenated DataFrame objects.\n",
        "If you want to ignore indices in the result of pd.concat() , you can use the ignore_\n",
        "index=True parameter, which will drop the index and create a default zero-based\n",
        "integer index, as shown here:"
      ]
    },
    {
      "metadata": {
        "id": "44Z9tPL9t-89",
        "colab_type": "code",
        "colab": {
          "base_uri": "https://localhost:8080/",
          "height": 284
        },
        "outputId": "f4050c63-b523-4492-9db0-006f9ee3c252"
      },
      "cell_type": "code",
      "source": [
        "pd.concat([msftJanClose[:5], applJanClose[:3]], ignore_index=True)"
      ],
      "execution_count": 22,
      "outputs": [
        {
          "output_type": "execute_result",
          "data": {
            "text/html": [
              "<div>\n",
              "<style scoped>\n",
              "    .dataframe tbody tr th:only-of-type {\n",
              "        vertical-align: middle;\n",
              "    }\n",
              "\n",
              "    .dataframe tbody tr th {\n",
              "        vertical-align: top;\n",
              "    }\n",
              "\n",
              "    .dataframe thead th {\n",
              "        text-align: right;\n",
              "    }\n",
              "</style>\n",
              "<table border=\"1\" class=\"dataframe\">\n",
              "  <thead>\n",
              "    <tr style=\"text-align: right;\">\n",
              "      <th></th>\n",
              "      <th>Adj. Close</th>\n",
              "    </tr>\n",
              "  </thead>\n",
              "  <tbody>\n",
              "    <tr>\n",
              "      <th>0</th>\n",
              "      <td>22.792249</td>\n",
              "    </tr>\n",
              "    <tr>\n",
              "      <th>1</th>\n",
              "      <td>23.332995</td>\n",
              "    </tr>\n",
              "    <tr>\n",
              "      <th>2</th>\n",
              "      <td>23.571435</td>\n",
              "    </tr>\n",
              "    <tr>\n",
              "      <th>3</th>\n",
              "      <td>23.933352</td>\n",
              "    </tr>\n",
              "    <tr>\n",
              "      <th>4</th>\n",
              "      <td>23.622529</td>\n",
              "    </tr>\n",
              "    <tr>\n",
              "      <th>5</th>\n",
              "      <td>52.848787</td>\n",
              "    </tr>\n",
              "    <tr>\n",
              "      <th>6</th>\n",
              "      <td>53.132802</td>\n",
              "    </tr>\n",
              "    <tr>\n",
              "      <th>7</th>\n",
              "      <td>53.722681</td>\n",
              "    </tr>\n",
              "  </tbody>\n",
              "</table>\n",
              "</div>"
            ],
            "text/plain": [
              "   Adj. Close\n",
              "0   22.792249\n",
              "1   23.332995\n",
              "2   23.571435\n",
              "3   23.933352\n",
              "4   23.622529\n",
              "5   52.848787\n",
              "6   53.132802\n",
              "7   53.722681"
            ]
          },
          "metadata": {
            "tags": []
          },
          "execution_count": 22
        }
      ]
    },
    {
      "metadata": {
        "id": "-n-ZAhfJzTZC",
        "colab_type": "text"
      },
      "cell_type": "markdown",
      "source": [
        "\n",
        "\n",
        "> **C. Merging DataFrame objects**\n",
        "\n",
        "\n",
        "> The combination of pandas objects is allowed using relational database-like join\n",
        "operations, high-performance in-memory operations, and the pd.merge() function.\n",
        "Merging in pandas differs from concatenation in that the pd.merge() function\n",
        "combines data based on the values of the data in one or more columns instead of\n",
        "using the index label values along a specific axis.\n",
        "The default process that pd.merge() uses is to first identify the columns the data of\n",
        "which will be used in the merge, and then to perform an inner join based upon that\n",
        "information. The columns used in the join are, by default, selected as those in both\n",
        "DataFrame objects with common names (an intersection of the column labels).\n",
        "To demonstrate a merge, we will use the following two DataFrame objects, one with\n",
        "the volumes and the other with the adjusted close values for MSFT. Both have the\n",
        "index reset:\n",
        "\n"
      ]
    },
    {
      "metadata": {
        "id": "KjHTdY1ouVPc",
        "colab_type": "code",
        "colab": {}
      },
      "cell_type": "code",
      "source": [
        "msftVR = msft[['Adj. Volume']].reset_index()\n",
        "msftCR = msft[['Adj. Close']].reset_index()\n"
      ],
      "execution_count": 0,
      "outputs": []
    },
    {
      "metadata": {
        "id": "d0xJtTN_3oWF",
        "colab_type": "code",
        "colab": {
          "base_uri": "https://localhost:8080/",
          "height": 136
        },
        "outputId": "236a437f-0350-42eb-8df8-9991f47ef6b8"
      },
      "cell_type": "code",
      "source": [
        "msftVR[:3]"
      ],
      "execution_count": 24,
      "outputs": [
        {
          "output_type": "execute_result",
          "data": {
            "text/html": [
              "<div>\n",
              "<style scoped>\n",
              "    .dataframe tbody tr th:only-of-type {\n",
              "        vertical-align: middle;\n",
              "    }\n",
              "\n",
              "    .dataframe tbody tr th {\n",
              "        vertical-align: top;\n",
              "    }\n",
              "\n",
              "    .dataframe thead th {\n",
              "        text-align: right;\n",
              "    }\n",
              "</style>\n",
              "<table border=\"1\" class=\"dataframe\">\n",
              "  <thead>\n",
              "    <tr style=\"text-align: right;\">\n",
              "      <th></th>\n",
              "      <th>Date</th>\n",
              "      <th>Adj. Volume</th>\n",
              "    </tr>\n",
              "  </thead>\n",
              "  <tbody>\n",
              "    <tr>\n",
              "      <th>0</th>\n",
              "      <td>1986-03-13</td>\n",
              "      <td>1.031789e+09</td>\n",
              "    </tr>\n",
              "    <tr>\n",
              "      <th>1</th>\n",
              "      <td>1986-03-14</td>\n",
              "      <td>3.081600e+08</td>\n",
              "    </tr>\n",
              "    <tr>\n",
              "      <th>2</th>\n",
              "      <td>1986-03-17</td>\n",
              "      <td>1.331712e+08</td>\n",
              "    </tr>\n",
              "  </tbody>\n",
              "</table>\n",
              "</div>"
            ],
            "text/plain": [
              "        Date   Adj. Volume\n",
              "0 1986-03-13  1.031789e+09\n",
              "1 1986-03-14  3.081600e+08\n",
              "2 1986-03-17  1.331712e+08"
            ]
          },
          "metadata": {
            "tags": []
          },
          "execution_count": 24
        }
      ]
    },
    {
      "metadata": {
        "id": "Xg1D0lTQ6VTN",
        "colab_type": "code",
        "colab": {
          "base_uri": "https://localhost:8080/",
          "height": 136
        },
        "outputId": "94f33e43-8149-4543-d8b3-a69ae728be70"
      },
      "cell_type": "code",
      "source": [
        "msftCR[:3]"
      ],
      "execution_count": 25,
      "outputs": [
        {
          "output_type": "execute_result",
          "data": {
            "text/html": [
              "<div>\n",
              "<style scoped>\n",
              "    .dataframe tbody tr th:only-of-type {\n",
              "        vertical-align: middle;\n",
              "    }\n",
              "\n",
              "    .dataframe tbody tr th {\n",
              "        vertical-align: top;\n",
              "    }\n",
              "\n",
              "    .dataframe thead th {\n",
              "        text-align: right;\n",
              "    }\n",
              "</style>\n",
              "<table border=\"1\" class=\"dataframe\">\n",
              "  <thead>\n",
              "    <tr style=\"text-align: right;\">\n",
              "      <th></th>\n",
              "      <th>Date</th>\n",
              "      <th>Adj. Close</th>\n",
              "    </tr>\n",
              "  </thead>\n",
              "  <tbody>\n",
              "    <tr>\n",
              "      <th>0</th>\n",
              "      <td>1986-03-13</td>\n",
              "      <td>0.064720</td>\n",
              "    </tr>\n",
              "    <tr>\n",
              "      <th>1</th>\n",
              "      <td>1986-03-14</td>\n",
              "      <td>0.067031</td>\n",
              "    </tr>\n",
              "    <tr>\n",
              "      <th>2</th>\n",
              "      <td>1986-03-17</td>\n",
              "      <td>0.068187</td>\n",
              "    </tr>\n",
              "  </tbody>\n",
              "</table>\n",
              "</div>"
            ],
            "text/plain": [
              "        Date  Adj. Close\n",
              "0 1986-03-13    0.064720\n",
              "1 1986-03-14    0.067031\n",
              "2 1986-03-17    0.068187"
            ]
          },
          "metadata": {
            "tags": []
          },
          "execution_count": 25
        }
      ]
    },
    {
      "metadata": {
        "id": "SnKG1mUR6X7W",
        "colab_type": "code",
        "colab": {
          "base_uri": "https://localhost:8080/",
          "height": 195
        },
        "outputId": "ef2d6acc-75e2-4134-9352-a9c5f2118db9"
      },
      "cell_type": "code",
      "source": [
        "msftCVR = pd.merge(msftCR, msftVR)\n",
        "msftCVR[:5]"
      ],
      "execution_count": 26,
      "outputs": [
        {
          "output_type": "execute_result",
          "data": {
            "text/html": [
              "<div>\n",
              "<style scoped>\n",
              "    .dataframe tbody tr th:only-of-type {\n",
              "        vertical-align: middle;\n",
              "    }\n",
              "\n",
              "    .dataframe tbody tr th {\n",
              "        vertical-align: top;\n",
              "    }\n",
              "\n",
              "    .dataframe thead th {\n",
              "        text-align: right;\n",
              "    }\n",
              "</style>\n",
              "<table border=\"1\" class=\"dataframe\">\n",
              "  <thead>\n",
              "    <tr style=\"text-align: right;\">\n",
              "      <th></th>\n",
              "      <th>Date</th>\n",
              "      <th>Adj. Close</th>\n",
              "      <th>Adj. Volume</th>\n",
              "    </tr>\n",
              "  </thead>\n",
              "  <tbody>\n",
              "    <tr>\n",
              "      <th>0</th>\n",
              "      <td>1986-03-13</td>\n",
              "      <td>0.064720</td>\n",
              "      <td>1.031789e+09</td>\n",
              "    </tr>\n",
              "    <tr>\n",
              "      <th>1</th>\n",
              "      <td>1986-03-14</td>\n",
              "      <td>0.067031</td>\n",
              "      <td>3.081600e+08</td>\n",
              "    </tr>\n",
              "    <tr>\n",
              "      <th>2</th>\n",
              "      <td>1986-03-17</td>\n",
              "      <td>0.068187</td>\n",
              "      <td>1.331712e+08</td>\n",
              "    </tr>\n",
              "    <tr>\n",
              "      <th>3</th>\n",
              "      <td>1986-03-18</td>\n",
              "      <td>0.066454</td>\n",
              "      <td>6.776640e+07</td>\n",
              "    </tr>\n",
              "    <tr>\n",
              "      <th>4</th>\n",
              "      <td>1986-03-19</td>\n",
              "      <td>0.065298</td>\n",
              "      <td>4.789440e+07</td>\n",
              "    </tr>\n",
              "  </tbody>\n",
              "</table>\n",
              "</div>"
            ],
            "text/plain": [
              "        Date  Adj. Close   Adj. Volume\n",
              "0 1986-03-13    0.064720  1.031789e+09\n",
              "1 1986-03-14    0.067031  3.081600e+08\n",
              "2 1986-03-17    0.068187  1.331712e+08\n",
              "3 1986-03-18    0.066454  6.776640e+07\n",
              "4 1986-03-19    0.065298  4.789440e+07"
            ]
          },
          "metadata": {
            "tags": []
          },
          "execution_count": 26
        }
      ]
    },
    {
      "metadata": {
        "id": "cckGfkRj6wg5",
        "colab_type": "text"
      },
      "cell_type": "markdown",
      "source": [
        "\n",
        "\n",
        "> Since both msftCR, msftVR have their indexes reset to level=0. Instead of using Date as the index, these have Date as a column so that it can be used\n",
        "in the merge. Our goal is to create a DataFrame that contains a Date column and\n",
        "both AdjClose and AdjVolume columns. This has been accomplished with the above statement. \n",
        "\n",
        "\n",
        "> The column in common is Date ; therefore, pandas performs an inner join on the\n",
        "values in that column across both DataFrame objects. Once that set is calculated,\n",
        "pandas copies in the appropriate values for each row from both DataFrame objects.\n",
        "The types of joins supported by pd.merge() are similar to the different types of joins\n",
        "supported in relational databases. They are as follows:\n",
        "\n",
        "\n",
        "\n",
        "> 1.   left : Use keys from the left DataFrame (equivalent to SQL's left-outer join)\n",
        "2.   right : Use keys from the right DataFrame (equivalent to SQL's right-outer\n",
        "join)\n",
        "3.   outer : Use the union of keys from both DataFrame objects (equivalent to\n",
        "SQL's full outer join)\n",
        "4.    inner : Use the intersection of keys from both DataFrame objects (equivalent\n",
        "to SQL's inner join)\n",
        "\n",
        "\n",
        "\n",
        "> To demonstrate each difference in the results between inner and outer joins, we will\n",
        "use the following data:\n",
        "\n",
        "\n"
      ]
    },
    {
      "metadata": {
        "id": "qhgeii4n6cTU",
        "colab_type": "code",
        "colab": {}
      },
      "cell_type": "code",
      "source": [
        "msftCR0_5 = msftCR[0:5]\n",
        "msftVR2_4 = msftVR[2:4]"
      ],
      "execution_count": 0,
      "outputs": []
    },
    {
      "metadata": {
        "id": "UA5C-i-f86UA",
        "colab_type": "code",
        "colab": {
          "base_uri": "https://localhost:8080/",
          "height": 195
        },
        "outputId": "30d2666f-4f4e-4da8-ef10-9494352f978a"
      },
      "cell_type": "code",
      "source": [
        "msftCR0_5"
      ],
      "execution_count": 28,
      "outputs": [
        {
          "output_type": "execute_result",
          "data": {
            "text/html": [
              "<div>\n",
              "<style scoped>\n",
              "    .dataframe tbody tr th:only-of-type {\n",
              "        vertical-align: middle;\n",
              "    }\n",
              "\n",
              "    .dataframe tbody tr th {\n",
              "        vertical-align: top;\n",
              "    }\n",
              "\n",
              "    .dataframe thead th {\n",
              "        text-align: right;\n",
              "    }\n",
              "</style>\n",
              "<table border=\"1\" class=\"dataframe\">\n",
              "  <thead>\n",
              "    <tr style=\"text-align: right;\">\n",
              "      <th></th>\n",
              "      <th>Date</th>\n",
              "      <th>Adj. Close</th>\n",
              "    </tr>\n",
              "  </thead>\n",
              "  <tbody>\n",
              "    <tr>\n",
              "      <th>0</th>\n",
              "      <td>1986-03-13</td>\n",
              "      <td>0.064720</td>\n",
              "    </tr>\n",
              "    <tr>\n",
              "      <th>1</th>\n",
              "      <td>1986-03-14</td>\n",
              "      <td>0.067031</td>\n",
              "    </tr>\n",
              "    <tr>\n",
              "      <th>2</th>\n",
              "      <td>1986-03-17</td>\n",
              "      <td>0.068187</td>\n",
              "    </tr>\n",
              "    <tr>\n",
              "      <th>3</th>\n",
              "      <td>1986-03-18</td>\n",
              "      <td>0.066454</td>\n",
              "    </tr>\n",
              "    <tr>\n",
              "      <th>4</th>\n",
              "      <td>1986-03-19</td>\n",
              "      <td>0.065298</td>\n",
              "    </tr>\n",
              "  </tbody>\n",
              "</table>\n",
              "</div>"
            ],
            "text/plain": [
              "        Date  Adj. Close\n",
              "0 1986-03-13    0.064720\n",
              "1 1986-03-14    0.067031\n",
              "2 1986-03-17    0.068187\n",
              "3 1986-03-18    0.066454\n",
              "4 1986-03-19    0.065298"
            ]
          },
          "metadata": {
            "tags": []
          },
          "execution_count": 28
        }
      ]
    },
    {
      "metadata": {
        "id": "BMNXmNad88pd",
        "colab_type": "code",
        "colab": {
          "base_uri": "https://localhost:8080/",
          "height": 106
        },
        "outputId": "a9d499ab-2362-4a49-efa3-714f5e3af664"
      },
      "cell_type": "code",
      "source": [
        "msftVR2_4"
      ],
      "execution_count": 29,
      "outputs": [
        {
          "output_type": "execute_result",
          "data": {
            "text/html": [
              "<div>\n",
              "<style scoped>\n",
              "    .dataframe tbody tr th:only-of-type {\n",
              "        vertical-align: middle;\n",
              "    }\n",
              "\n",
              "    .dataframe tbody tr th {\n",
              "        vertical-align: top;\n",
              "    }\n",
              "\n",
              "    .dataframe thead th {\n",
              "        text-align: right;\n",
              "    }\n",
              "</style>\n",
              "<table border=\"1\" class=\"dataframe\">\n",
              "  <thead>\n",
              "    <tr style=\"text-align: right;\">\n",
              "      <th></th>\n",
              "      <th>Date</th>\n",
              "      <th>Adj. Volume</th>\n",
              "    </tr>\n",
              "  </thead>\n",
              "  <tbody>\n",
              "    <tr>\n",
              "      <th>2</th>\n",
              "      <td>1986-03-17</td>\n",
              "      <td>133171200.0</td>\n",
              "    </tr>\n",
              "    <tr>\n",
              "      <th>3</th>\n",
              "      <td>1986-03-18</td>\n",
              "      <td>67766400.0</td>\n",
              "    </tr>\n",
              "  </tbody>\n",
              "</table>\n",
              "</div>"
            ],
            "text/plain": [
              "        Date  Adj. Volume\n",
              "2 1986-03-17  133171200.0\n",
              "3 1986-03-18   67766400.0"
            ]
          },
          "metadata": {
            "tags": []
          },
          "execution_count": 29
        }
      ]
    },
    {
      "metadata": {
        "id": "X-ZjojyB8-ec",
        "colab_type": "code",
        "colab": {
          "base_uri": "https://localhost:8080/",
          "height": 106
        },
        "outputId": "93634801-3b0b-46b4-d2f5-6e1bfc733203"
      },
      "cell_type": "code",
      "source": [
        "pd.merge(msftCR0_5, msftVR2_4)"
      ],
      "execution_count": 30,
      "outputs": [
        {
          "output_type": "execute_result",
          "data": {
            "text/html": [
              "<div>\n",
              "<style scoped>\n",
              "    .dataframe tbody tr th:only-of-type {\n",
              "        vertical-align: middle;\n",
              "    }\n",
              "\n",
              "    .dataframe tbody tr th {\n",
              "        vertical-align: top;\n",
              "    }\n",
              "\n",
              "    .dataframe thead th {\n",
              "        text-align: right;\n",
              "    }\n",
              "</style>\n",
              "<table border=\"1\" class=\"dataframe\">\n",
              "  <thead>\n",
              "    <tr style=\"text-align: right;\">\n",
              "      <th></th>\n",
              "      <th>Date</th>\n",
              "      <th>Adj. Close</th>\n",
              "      <th>Adj. Volume</th>\n",
              "    </tr>\n",
              "  </thead>\n",
              "  <tbody>\n",
              "    <tr>\n",
              "      <th>0</th>\n",
              "      <td>1986-03-17</td>\n",
              "      <td>0.068187</td>\n",
              "      <td>133171200.0</td>\n",
              "    </tr>\n",
              "    <tr>\n",
              "      <th>1</th>\n",
              "      <td>1986-03-18</td>\n",
              "      <td>0.066454</td>\n",
              "      <td>67766400.0</td>\n",
              "    </tr>\n",
              "  </tbody>\n",
              "</table>\n",
              "</div>"
            ],
            "text/plain": [
              "        Date  Adj. Close  Adj. Volume\n",
              "0 1986-03-17    0.068187  133171200.0\n",
              "1 1986-03-18    0.066454   67766400.0"
            ]
          },
          "metadata": {
            "tags": []
          },
          "execution_count": 30
        }
      ]
    },
    {
      "metadata": {
        "id": "VsMh1zsv9SK2",
        "colab_type": "text"
      },
      "cell_type": "markdown",
      "source": [
        "\n",
        "\n",
        "> as shown above, For an inner join, since there are only two rows with matching dates, the result only\n",
        "has two rows and merges the DataFrame objects where Date values are in common.\n",
        "\n",
        "\n",
        ">   This can be changed to an outer join with how='outer' . All rows from the outer\n",
        "DataFrame are returned ( msftCR0_5 ), and values not found in the inner DataFrame\n",
        "( msftVR2_4 ) are replaced with NaN :\n",
        "\n"
      ]
    },
    {
      "metadata": {
        "id": "dQ_EPXwA9Bu_",
        "colab_type": "code",
        "colab": {
          "base_uri": "https://localhost:8080/",
          "height": 195
        },
        "outputId": "722728b0-96ab-4812-98ea-f718830f856e"
      },
      "cell_type": "code",
      "source": [
        "pd.merge(msftCR0_5, msftVR2_4, how='outer')"
      ],
      "execution_count": 31,
      "outputs": [
        {
          "output_type": "execute_result",
          "data": {
            "text/html": [
              "<div>\n",
              "<style scoped>\n",
              "    .dataframe tbody tr th:only-of-type {\n",
              "        vertical-align: middle;\n",
              "    }\n",
              "\n",
              "    .dataframe tbody tr th {\n",
              "        vertical-align: top;\n",
              "    }\n",
              "\n",
              "    .dataframe thead th {\n",
              "        text-align: right;\n",
              "    }\n",
              "</style>\n",
              "<table border=\"1\" class=\"dataframe\">\n",
              "  <thead>\n",
              "    <tr style=\"text-align: right;\">\n",
              "      <th></th>\n",
              "      <th>Date</th>\n",
              "      <th>Adj. Close</th>\n",
              "      <th>Adj. Volume</th>\n",
              "    </tr>\n",
              "  </thead>\n",
              "  <tbody>\n",
              "    <tr>\n",
              "      <th>0</th>\n",
              "      <td>1986-03-13</td>\n",
              "      <td>0.064720</td>\n",
              "      <td>NaN</td>\n",
              "    </tr>\n",
              "    <tr>\n",
              "      <th>1</th>\n",
              "      <td>1986-03-14</td>\n",
              "      <td>0.067031</td>\n",
              "      <td>NaN</td>\n",
              "    </tr>\n",
              "    <tr>\n",
              "      <th>2</th>\n",
              "      <td>1986-03-17</td>\n",
              "      <td>0.068187</td>\n",
              "      <td>133171200.0</td>\n",
              "    </tr>\n",
              "    <tr>\n",
              "      <th>3</th>\n",
              "      <td>1986-03-18</td>\n",
              "      <td>0.066454</td>\n",
              "      <td>67766400.0</td>\n",
              "    </tr>\n",
              "    <tr>\n",
              "      <th>4</th>\n",
              "      <td>1986-03-19</td>\n",
              "      <td>0.065298</td>\n",
              "      <td>NaN</td>\n",
              "    </tr>\n",
              "  </tbody>\n",
              "</table>\n",
              "</div>"
            ],
            "text/plain": [
              "        Date  Adj. Close  Adj. Volume\n",
              "0 1986-03-13    0.064720          NaN\n",
              "1 1986-03-14    0.067031          NaN\n",
              "2 1986-03-17    0.068187  133171200.0\n",
              "3 1986-03-18    0.066454   67766400.0\n",
              "4 1986-03-19    0.065298          NaN"
            ]
          },
          "metadata": {
            "tags": []
          },
          "execution_count": 31
        }
      ]
    },
    {
      "metadata": {
        "id": "iN2UUt089nFE",
        "colab_type": "text"
      },
      "cell_type": "markdown",
      "source": [
        "\n",
        "\n",
        "> **D. Pivoting**\n",
        "\n",
        "\n",
        "> Financial data is often stored in a format where the data is not normalized and,\n",
        "therefore, has repeated values in many columns or values that logically should exist\n",
        "in other tables. An example of this would be the following, where the historical\n",
        "prices for multiple stocks are represented in a single DataFrame using a Symbol\n",
        "column. The following command creates a DataFrame with this schema and\n",
        "populates the records:\n",
        "\n",
        "\n"
      ]
    },
    {
      "metadata": {
        "id": "e4qomBp89bzA",
        "colab_type": "code",
        "colab": {
          "base_uri": "https://localhost:8080/",
          "height": 225
        },
        "outputId": "04605cd5-44bd-4005-8f69-446a24d15210"
      },
      "cell_type": "code",
      "source": [
        "msftJan = msft['2012-01']\n",
        "applJan = appl['2012-01']\n",
        "msftJan.insert(0, 'Symbol', 'MSFT')\n",
        "applJan.insert(0, 'Symbol', 'APPL')\n",
        "combined = pd.concat([msftJan, applJan]).sort_index()\n",
        "janData = combined.reset_index();\n",
        "janData[:6]"
      ],
      "execution_count": 32,
      "outputs": [
        {
          "output_type": "execute_result",
          "data": {
            "text/html": [
              "<div>\n",
              "<style scoped>\n",
              "    .dataframe tbody tr th:only-of-type {\n",
              "        vertical-align: middle;\n",
              "    }\n",
              "\n",
              "    .dataframe tbody tr th {\n",
              "        vertical-align: top;\n",
              "    }\n",
              "\n",
              "    .dataframe thead th {\n",
              "        text-align: right;\n",
              "    }\n",
              "</style>\n",
              "<table border=\"1\" class=\"dataframe\">\n",
              "  <thead>\n",
              "    <tr style=\"text-align: right;\">\n",
              "      <th></th>\n",
              "      <th>Date</th>\n",
              "      <th>Symbol</th>\n",
              "      <th>Open</th>\n",
              "      <th>High</th>\n",
              "      <th>Low</th>\n",
              "      <th>Close</th>\n",
              "      <th>Volume</th>\n",
              "      <th>Ex-Dividend</th>\n",
              "      <th>Split Ratio</th>\n",
              "      <th>Adj. Open</th>\n",
              "      <th>Adj. High</th>\n",
              "      <th>Adj. Low</th>\n",
              "      <th>Adj. Close</th>\n",
              "      <th>Adj. Volume</th>\n",
              "    </tr>\n",
              "  </thead>\n",
              "  <tbody>\n",
              "    <tr>\n",
              "      <th>0</th>\n",
              "      <td>2012-01-03</td>\n",
              "      <td>MSFT</td>\n",
              "      <td>26.5500</td>\n",
              "      <td>26.960</td>\n",
              "      <td>26.39</td>\n",
              "      <td>26.765</td>\n",
              "      <td>64731500.0</td>\n",
              "      <td>0.0</td>\n",
              "      <td>1.0</td>\n",
              "      <td>22.609162</td>\n",
              "      <td>22.958305</td>\n",
              "      <td>22.472910</td>\n",
              "      <td>22.792249</td>\n",
              "      <td>64731500.0</td>\n",
              "    </tr>\n",
              "    <tr>\n",
              "      <th>1</th>\n",
              "      <td>2012-01-03</td>\n",
              "      <td>APPL</td>\n",
              "      <td>409.4000</td>\n",
              "      <td>412.500</td>\n",
              "      <td>409.00</td>\n",
              "      <td>411.230</td>\n",
              "      <td>10793600.0</td>\n",
              "      <td>0.0</td>\n",
              "      <td>1.0</td>\n",
              "      <td>52.613606</td>\n",
              "      <td>53.011999</td>\n",
              "      <td>52.562200</td>\n",
              "      <td>52.848787</td>\n",
              "      <td>75555200.0</td>\n",
              "    </tr>\n",
              "    <tr>\n",
              "      <th>2</th>\n",
              "      <td>2012-01-04</td>\n",
              "      <td>MSFT</td>\n",
              "      <td>26.8199</td>\n",
              "      <td>27.470</td>\n",
              "      <td>26.78</td>\n",
              "      <td>27.400</td>\n",
              "      <td>80516100.0</td>\n",
              "      <td>0.0</td>\n",
              "      <td>1.0</td>\n",
              "      <td>22.839000</td>\n",
              "      <td>23.392605</td>\n",
              "      <td>22.805022</td>\n",
              "      <td>23.332995</td>\n",
              "      <td>80516100.0</td>\n",
              "    </tr>\n",
              "    <tr>\n",
              "      <th>3</th>\n",
              "      <td>2012-01-04</td>\n",
              "      <td>APPL</td>\n",
              "      <td>410.0000</td>\n",
              "      <td>414.680</td>\n",
              "      <td>409.28</td>\n",
              "      <td>413.440</td>\n",
              "      <td>9286500.0</td>\n",
              "      <td>0.0</td>\n",
              "      <td>1.0</td>\n",
              "      <td>52.690714</td>\n",
              "      <td>53.292160</td>\n",
              "      <td>52.598184</td>\n",
              "      <td>53.132802</td>\n",
              "      <td>65005500.0</td>\n",
              "    </tr>\n",
              "    <tr>\n",
              "      <th>4</th>\n",
              "      <td>2012-01-05</td>\n",
              "      <td>MSFT</td>\n",
              "      <td>27.3800</td>\n",
              "      <td>27.728</td>\n",
              "      <td>27.29</td>\n",
              "      <td>27.680</td>\n",
              "      <td>56081400.0</td>\n",
              "      <td>0.0</td>\n",
              "      <td>1.0</td>\n",
              "      <td>23.315964</td>\n",
              "      <td>23.612310</td>\n",
              "      <td>23.239323</td>\n",
              "      <td>23.571435</td>\n",
              "      <td>56081400.0</td>\n",
              "    </tr>\n",
              "    <tr>\n",
              "      <th>5</th>\n",
              "      <td>2012-01-05</td>\n",
              "      <td>APPL</td>\n",
              "      <td>414.9500</td>\n",
              "      <td>418.550</td>\n",
              "      <td>412.67</td>\n",
              "      <td>418.030</td>\n",
              "      <td>9688200.0</td>\n",
              "      <td>0.0</td>\n",
              "      <td>1.0</td>\n",
              "      <td>53.326858</td>\n",
              "      <td>53.789509</td>\n",
              "      <td>53.033847</td>\n",
              "      <td>53.722681</td>\n",
              "      <td>67817400.0</td>\n",
              "    </tr>\n",
              "  </tbody>\n",
              "</table>\n",
              "</div>"
            ],
            "text/plain": [
              "        Date Symbol      Open     High     Low    Close      Volume  \\\n",
              "0 2012-01-03   MSFT   26.5500   26.960   26.39   26.765  64731500.0   \n",
              "1 2012-01-03   APPL  409.4000  412.500  409.00  411.230  10793600.0   \n",
              "2 2012-01-04   MSFT   26.8199   27.470   26.78   27.400  80516100.0   \n",
              "3 2012-01-04   APPL  410.0000  414.680  409.28  413.440   9286500.0   \n",
              "4 2012-01-05   MSFT   27.3800   27.728   27.29   27.680  56081400.0   \n",
              "5 2012-01-05   APPL  414.9500  418.550  412.67  418.030   9688200.0   \n",
              "\n",
              "   Ex-Dividend  Split Ratio  Adj. Open  Adj. High   Adj. Low  Adj. Close  \\\n",
              "0          0.0          1.0  22.609162  22.958305  22.472910   22.792249   \n",
              "1          0.0          1.0  52.613606  53.011999  52.562200   52.848787   \n",
              "2          0.0          1.0  22.839000  23.392605  22.805022   23.332995   \n",
              "3          0.0          1.0  52.690714  53.292160  52.598184   53.132802   \n",
              "4          0.0          1.0  23.315964  23.612310  23.239323   23.571435   \n",
              "5          0.0          1.0  53.326858  53.789509  53.033847   53.722681   \n",
              "\n",
              "   Adj. Volume  \n",
              "0   64731500.0  \n",
              "1   75555200.0  \n",
              "2   80516100.0  \n",
              "3   65005500.0  \n",
              "4   56081400.0  \n",
              "5   67817400.0  "
            ]
          },
          "metadata": {
            "tags": []
          },
          "execution_count": 32
        }
      ]
    },
    {
      "metadata": {
        "id": "tMj_G8OiC9FH",
        "colab_type": "text"
      },
      "cell_type": "markdown",
      "source": [
        "\n",
        "\n",
        "> Now let's suppose we want to extract, from this DataFrame , a new DataFrame that\n",
        "is indexed by date and has columns representing the Adj. Close value for all of the\n",
        "stocks listed in the Symbol column. This can be performed using the .pivot()\n",
        "method of the DataFrame :\n",
        "\n"
      ]
    },
    {
      "metadata": {
        "id": "OYU5Rx4XBBjH",
        "colab_type": "code",
        "colab": {}
      },
      "cell_type": "code",
      "source": [
        "closes = janData.pivot(index='Date', columns='Symbol', values='Adj. Close')"
      ],
      "execution_count": 0,
      "outputs": []
    },
    {
      "metadata": {
        "id": "tTTUq3CIDn1C",
        "colab_type": "code",
        "colab": {
          "base_uri": "https://localhost:8080/",
          "height": 166
        },
        "outputId": "8c86ea55-3dd0-4a6e-c655-677cc51c2d24"
      },
      "cell_type": "code",
      "source": [
        "closes[:3]"
      ],
      "execution_count": 34,
      "outputs": [
        {
          "output_type": "execute_result",
          "data": {
            "text/html": [
              "<div>\n",
              "<style scoped>\n",
              "    .dataframe tbody tr th:only-of-type {\n",
              "        vertical-align: middle;\n",
              "    }\n",
              "\n",
              "    .dataframe tbody tr th {\n",
              "        vertical-align: top;\n",
              "    }\n",
              "\n",
              "    .dataframe thead th {\n",
              "        text-align: right;\n",
              "    }\n",
              "</style>\n",
              "<table border=\"1\" class=\"dataframe\">\n",
              "  <thead>\n",
              "    <tr style=\"text-align: right;\">\n",
              "      <th>Symbol</th>\n",
              "      <th>APPL</th>\n",
              "      <th>MSFT</th>\n",
              "    </tr>\n",
              "    <tr>\n",
              "      <th>Date</th>\n",
              "      <th></th>\n",
              "      <th></th>\n",
              "    </tr>\n",
              "  </thead>\n",
              "  <tbody>\n",
              "    <tr>\n",
              "      <th>2012-01-03</th>\n",
              "      <td>52.848787</td>\n",
              "      <td>22.792249</td>\n",
              "    </tr>\n",
              "    <tr>\n",
              "      <th>2012-01-04</th>\n",
              "      <td>53.132802</td>\n",
              "      <td>23.332995</td>\n",
              "    </tr>\n",
              "    <tr>\n",
              "      <th>2012-01-05</th>\n",
              "      <td>53.722681</td>\n",
              "      <td>23.571435</td>\n",
              "    </tr>\n",
              "  </tbody>\n",
              "</table>\n",
              "</div>"
            ],
            "text/plain": [
              "Symbol           APPL       MSFT\n",
              "Date                            \n",
              "2012-01-03  52.848787  22.792249\n",
              "2012-01-04  53.132802  23.332995\n",
              "2012-01-05  53.722681  23.571435"
            ]
          },
          "metadata": {
            "tags": []
          },
          "execution_count": 34
        }
      ]
    },
    {
      "metadata": {
        "id": "DWh-IpWMD4fK",
        "colab_type": "text"
      },
      "cell_type": "markdown",
      "source": [
        "\n",
        "\n",
        "> This has taken all the distinct values from the Symbol column, pivoted them into\n",
        "columns on the new DataFrame , and then entered the values in those columns from\n",
        "the Adj. Close value for the specific symbol from the original DataFrame .\n",
        "\n",
        "\n",
        "\n",
        "\n",
        "> **E. Stacking and unstacking**\n",
        "\n",
        "\n",
        "> The DataFrame methods similar in operation to the pivot function are .stack() and\n",
        ".unstack() . Stacking unpivots the column labels into another level of the index. To\n",
        "demonstrate this, the following command pivots the MSFT and APPL columns into\n",
        "the index:\n",
        "\n",
        "\n",
        "\n"
      ]
    },
    {
      "metadata": {
        "id": "HhEyEcNFDp7x",
        "colab_type": "code",
        "colab": {
          "base_uri": "https://localhost:8080/",
          "height": 722
        },
        "outputId": "3a6e3317-81be-4813-935b-1e96f9c7e773"
      },
      "cell_type": "code",
      "source": [
        "stackedCloses = closes.stack()\n",
        "stackedCloses"
      ],
      "execution_count": 35,
      "outputs": [
        {
          "output_type": "execute_result",
          "data": {
            "text/plain": [
              "Date        Symbol\n",
              "2012-01-03  APPL      52.848787\n",
              "            MSFT      22.792249\n",
              "2012-01-04  APPL      53.132802\n",
              "            MSFT      23.332995\n",
              "2012-01-05  APPL      53.722681\n",
              "            MSFT      23.571435\n",
              "2012-01-06  APPL      54.284287\n",
              "            MSFT      23.933352\n",
              "2012-01-09  APPL      54.198183\n",
              "            MSFT      23.622529\n",
              "2012-01-10  APPL      54.392239\n",
              "            MSFT      23.707686\n",
              "2012-01-11  APPL      54.303564\n",
              "            MSFT      23.605497\n",
              "2012-01-12  APPL      54.154488\n",
              "            MSFT      23.843937\n",
              "2012-01-13  APPL      53.951436\n",
              "            MSFT      24.056829\n",
              "2012-01-17  APPL      54.579869\n",
              "            MSFT      24.061087\n",
              "2012-01-18  APPL      55.146616\n",
              "            MSFT      24.039798\n",
              "2012-01-19  APPL      54.971837\n",
              "            MSFT      23.946125\n",
              "2012-01-20  APPL      54.014408\n",
              "            MSFT      25.300120\n",
              "2012-01-23  APPL      54.928014\n",
              "            MSFT      25.317152\n",
              "2012-01-24  APPL      54.028545\n",
              "            MSFT      24.985040\n",
              "2012-01-25  APPL      57.402035\n",
              "            MSFT      25.172385\n",
              "2012-01-26  APPL      57.141152\n",
              "            MSFT      25.121291\n",
              "2012-01-27  APPL      57.481714\n",
              "            MSFT      24.891367\n",
              "2012-01-30  APPL      58.218099\n",
              "            MSFT      25.214963\n",
              "2012-01-31  APPL      58.664042\n",
              "            MSFT      25.146838\n",
              "dtype: float64"
            ]
          },
          "metadata": {
            "tags": []
          },
          "execution_count": 35
        }
      ]
    },
    {
      "metadata": {
        "id": "ugmTqFZgEpv2",
        "colab_type": "text"
      },
      "cell_type": "markdown",
      "source": [
        "\n",
        "\n",
        "> This has created a new index with an additional level named Symbol (from the name\n",
        "of the columns index). Each row is then indexed by both Date and Symbol . And for\n",
        "each unique Date and Symbol level, pandas has inserted the appropriate Adj Close\n",
        "value.\n",
        "\n",
        "\n",
        "\n",
        "> The result of this allows the efficient lookup of any Adj. Close value using the index.\n",
        "To look up the Adj Close value for APPL on 2012-01-03 , we can use the following\n",
        "command:\n",
        "\n",
        "\n",
        "\n"
      ]
    },
    {
      "metadata": {
        "id": "JYfc6wMBEPlR",
        "colab_type": "code",
        "colab": {
          "base_uri": "https://localhost:8080/",
          "height": 34
        },
        "outputId": "3b6b92bd-6d94-4c12-f1c2-8acb3e10e9aa"
      },
      "cell_type": "code",
      "source": [
        "stackedCloses.loc[('2012-01-03','APPL')] # Syntactically integrating MultiIndex \n",
        "#in advanced indexing with .loc is a bit challenging, but we’ve made every effort to do so. \n",
        "#In general, MultiIndex keys take the form of tuples. "
      ],
      "execution_count": 36,
      "outputs": [
        {
          "output_type": "execute_result",
          "data": {
            "text/plain": [
              "52.848786580038"
            ]
          },
          "metadata": {
            "tags": []
          },
          "execution_count": 36
        }
      ]
    },
    {
      "metadata": {
        "id": "oorzy00HJDZm",
        "colab_type": "text"
      },
      "cell_type": "markdown",
      "source": [
        "\n",
        "\n",
        "> The result here is equivalent to the following value-based lookup, but is significantly\n",
        "more efficient, uses less typing, and is also organized better, causing less mental\n",
        "clutter.\n",
        "Using a MultiIndex , it is also possible to look up values for just a specific Date :\n",
        "\n"
      ]
    },
    {
      "metadata": {
        "id": "U82qtL6RF4FI",
        "colab_type": "code",
        "colab": {
          "base_uri": "https://localhost:8080/",
          "height": 84
        },
        "outputId": "6127db0e-9895-480b-96da-2c7b1f123edc"
      },
      "cell_type": "code",
      "source": [
        "stackedCloses.loc['2012-01-03']"
      ],
      "execution_count": 37,
      "outputs": [
        {
          "output_type": "execute_result",
          "data": {
            "text/plain": [
              "Date        Symbol\n",
              "2012-01-03  APPL      52.848787\n",
              "            MSFT      22.792249\n",
              "dtype: float64"
            ]
          },
          "metadata": {
            "tags": []
          },
          "execution_count": 37
        }
      ]
    },
    {
      "metadata": {
        "id": "9MP3LNNoJTmJ",
        "colab_type": "text"
      },
      "cell_type": "markdown",
      "source": [
        "\n",
        "\n",
        "> For a specific Symbol , here is the command:\n",
        "\n"
      ]
    },
    {
      "metadata": {
        "id": "b8YYJHl4JJim",
        "colab_type": "code",
        "colab": {
          "base_uri": "https://localhost:8080/",
          "height": 386
        },
        "outputId": "62013764-8214-406e-8332-f1a13f9e8972"
      },
      "cell_type": "code",
      "source": [
        "stackedCloses.loc[:, 'MSFT']"
      ],
      "execution_count": 38,
      "outputs": [
        {
          "output_type": "execute_result",
          "data": {
            "text/plain": [
              "Date\n",
              "2012-01-03    22.792249\n",
              "2012-01-04    23.332995\n",
              "2012-01-05    23.571435\n",
              "2012-01-06    23.933352\n",
              "2012-01-09    23.622529\n",
              "2012-01-10    23.707686\n",
              "2012-01-11    23.605497\n",
              "2012-01-12    23.843937\n",
              "2012-01-13    24.056829\n",
              "2012-01-17    24.061087\n",
              "2012-01-18    24.039798\n",
              "2012-01-19    23.946125\n",
              "2012-01-20    25.300120\n",
              "2012-01-23    25.317152\n",
              "2012-01-24    24.985040\n",
              "2012-01-25    25.172385\n",
              "2012-01-26    25.121291\n",
              "2012-01-27    24.891367\n",
              "2012-01-30    25.214963\n",
              "2012-01-31    25.146838\n",
              "dtype: float64"
            ]
          },
          "metadata": {
            "tags": []
          },
          "execution_count": 38
        }
      ]
    },
    {
      "metadata": {
        "id": "w3XmTFvwLIKd",
        "colab_type": "text"
      },
      "cell_type": "markdown",
      "source": [
        "\n",
        "\n",
        "> The .unstack() method performs the opposite function; that is, it pivots a level of\n",
        "an index into a column in a new DataFrame . The following command unstacks the\n",
        "last level of the MultiIndex and results in a DataFrame equivalent to the original\n",
        "unstackedCloses :\n",
        "\n"
      ]
    },
    {
      "metadata": {
        "id": "1H2sZbifJaJc",
        "colab_type": "code",
        "colab": {
          "base_uri": "https://localhost:8080/",
          "height": 166
        },
        "outputId": "ec449593-1359-4ffa-c61a-7bb59dbfbeb4"
      },
      "cell_type": "code",
      "source": [
        "unstackedCloses = stackedCloses.unstack()\n",
        "unstackedCloses[:3]"
      ],
      "execution_count": 39,
      "outputs": [
        {
          "output_type": "execute_result",
          "data": {
            "text/html": [
              "<div>\n",
              "<style scoped>\n",
              "    .dataframe tbody tr th:only-of-type {\n",
              "        vertical-align: middle;\n",
              "    }\n",
              "\n",
              "    .dataframe tbody tr th {\n",
              "        vertical-align: top;\n",
              "    }\n",
              "\n",
              "    .dataframe thead th {\n",
              "        text-align: right;\n",
              "    }\n",
              "</style>\n",
              "<table border=\"1\" class=\"dataframe\">\n",
              "  <thead>\n",
              "    <tr style=\"text-align: right;\">\n",
              "      <th>Symbol</th>\n",
              "      <th>APPL</th>\n",
              "      <th>MSFT</th>\n",
              "    </tr>\n",
              "    <tr>\n",
              "      <th>Date</th>\n",
              "      <th></th>\n",
              "      <th></th>\n",
              "    </tr>\n",
              "  </thead>\n",
              "  <tbody>\n",
              "    <tr>\n",
              "      <th>2012-01-03</th>\n",
              "      <td>52.848787</td>\n",
              "      <td>22.792249</td>\n",
              "    </tr>\n",
              "    <tr>\n",
              "      <th>2012-01-04</th>\n",
              "      <td>53.132802</td>\n",
              "      <td>23.332995</td>\n",
              "    </tr>\n",
              "    <tr>\n",
              "      <th>2012-01-05</th>\n",
              "      <td>53.722681</td>\n",
              "      <td>23.571435</td>\n",
              "    </tr>\n",
              "  </tbody>\n",
              "</table>\n",
              "</div>"
            ],
            "text/plain": [
              "Symbol           APPL       MSFT\n",
              "Date                            \n",
              "2012-01-03  52.848787  22.792249\n",
              "2012-01-04  53.132802  23.332995\n",
              "2012-01-05  53.722681  23.571435"
            ]
          },
          "metadata": {
            "tags": []
          },
          "execution_count": 39
        }
      ]
    },
    {
      "metadata": {
        "id": "LkWrdFdGN7-b",
        "colab_type": "text"
      },
      "cell_type": "markdown",
      "source": [
        "\n",
        "\n",
        "> **F. Melting**\n",
        "\n",
        "\n",
        "> Melting is the process of transforming a DataFrame into a format where each\n",
        "row represents a unique id-variable combination. The following command\n",
        "demonstrates melting the janData DataFrame into an id-variable combination\n",
        "consisting of the Date and Symbol columns as the ID and the other columns mapped\n",
        "into the variables:"
      ]
    },
    {
      "metadata": {
        "id": "RU17rjnfN7bq",
        "colab_type": "code",
        "colab": {
          "base_uri": "https://localhost:8080/",
          "height": 195
        },
        "outputId": "49c3529d-6721-4922-fe9f-eb4ae3a4839f"
      },
      "cell_type": "code",
      "source": [
        "melted = pd.melt(janData, id_vars=['Date', 'Symbol'])\n",
        "melted[:5]"
      ],
      "execution_count": 40,
      "outputs": [
        {
          "output_type": "execute_result",
          "data": {
            "text/html": [
              "<div>\n",
              "<style scoped>\n",
              "    .dataframe tbody tr th:only-of-type {\n",
              "        vertical-align: middle;\n",
              "    }\n",
              "\n",
              "    .dataframe tbody tr th {\n",
              "        vertical-align: top;\n",
              "    }\n",
              "\n",
              "    .dataframe thead th {\n",
              "        text-align: right;\n",
              "    }\n",
              "</style>\n",
              "<table border=\"1\" class=\"dataframe\">\n",
              "  <thead>\n",
              "    <tr style=\"text-align: right;\">\n",
              "      <th></th>\n",
              "      <th>Date</th>\n",
              "      <th>Symbol</th>\n",
              "      <th>variable</th>\n",
              "      <th>value</th>\n",
              "    </tr>\n",
              "  </thead>\n",
              "  <tbody>\n",
              "    <tr>\n",
              "      <th>0</th>\n",
              "      <td>2012-01-03</td>\n",
              "      <td>MSFT</td>\n",
              "      <td>Open</td>\n",
              "      <td>26.5500</td>\n",
              "    </tr>\n",
              "    <tr>\n",
              "      <th>1</th>\n",
              "      <td>2012-01-03</td>\n",
              "      <td>APPL</td>\n",
              "      <td>Open</td>\n",
              "      <td>409.4000</td>\n",
              "    </tr>\n",
              "    <tr>\n",
              "      <th>2</th>\n",
              "      <td>2012-01-04</td>\n",
              "      <td>MSFT</td>\n",
              "      <td>Open</td>\n",
              "      <td>26.8199</td>\n",
              "    </tr>\n",
              "    <tr>\n",
              "      <th>3</th>\n",
              "      <td>2012-01-04</td>\n",
              "      <td>APPL</td>\n",
              "      <td>Open</td>\n",
              "      <td>410.0000</td>\n",
              "    </tr>\n",
              "    <tr>\n",
              "      <th>4</th>\n",
              "      <td>2012-01-05</td>\n",
              "      <td>MSFT</td>\n",
              "      <td>Open</td>\n",
              "      <td>27.3800</td>\n",
              "    </tr>\n",
              "  </tbody>\n",
              "</table>\n",
              "</div>"
            ],
            "text/plain": [
              "        Date Symbol variable     value\n",
              "0 2012-01-03   MSFT     Open   26.5500\n",
              "1 2012-01-03   APPL     Open  409.4000\n",
              "2 2012-01-04   MSFT     Open   26.8199\n",
              "3 2012-01-04   APPL     Open  410.0000\n",
              "4 2012-01-05   MSFT     Open   27.3800"
            ]
          },
          "metadata": {
            "tags": []
          },
          "execution_count": 40
        }
      ]
    },
    {
      "metadata": {
        "id": "6jB267E3O-hi",
        "colab_type": "text"
      },
      "cell_type": "markdown",
      "source": [
        "\n",
        "\n",
        "> During a melt, the column(s) specified by the id_vars parameter remain columns\n",
        "(in this case Date and Symbol ). All other columns have their names mapped to the\n",
        "values in the variable column—one row for each variable column of an id_var\n",
        "column value combination.\n",
        "This organization of data is useful to select chunks of information based upon a\n",
        "specific ID variable and then one or more variables. As an example, the following\n",
        "command returns all measurements for 2012-01-03 and the MSFT symbol:\n",
        "\n"
      ]
    },
    {
      "metadata": {
        "id": "l0YmBEAkN3Bw",
        "colab_type": "code",
        "colab": {
          "base_uri": "https://localhost:8080/",
          "height": 402
        },
        "outputId": "9b3bf198-c349-441c-aed9-cd9ccfaed6f2"
      },
      "cell_type": "code",
      "source": [
        "melted[(melted.Date=='2012-01-03') & (melted.Symbol=='MSFT')]"
      ],
      "execution_count": 41,
      "outputs": [
        {
          "output_type": "execute_result",
          "data": {
            "text/html": [
              "<div>\n",
              "<style scoped>\n",
              "    .dataframe tbody tr th:only-of-type {\n",
              "        vertical-align: middle;\n",
              "    }\n",
              "\n",
              "    .dataframe tbody tr th {\n",
              "        vertical-align: top;\n",
              "    }\n",
              "\n",
              "    .dataframe thead th {\n",
              "        text-align: right;\n",
              "    }\n",
              "</style>\n",
              "<table border=\"1\" class=\"dataframe\">\n",
              "  <thead>\n",
              "    <tr style=\"text-align: right;\">\n",
              "      <th></th>\n",
              "      <th>Date</th>\n",
              "      <th>Symbol</th>\n",
              "      <th>variable</th>\n",
              "      <th>value</th>\n",
              "    </tr>\n",
              "  </thead>\n",
              "  <tbody>\n",
              "    <tr>\n",
              "      <th>0</th>\n",
              "      <td>2012-01-03</td>\n",
              "      <td>MSFT</td>\n",
              "      <td>Open</td>\n",
              "      <td>2.655000e+01</td>\n",
              "    </tr>\n",
              "    <tr>\n",
              "      <th>40</th>\n",
              "      <td>2012-01-03</td>\n",
              "      <td>MSFT</td>\n",
              "      <td>High</td>\n",
              "      <td>2.696000e+01</td>\n",
              "    </tr>\n",
              "    <tr>\n",
              "      <th>80</th>\n",
              "      <td>2012-01-03</td>\n",
              "      <td>MSFT</td>\n",
              "      <td>Low</td>\n",
              "      <td>2.639000e+01</td>\n",
              "    </tr>\n",
              "    <tr>\n",
              "      <th>120</th>\n",
              "      <td>2012-01-03</td>\n",
              "      <td>MSFT</td>\n",
              "      <td>Close</td>\n",
              "      <td>2.676500e+01</td>\n",
              "    </tr>\n",
              "    <tr>\n",
              "      <th>160</th>\n",
              "      <td>2012-01-03</td>\n",
              "      <td>MSFT</td>\n",
              "      <td>Volume</td>\n",
              "      <td>6.473150e+07</td>\n",
              "    </tr>\n",
              "    <tr>\n",
              "      <th>200</th>\n",
              "      <td>2012-01-03</td>\n",
              "      <td>MSFT</td>\n",
              "      <td>Ex-Dividend</td>\n",
              "      <td>0.000000e+00</td>\n",
              "    </tr>\n",
              "    <tr>\n",
              "      <th>240</th>\n",
              "      <td>2012-01-03</td>\n",
              "      <td>MSFT</td>\n",
              "      <td>Split Ratio</td>\n",
              "      <td>1.000000e+00</td>\n",
              "    </tr>\n",
              "    <tr>\n",
              "      <th>280</th>\n",
              "      <td>2012-01-03</td>\n",
              "      <td>MSFT</td>\n",
              "      <td>Adj. Open</td>\n",
              "      <td>2.260916e+01</td>\n",
              "    </tr>\n",
              "    <tr>\n",
              "      <th>320</th>\n",
              "      <td>2012-01-03</td>\n",
              "      <td>MSFT</td>\n",
              "      <td>Adj. High</td>\n",
              "      <td>2.295830e+01</td>\n",
              "    </tr>\n",
              "    <tr>\n",
              "      <th>360</th>\n",
              "      <td>2012-01-03</td>\n",
              "      <td>MSFT</td>\n",
              "      <td>Adj. Low</td>\n",
              "      <td>2.247291e+01</td>\n",
              "    </tr>\n",
              "    <tr>\n",
              "      <th>400</th>\n",
              "      <td>2012-01-03</td>\n",
              "      <td>MSFT</td>\n",
              "      <td>Adj. Close</td>\n",
              "      <td>2.279225e+01</td>\n",
              "    </tr>\n",
              "    <tr>\n",
              "      <th>440</th>\n",
              "      <td>2012-01-03</td>\n",
              "      <td>MSFT</td>\n",
              "      <td>Adj. Volume</td>\n",
              "      <td>6.473150e+07</td>\n",
              "    </tr>\n",
              "  </tbody>\n",
              "</table>\n",
              "</div>"
            ],
            "text/plain": [
              "          Date Symbol     variable         value\n",
              "0   2012-01-03   MSFT         Open  2.655000e+01\n",
              "40  2012-01-03   MSFT         High  2.696000e+01\n",
              "80  2012-01-03   MSFT          Low  2.639000e+01\n",
              "120 2012-01-03   MSFT        Close  2.676500e+01\n",
              "160 2012-01-03   MSFT       Volume  6.473150e+07\n",
              "200 2012-01-03   MSFT  Ex-Dividend  0.000000e+00\n",
              "240 2012-01-03   MSFT  Split Ratio  1.000000e+00\n",
              "280 2012-01-03   MSFT    Adj. Open  2.260916e+01\n",
              "320 2012-01-03   MSFT    Adj. High  2.295830e+01\n",
              "360 2012-01-03   MSFT     Adj. Low  2.247291e+01\n",
              "400 2012-01-03   MSFT   Adj. Close  2.279225e+01\n",
              "440 2012-01-03   MSFT  Adj. Volume  6.473150e+07"
            ]
          },
          "metadata": {
            "tags": []
          },
          "execution_count": 41
        }
      ]
    },
    {
      "metadata": {
        "id": "BDxvDN1GPTXA",
        "colab_type": "code",
        "colab": {
          "base_uri": "https://localhost:8080/",
          "height": 77
        },
        "outputId": "9157e0ea-d382-4c0f-b9de-247cc216d0a4"
      },
      "cell_type": "code",
      "source": [
        "#while same operation on original dataframe of JanData would have revealed a subset dataframe based on boolean op:\n",
        "janData[(janData.Date=='2012-01-03') & (janData.Symbol=='MSFT')]"
      ],
      "execution_count": 42,
      "outputs": [
        {
          "output_type": "execute_result",
          "data": {
            "text/html": [
              "<div>\n",
              "<style scoped>\n",
              "    .dataframe tbody tr th:only-of-type {\n",
              "        vertical-align: middle;\n",
              "    }\n",
              "\n",
              "    .dataframe tbody tr th {\n",
              "        vertical-align: top;\n",
              "    }\n",
              "\n",
              "    .dataframe thead th {\n",
              "        text-align: right;\n",
              "    }\n",
              "</style>\n",
              "<table border=\"1\" class=\"dataframe\">\n",
              "  <thead>\n",
              "    <tr style=\"text-align: right;\">\n",
              "      <th></th>\n",
              "      <th>Date</th>\n",
              "      <th>Symbol</th>\n",
              "      <th>Open</th>\n",
              "      <th>High</th>\n",
              "      <th>Low</th>\n",
              "      <th>Close</th>\n",
              "      <th>Volume</th>\n",
              "      <th>Ex-Dividend</th>\n",
              "      <th>Split Ratio</th>\n",
              "      <th>Adj. Open</th>\n",
              "      <th>Adj. High</th>\n",
              "      <th>Adj. Low</th>\n",
              "      <th>Adj. Close</th>\n",
              "      <th>Adj. Volume</th>\n",
              "    </tr>\n",
              "  </thead>\n",
              "  <tbody>\n",
              "    <tr>\n",
              "      <th>0</th>\n",
              "      <td>2012-01-03</td>\n",
              "      <td>MSFT</td>\n",
              "      <td>26.55</td>\n",
              "      <td>26.96</td>\n",
              "      <td>26.39</td>\n",
              "      <td>26.765</td>\n",
              "      <td>64731500.0</td>\n",
              "      <td>0.0</td>\n",
              "      <td>1.0</td>\n",
              "      <td>22.609162</td>\n",
              "      <td>22.958305</td>\n",
              "      <td>22.47291</td>\n",
              "      <td>22.792249</td>\n",
              "      <td>64731500.0</td>\n",
              "    </tr>\n",
              "  </tbody>\n",
              "</table>\n",
              "</div>"
            ],
            "text/plain": [
              "        Date Symbol   Open   High    Low   Close      Volume  Ex-Dividend  \\\n",
              "0 2012-01-03   MSFT  26.55  26.96  26.39  26.765  64731500.0          0.0   \n",
              "\n",
              "   Split Ratio  Adj. Open  Adj. High  Adj. Low  Adj. Close  Adj. Volume  \n",
              "0          1.0  22.609162  22.958305  22.47291   22.792249   64731500.0  "
            ]
          },
          "metadata": {
            "tags": []
          },
          "execution_count": 42
        }
      ]
    },
    {
      "metadata": {
        "id": "9fq_3ovfQSGr",
        "colab_type": "text"
      },
      "cell_type": "markdown",
      "source": [
        "\n",
        "\n",
        "> **G. Grouping and aggregating**\n",
        "\n",
        "\n",
        "> Data in pandas can be easily split into groups and then summarized using various\n",
        "statistical and quantitative calculations. This process in pandas nomenclature is often\n",
        "referred to as the **split-apply-combine pattern**.\n",
        "In this section, we will look at using this pattern as applied to stock data. We will\n",
        "split the data by various time and symbol combinations and then apply statistical\n",
        "operations to begin analyzing the risk and return on our sample data.\n",
        "\n",
        "\n",
        "> 1. **Splitting**: \n",
        "Objects in pandas are split into groups using the . groupby() method. To\n",
        "demonstrate this, we will use the stock price data introduced earlier in the chapter\n",
        "but slightly reorganized to facilitate understanding of the grouping process:\n",
        "\n",
        "\n",
        "\n"
      ]
    },
    {
      "metadata": {
        "id": "HuNaVLnePmQ8",
        "colab_type": "code",
        "colab": {}
      },
      "cell_type": "code",
      "source": [
        "JanSC = combined[['Symbol', 'Adj. Close']].reset_index()\n",
        "JanSC.insert(1, 'Year', pd.DatetimeIndex(JanSC['Date']).year)\n",
        "JanSC.insert(2, 'Month',pd.DatetimeIndex(JanSC['Date']).month)"
      ],
      "execution_count": 0,
      "outputs": []
    },
    {
      "metadata": {
        "id": "J33LEnW3ROYu",
        "colab_type": "code",
        "colab": {
          "base_uri": "https://localhost:8080/",
          "height": 225
        },
        "outputId": "c91cde43-488d-4bfa-83b3-42248815db2e"
      },
      "cell_type": "code",
      "source": [
        "JanSC[:6]"
      ],
      "execution_count": 44,
      "outputs": [
        {
          "output_type": "execute_result",
          "data": {
            "text/html": [
              "<div>\n",
              "<style scoped>\n",
              "    .dataframe tbody tr th:only-of-type {\n",
              "        vertical-align: middle;\n",
              "    }\n",
              "\n",
              "    .dataframe tbody tr th {\n",
              "        vertical-align: top;\n",
              "    }\n",
              "\n",
              "    .dataframe thead th {\n",
              "        text-align: right;\n",
              "    }\n",
              "</style>\n",
              "<table border=\"1\" class=\"dataframe\">\n",
              "  <thead>\n",
              "    <tr style=\"text-align: right;\">\n",
              "      <th></th>\n",
              "      <th>Date</th>\n",
              "      <th>Year</th>\n",
              "      <th>Month</th>\n",
              "      <th>Symbol</th>\n",
              "      <th>Adj. Close</th>\n",
              "    </tr>\n",
              "  </thead>\n",
              "  <tbody>\n",
              "    <tr>\n",
              "      <th>0</th>\n",
              "      <td>2012-01-03</td>\n",
              "      <td>2012</td>\n",
              "      <td>1</td>\n",
              "      <td>MSFT</td>\n",
              "      <td>22.792249</td>\n",
              "    </tr>\n",
              "    <tr>\n",
              "      <th>1</th>\n",
              "      <td>2012-01-03</td>\n",
              "      <td>2012</td>\n",
              "      <td>1</td>\n",
              "      <td>APPL</td>\n",
              "      <td>52.848787</td>\n",
              "    </tr>\n",
              "    <tr>\n",
              "      <th>2</th>\n",
              "      <td>2012-01-04</td>\n",
              "      <td>2012</td>\n",
              "      <td>1</td>\n",
              "      <td>MSFT</td>\n",
              "      <td>23.332995</td>\n",
              "    </tr>\n",
              "    <tr>\n",
              "      <th>3</th>\n",
              "      <td>2012-01-04</td>\n",
              "      <td>2012</td>\n",
              "      <td>1</td>\n",
              "      <td>APPL</td>\n",
              "      <td>53.132802</td>\n",
              "    </tr>\n",
              "    <tr>\n",
              "      <th>4</th>\n",
              "      <td>2012-01-05</td>\n",
              "      <td>2012</td>\n",
              "      <td>1</td>\n",
              "      <td>MSFT</td>\n",
              "      <td>23.571435</td>\n",
              "    </tr>\n",
              "    <tr>\n",
              "      <th>5</th>\n",
              "      <td>2012-01-05</td>\n",
              "      <td>2012</td>\n",
              "      <td>1</td>\n",
              "      <td>APPL</td>\n",
              "      <td>53.722681</td>\n",
              "    </tr>\n",
              "  </tbody>\n",
              "</table>\n",
              "</div>"
            ],
            "text/plain": [
              "        Date  Year  Month Symbol  Adj. Close\n",
              "0 2012-01-03  2012      1   MSFT   22.792249\n",
              "1 2012-01-03  2012      1   APPL   52.848787\n",
              "2 2012-01-04  2012      1   MSFT   23.332995\n",
              "3 2012-01-04  2012      1   APPL   53.132802\n",
              "4 2012-01-05  2012      1   MSFT   23.571435\n",
              "5 2012-01-05  2012      1   APPL   53.722681"
            ]
          },
          "metadata": {
            "tags": []
          },
          "execution_count": 44
        }
      ]
    },
    {
      "metadata": {
        "id": "FW_dhNXHSXp6",
        "colab_type": "text"
      },
      "cell_type": "markdown",
      "source": [
        "\n",
        "\n",
        "> This data differs from before as only the AdjClose value is utilized, and the Date\n",
        "column is broken apart into two other columns, Year and Month . This splitting of the\n",
        "date is done to be able to provide the ability to group the data by Month and Year for\n",
        "each Symbol variable.\n",
        "\n",
        "\n",
        "> This data consists of four categorical variables ( Date , Symbol , Year , and Month ) and\n",
        "one continuous variable, AdjClose . In pandas, it is possible to group by any single\n",
        "categorical variable by passing its name to .groupby() . The following command\n",
        "groups by the Symbol column:\n",
        "\n"
      ]
    },
    {
      "metadata": {
        "id": "gC0RjnKwSW0X",
        "colab_type": "code",
        "colab": {
          "base_uri": "https://localhost:8080/",
          "height": 34
        },
        "outputId": "e12f6fb5-80fa-4869-8b95-3dca5a6bc8be"
      },
      "cell_type": "code",
      "source": [
        "JanSC.groupby('Symbol')"
      ],
      "execution_count": 45,
      "outputs": [
        {
          "output_type": "execute_result",
          "data": {
            "text/plain": [
              "<pandas.core.groupby.DataFrameGroupBy object at 0x7f75e7c05c88>"
            ]
          },
          "metadata": {
            "tags": []
          },
          "execution_count": 45
        }
      ]
    },
    {
      "metadata": {
        "id": "m6x1v0HnSnCk",
        "colab_type": "text"
      },
      "cell_type": "markdown",
      "source": [
        "\n",
        "\n",
        "> The result of calling .groupby() on a DataFrame is not the actual grouped data but\n",
        "a DataFrameGroupBy object (a SeriesGroupBy for a grouping on a Series ). The\n",
        "grouping has not actually been performed yet as grouping is a deferred/lazy process\n",
        "in pandas.\n",
        "\n",
        "\n",
        "> This result of .groupby() is a subclass of a GroupBy object and is an interim\n",
        "description of the grouping to be performed (if you are a C# programmer, this feels\n",
        "a lot like an expression tree created by LINQ). This allows pandas to first validate\n",
        "that the grouping description provided to it is valid relative to the data before the\n",
        "processing starts.\n",
        "\n",
        "\n",
        "> There are number of useful properties on a GroupBy object. The .groups property\n",
        "will return a Python dictionary whose keys represent the name of each group (if\n",
        "multiple columns are specified, it is a tuple), and the values are an array of the index\n",
        "labels contained within each group:\n",
        "\n"
      ]
    },
    {
      "metadata": {
        "id": "OIq3EUQ3SQS-",
        "colab_type": "code",
        "colab": {
          "base_uri": "https://localhost:8080/",
          "height": 34
        },
        "outputId": "da9f6c1d-d6d1-47c3-a8ea-d7a9f5d300f4"
      },
      "cell_type": "code",
      "source": [
        "grouped = JanSC.groupby('Symbol')\n",
        "type(grouped.groups)"
      ],
      "execution_count": 46,
      "outputs": [
        {
          "output_type": "execute_result",
          "data": {
            "text/plain": [
              "dict"
            ]
          },
          "metadata": {
            "tags": []
          },
          "execution_count": 46
        }
      ]
    },
    {
      "metadata": {
        "id": "z8prl_IWTXGF",
        "colab_type": "code",
        "colab": {
          "base_uri": "https://localhost:8080/",
          "height": 118
        },
        "outputId": "fbf8c64b-2ee8-4dc4-f37a-3102b8fa2169"
      },
      "cell_type": "code",
      "source": [
        "grouped.groups"
      ],
      "execution_count": 47,
      "outputs": [
        {
          "output_type": "execute_result",
          "data": {
            "text/plain": [
              "{'APPL': Int64Index([1, 3, 5, 7, 9, 10, 12, 14, 16, 19, 20, 23, 24, 26, 29, 30, 32, 34,\n",
              "             36, 39],\n",
              "            dtype='int64'),\n",
              " 'MSFT': Int64Index([0, 2, 4, 6, 8, 11, 13, 15, 17, 18, 21, 22, 25, 27, 28, 31, 33, 35,\n",
              "             37, 38],\n",
              "            dtype='int64')}"
            ]
          },
          "metadata": {
            "tags": []
          },
          "execution_count": 47
        }
      ]
    },
    {
      "metadata": {
        "id": "oinWBRyFTZcA",
        "colab_type": "code",
        "colab": {
          "base_uri": "https://localhost:8080/",
          "height": 34
        },
        "outputId": "7ed4d208-d1a8-43f8-ada4-3e28701c340b"
      },
      "cell_type": "code",
      "source": [
        "len(grouped), grouped.ngroups"
      ],
      "execution_count": 48,
      "outputs": [
        {
          "output_type": "execute_result",
          "data": {
            "text/plain": [
              "(2, 2)"
            ]
          },
          "metadata": {
            "tags": []
          },
          "execution_count": 48
        }
      ]
    },
    {
      "metadata": {
        "id": "NdiWZbMMTnQW",
        "colab_type": "text"
      },
      "cell_type": "markdown",
      "source": [
        "\n",
        "\n",
        "> Splitting is not performed until you take some type of action on the GroupBy object.\n",
        "It is, however, possible to iterate over several properties of the object to view how the\n",
        "data will be grouped (hence forcing it to be grouped). The following helper function\n",
        "demonstrates this and will be used frequently throughout this chapter:\n",
        "\n"
      ]
    },
    {
      "metadata": {
        "id": "jmrB3bdyTgMI",
        "colab_type": "code",
        "colab": {}
      },
      "cell_type": "code",
      "source": [
        "def print_groups (groupobject):\n",
        "  for name, group in groupobject:\n",
        "    print(name)\n",
        "    print(group.head())"
      ],
      "execution_count": 0,
      "outputs": []
    },
    {
      "metadata": {
        "id": "jZH-Jg8qTyjo",
        "colab_type": "code",
        "colab": {
          "base_uri": "https://localhost:8080/",
          "height": 252
        },
        "outputId": "b085957b-1664-41ab-dde5-8fd35c7fe4c9"
      },
      "cell_type": "code",
      "source": [
        "print_groups(grouped)"
      ],
      "execution_count": 50,
      "outputs": [
        {
          "output_type": "stream",
          "text": [
            "APPL\n",
            "        Date  Year  Month Symbol  Adj. Close\n",
            "1 2012-01-03  2012      1   APPL   52.848787\n",
            "3 2012-01-04  2012      1   APPL   53.132802\n",
            "5 2012-01-05  2012      1   APPL   53.722681\n",
            "7 2012-01-06  2012      1   APPL   54.284287\n",
            "9 2012-01-09  2012      1   APPL   54.198183\n",
            "MSFT\n",
            "        Date  Year  Month Symbol  Adj. Close\n",
            "0 2012-01-03  2012      1   MSFT   22.792249\n",
            "2 2012-01-04  2012      1   MSFT   23.332995\n",
            "4 2012-01-05  2012      1   MSFT   23.571435\n",
            "6 2012-01-06  2012      1   MSFT   23.933352\n",
            "8 2012-01-09  2012      1   MSFT   23.622529\n"
          ],
          "name": "stdout"
        }
      ]
    },
    {
      "metadata": {
        "id": "wk-d8S1SUH0Q",
        "colab_type": "text"
      },
      "cell_type": "markdown",
      "source": [
        "\n",
        "\n",
        "> Looking at these results gives us some insight into what pandas is doing with this\n",
        "specific splitting operation. It has created, for each distinct value in the Symbol\n",
        "column of the original DataFrame , a group consisting of a DataFrame (this is\n",
        "different from the functionality provided by itertools.groupby , so be careful\n",
        "if you are used to using that library for this functionality). It then copies the non-\n",
        "grouped columns and data into each of those DataFrame objects and then uses the\n",
        "values from the specified column(s) as the group name.\n",
        "\n",
        "\n",
        "> The .size() method of the object gives a nice summary of the size of all the groups:\n",
        "\n",
        "\n"
      ]
    },
    {
      "metadata": {
        "id": "8q-q1zJkT-8q",
        "colab_type": "code",
        "colab": {
          "base_uri": "https://localhost:8080/",
          "height": 84
        },
        "outputId": "caa8e50c-8bc3-4fa4-9b3d-7bac9c235b3a"
      },
      "cell_type": "code",
      "source": [
        "grouped.size()"
      ],
      "execution_count": 51,
      "outputs": [
        {
          "output_type": "execute_result",
          "data": {
            "text/plain": [
              "Symbol\n",
              "APPL    20\n",
              "MSFT    20\n",
              "dtype: int64"
            ]
          },
          "metadata": {
            "tags": []
          },
          "execution_count": 51
        }
      ]
    },
    {
      "metadata": {
        "id": "aoBlutsmUzTZ",
        "colab_type": "text"
      },
      "cell_type": "markdown",
      "source": [
        "\n",
        "\n",
        "> If you want the data for the items in any given group, you can use the .get_group()\n",
        "property. The following command retrieves the MSFT group:\n",
        "\n"
      ]
    },
    {
      "metadata": {
        "id": "9h5W073oUxER",
        "colab_type": "code",
        "colab": {
          "base_uri": "https://localhost:8080/",
          "height": 639
        },
        "outputId": "f9f00483-688e-4fb1-d993-2c75c1640b8e"
      },
      "cell_type": "code",
      "source": [
        "grouped.get_group('MSFT')"
      ],
      "execution_count": 52,
      "outputs": [
        {
          "output_type": "execute_result",
          "data": {
            "text/html": [
              "<div>\n",
              "<style scoped>\n",
              "    .dataframe tbody tr th:only-of-type {\n",
              "        vertical-align: middle;\n",
              "    }\n",
              "\n",
              "    .dataframe tbody tr th {\n",
              "        vertical-align: top;\n",
              "    }\n",
              "\n",
              "    .dataframe thead th {\n",
              "        text-align: right;\n",
              "    }\n",
              "</style>\n",
              "<table border=\"1\" class=\"dataframe\">\n",
              "  <thead>\n",
              "    <tr style=\"text-align: right;\">\n",
              "      <th></th>\n",
              "      <th>Date</th>\n",
              "      <th>Year</th>\n",
              "      <th>Month</th>\n",
              "      <th>Symbol</th>\n",
              "      <th>Adj. Close</th>\n",
              "    </tr>\n",
              "  </thead>\n",
              "  <tbody>\n",
              "    <tr>\n",
              "      <th>0</th>\n",
              "      <td>2012-01-03</td>\n",
              "      <td>2012</td>\n",
              "      <td>1</td>\n",
              "      <td>MSFT</td>\n",
              "      <td>22.792249</td>\n",
              "    </tr>\n",
              "    <tr>\n",
              "      <th>2</th>\n",
              "      <td>2012-01-04</td>\n",
              "      <td>2012</td>\n",
              "      <td>1</td>\n",
              "      <td>MSFT</td>\n",
              "      <td>23.332995</td>\n",
              "    </tr>\n",
              "    <tr>\n",
              "      <th>4</th>\n",
              "      <td>2012-01-05</td>\n",
              "      <td>2012</td>\n",
              "      <td>1</td>\n",
              "      <td>MSFT</td>\n",
              "      <td>23.571435</td>\n",
              "    </tr>\n",
              "    <tr>\n",
              "      <th>6</th>\n",
              "      <td>2012-01-06</td>\n",
              "      <td>2012</td>\n",
              "      <td>1</td>\n",
              "      <td>MSFT</td>\n",
              "      <td>23.933352</td>\n",
              "    </tr>\n",
              "    <tr>\n",
              "      <th>8</th>\n",
              "      <td>2012-01-09</td>\n",
              "      <td>2012</td>\n",
              "      <td>1</td>\n",
              "      <td>MSFT</td>\n",
              "      <td>23.622529</td>\n",
              "    </tr>\n",
              "    <tr>\n",
              "      <th>11</th>\n",
              "      <td>2012-01-10</td>\n",
              "      <td>2012</td>\n",
              "      <td>1</td>\n",
              "      <td>MSFT</td>\n",
              "      <td>23.707686</td>\n",
              "    </tr>\n",
              "    <tr>\n",
              "      <th>13</th>\n",
              "      <td>2012-01-11</td>\n",
              "      <td>2012</td>\n",
              "      <td>1</td>\n",
              "      <td>MSFT</td>\n",
              "      <td>23.605497</td>\n",
              "    </tr>\n",
              "    <tr>\n",
              "      <th>15</th>\n",
              "      <td>2012-01-12</td>\n",
              "      <td>2012</td>\n",
              "      <td>1</td>\n",
              "      <td>MSFT</td>\n",
              "      <td>23.843937</td>\n",
              "    </tr>\n",
              "    <tr>\n",
              "      <th>17</th>\n",
              "      <td>2012-01-13</td>\n",
              "      <td>2012</td>\n",
              "      <td>1</td>\n",
              "      <td>MSFT</td>\n",
              "      <td>24.056829</td>\n",
              "    </tr>\n",
              "    <tr>\n",
              "      <th>18</th>\n",
              "      <td>2012-01-17</td>\n",
              "      <td>2012</td>\n",
              "      <td>1</td>\n",
              "      <td>MSFT</td>\n",
              "      <td>24.061087</td>\n",
              "    </tr>\n",
              "    <tr>\n",
              "      <th>21</th>\n",
              "      <td>2012-01-18</td>\n",
              "      <td>2012</td>\n",
              "      <td>1</td>\n",
              "      <td>MSFT</td>\n",
              "      <td>24.039798</td>\n",
              "    </tr>\n",
              "    <tr>\n",
              "      <th>22</th>\n",
              "      <td>2012-01-19</td>\n",
              "      <td>2012</td>\n",
              "      <td>1</td>\n",
              "      <td>MSFT</td>\n",
              "      <td>23.946125</td>\n",
              "    </tr>\n",
              "    <tr>\n",
              "      <th>25</th>\n",
              "      <td>2012-01-20</td>\n",
              "      <td>2012</td>\n",
              "      <td>1</td>\n",
              "      <td>MSFT</td>\n",
              "      <td>25.300120</td>\n",
              "    </tr>\n",
              "    <tr>\n",
              "      <th>27</th>\n",
              "      <td>2012-01-23</td>\n",
              "      <td>2012</td>\n",
              "      <td>1</td>\n",
              "      <td>MSFT</td>\n",
              "      <td>25.317152</td>\n",
              "    </tr>\n",
              "    <tr>\n",
              "      <th>28</th>\n",
              "      <td>2012-01-24</td>\n",
              "      <td>2012</td>\n",
              "      <td>1</td>\n",
              "      <td>MSFT</td>\n",
              "      <td>24.985040</td>\n",
              "    </tr>\n",
              "    <tr>\n",
              "      <th>31</th>\n",
              "      <td>2012-01-25</td>\n",
              "      <td>2012</td>\n",
              "      <td>1</td>\n",
              "      <td>MSFT</td>\n",
              "      <td>25.172385</td>\n",
              "    </tr>\n",
              "    <tr>\n",
              "      <th>33</th>\n",
              "      <td>2012-01-26</td>\n",
              "      <td>2012</td>\n",
              "      <td>1</td>\n",
              "      <td>MSFT</td>\n",
              "      <td>25.121291</td>\n",
              "    </tr>\n",
              "    <tr>\n",
              "      <th>35</th>\n",
              "      <td>2012-01-27</td>\n",
              "      <td>2012</td>\n",
              "      <td>1</td>\n",
              "      <td>MSFT</td>\n",
              "      <td>24.891367</td>\n",
              "    </tr>\n",
              "    <tr>\n",
              "      <th>37</th>\n",
              "      <td>2012-01-30</td>\n",
              "      <td>2012</td>\n",
              "      <td>1</td>\n",
              "      <td>MSFT</td>\n",
              "      <td>25.214963</td>\n",
              "    </tr>\n",
              "    <tr>\n",
              "      <th>38</th>\n",
              "      <td>2012-01-31</td>\n",
              "      <td>2012</td>\n",
              "      <td>1</td>\n",
              "      <td>MSFT</td>\n",
              "      <td>25.146838</td>\n",
              "    </tr>\n",
              "  </tbody>\n",
              "</table>\n",
              "</div>"
            ],
            "text/plain": [
              "         Date  Year  Month Symbol  Adj. Close\n",
              "0  2012-01-03  2012      1   MSFT   22.792249\n",
              "2  2012-01-04  2012      1   MSFT   23.332995\n",
              "4  2012-01-05  2012      1   MSFT   23.571435\n",
              "6  2012-01-06  2012      1   MSFT   23.933352\n",
              "8  2012-01-09  2012      1   MSFT   23.622529\n",
              "11 2012-01-10  2012      1   MSFT   23.707686\n",
              "13 2012-01-11  2012      1   MSFT   23.605497\n",
              "15 2012-01-12  2012      1   MSFT   23.843937\n",
              "17 2012-01-13  2012      1   MSFT   24.056829\n",
              "18 2012-01-17  2012      1   MSFT   24.061087\n",
              "21 2012-01-18  2012      1   MSFT   24.039798\n",
              "22 2012-01-19  2012      1   MSFT   23.946125\n",
              "25 2012-01-20  2012      1   MSFT   25.300120\n",
              "27 2012-01-23  2012      1   MSFT   25.317152\n",
              "28 2012-01-24  2012      1   MSFT   24.985040\n",
              "31 2012-01-25  2012      1   MSFT   25.172385\n",
              "33 2012-01-26  2012      1   MSFT   25.121291\n",
              "35 2012-01-27  2012      1   MSFT   24.891367\n",
              "37 2012-01-30  2012      1   MSFT   25.214963\n",
              "38 2012-01-31  2012      1   MSFT   25.146838"
            ]
          },
          "metadata": {
            "tags": []
          },
          "execution_count": 52
        }
      ]
    },
    {
      "metadata": {
        "id": "2ymtvX4hVCKM",
        "colab_type": "text"
      },
      "cell_type": "markdown",
      "source": [
        "\n",
        "\n",
        "> Grouping can be performed upon multiple columns by passing a list of column\n",
        "names. The following command groups the data by the Symbol and Year and Month\n",
        "variables:\n",
        "\n"
      ]
    },
    {
      "metadata": {
        "id": "pTT0JjOIU9D7",
        "colab_type": "code",
        "colab": {
          "base_uri": "https://localhost:8080/",
          "height": 252
        },
        "outputId": "de409947-4c8a-428a-d632-060c00bf9a6a"
      },
      "cell_type": "code",
      "source": [
        "mcg = JanSC.groupby(['Symbol', 'Year', 'Month'])\n",
        "print_groups(mcg)"
      ],
      "execution_count": 53,
      "outputs": [
        {
          "output_type": "stream",
          "text": [
            "('APPL', 2012, 1)\n",
            "        Date  Year  Month Symbol  Adj. Close\n",
            "1 2012-01-03  2012      1   APPL   52.848787\n",
            "3 2012-01-04  2012      1   APPL   53.132802\n",
            "5 2012-01-05  2012      1   APPL   53.722681\n",
            "7 2012-01-06  2012      1   APPL   54.284287\n",
            "9 2012-01-09  2012      1   APPL   54.198183\n",
            "('MSFT', 2012, 1)\n",
            "        Date  Year  Month Symbol  Adj. Close\n",
            "0 2012-01-03  2012      1   MSFT   22.792249\n",
            "2 2012-01-04  2012      1   MSFT   23.332995\n",
            "4 2012-01-05  2012      1   MSFT   23.571435\n",
            "6 2012-01-06  2012      1   MSFT   23.933352\n",
            "8 2012-01-09  2012      1   MSFT   23.622529\n"
          ],
          "name": "stdout"
        }
      ]
    },
    {
      "metadata": {
        "id": "IKxyYUY6Vmdz",
        "colab_type": "text"
      },
      "cell_type": "markdown",
      "source": [
        "\n",
        "\n",
        "> Since multiple columns were specified, the name of each group is now a tuple with\n",
        "the value from Symbol , Year , and Month that represents the group.\n",
        "The examples up to this point have used a DataFrame without any specific indexing\n",
        "(just the default sequential numerical index).\n",
        "\n",
        "> This type of data would actually be \n",
        "very well suited for a hierarchical index, which can then be used directly to group\n",
        "the data based upon index label(s). To demonstrate this, the following command\n",
        "creates a new DataFrame with a MultiIndex consisting of the original Symbol , Year ,\n",
        "and Month columns:\n",
        "\n"
      ]
    },
    {
      "metadata": {
        "id": "DVrwfsjnVFJx",
        "colab_type": "code",
        "colab": {
          "base_uri": "https://localhost:8080/",
          "height": 1261
        },
        "outputId": "95452bf8-0bad-43fe-df03-9832fc7aea20"
      },
      "cell_type": "code",
      "source": [
        "mi = JanSC.set_index(['Symbol', 'Year', 'Month'])\n",
        "mi"
      ],
      "execution_count": 54,
      "outputs": [
        {
          "output_type": "execute_result",
          "data": {
            "text/html": [
              "<div>\n",
              "<style scoped>\n",
              "    .dataframe tbody tr th:only-of-type {\n",
              "        vertical-align: middle;\n",
              "    }\n",
              "\n",
              "    .dataframe tbody tr th {\n",
              "        vertical-align: top;\n",
              "    }\n",
              "\n",
              "    .dataframe thead th {\n",
              "        text-align: right;\n",
              "    }\n",
              "</style>\n",
              "<table border=\"1\" class=\"dataframe\">\n",
              "  <thead>\n",
              "    <tr style=\"text-align: right;\">\n",
              "      <th></th>\n",
              "      <th></th>\n",
              "      <th></th>\n",
              "      <th>Date</th>\n",
              "      <th>Adj. Close</th>\n",
              "    </tr>\n",
              "    <tr>\n",
              "      <th>Symbol</th>\n",
              "      <th>Year</th>\n",
              "      <th>Month</th>\n",
              "      <th></th>\n",
              "      <th></th>\n",
              "    </tr>\n",
              "  </thead>\n",
              "  <tbody>\n",
              "    <tr>\n",
              "      <th>MSFT</th>\n",
              "      <th>2012</th>\n",
              "      <th>1</th>\n",
              "      <td>2012-01-03</td>\n",
              "      <td>22.792249</td>\n",
              "    </tr>\n",
              "    <tr>\n",
              "      <th>APPL</th>\n",
              "      <th>2012</th>\n",
              "      <th>1</th>\n",
              "      <td>2012-01-03</td>\n",
              "      <td>52.848787</td>\n",
              "    </tr>\n",
              "    <tr>\n",
              "      <th>MSFT</th>\n",
              "      <th>2012</th>\n",
              "      <th>1</th>\n",
              "      <td>2012-01-04</td>\n",
              "      <td>23.332995</td>\n",
              "    </tr>\n",
              "    <tr>\n",
              "      <th>APPL</th>\n",
              "      <th>2012</th>\n",
              "      <th>1</th>\n",
              "      <td>2012-01-04</td>\n",
              "      <td>53.132802</td>\n",
              "    </tr>\n",
              "    <tr>\n",
              "      <th>MSFT</th>\n",
              "      <th>2012</th>\n",
              "      <th>1</th>\n",
              "      <td>2012-01-05</td>\n",
              "      <td>23.571435</td>\n",
              "    </tr>\n",
              "    <tr>\n",
              "      <th>APPL</th>\n",
              "      <th>2012</th>\n",
              "      <th>1</th>\n",
              "      <td>2012-01-05</td>\n",
              "      <td>53.722681</td>\n",
              "    </tr>\n",
              "    <tr>\n",
              "      <th>MSFT</th>\n",
              "      <th>2012</th>\n",
              "      <th>1</th>\n",
              "      <td>2012-01-06</td>\n",
              "      <td>23.933352</td>\n",
              "    </tr>\n",
              "    <tr>\n",
              "      <th>APPL</th>\n",
              "      <th>2012</th>\n",
              "      <th>1</th>\n",
              "      <td>2012-01-06</td>\n",
              "      <td>54.284287</td>\n",
              "    </tr>\n",
              "    <tr>\n",
              "      <th>MSFT</th>\n",
              "      <th>2012</th>\n",
              "      <th>1</th>\n",
              "      <td>2012-01-09</td>\n",
              "      <td>23.622529</td>\n",
              "    </tr>\n",
              "    <tr>\n",
              "      <th rowspan=\"2\" valign=\"top\">APPL</th>\n",
              "      <th rowspan=\"2\" valign=\"top\">2012</th>\n",
              "      <th>1</th>\n",
              "      <td>2012-01-09</td>\n",
              "      <td>54.198183</td>\n",
              "    </tr>\n",
              "    <tr>\n",
              "      <th>1</th>\n",
              "      <td>2012-01-10</td>\n",
              "      <td>54.392239</td>\n",
              "    </tr>\n",
              "    <tr>\n",
              "      <th>MSFT</th>\n",
              "      <th>2012</th>\n",
              "      <th>1</th>\n",
              "      <td>2012-01-10</td>\n",
              "      <td>23.707686</td>\n",
              "    </tr>\n",
              "    <tr>\n",
              "      <th>APPL</th>\n",
              "      <th>2012</th>\n",
              "      <th>1</th>\n",
              "      <td>2012-01-11</td>\n",
              "      <td>54.303564</td>\n",
              "    </tr>\n",
              "    <tr>\n",
              "      <th>MSFT</th>\n",
              "      <th>2012</th>\n",
              "      <th>1</th>\n",
              "      <td>2012-01-11</td>\n",
              "      <td>23.605497</td>\n",
              "    </tr>\n",
              "    <tr>\n",
              "      <th>APPL</th>\n",
              "      <th>2012</th>\n",
              "      <th>1</th>\n",
              "      <td>2012-01-12</td>\n",
              "      <td>54.154488</td>\n",
              "    </tr>\n",
              "    <tr>\n",
              "      <th>MSFT</th>\n",
              "      <th>2012</th>\n",
              "      <th>1</th>\n",
              "      <td>2012-01-12</td>\n",
              "      <td>23.843937</td>\n",
              "    </tr>\n",
              "    <tr>\n",
              "      <th>APPL</th>\n",
              "      <th>2012</th>\n",
              "      <th>1</th>\n",
              "      <td>2012-01-13</td>\n",
              "      <td>53.951436</td>\n",
              "    </tr>\n",
              "    <tr>\n",
              "      <th rowspan=\"2\" valign=\"top\">MSFT</th>\n",
              "      <th rowspan=\"2\" valign=\"top\">2012</th>\n",
              "      <th>1</th>\n",
              "      <td>2012-01-13</td>\n",
              "      <td>24.056829</td>\n",
              "    </tr>\n",
              "    <tr>\n",
              "      <th>1</th>\n",
              "      <td>2012-01-17</td>\n",
              "      <td>24.061087</td>\n",
              "    </tr>\n",
              "    <tr>\n",
              "      <th rowspan=\"2\" valign=\"top\">APPL</th>\n",
              "      <th rowspan=\"2\" valign=\"top\">2012</th>\n",
              "      <th>1</th>\n",
              "      <td>2012-01-17</td>\n",
              "      <td>54.579869</td>\n",
              "    </tr>\n",
              "    <tr>\n",
              "      <th>1</th>\n",
              "      <td>2012-01-18</td>\n",
              "      <td>55.146616</td>\n",
              "    </tr>\n",
              "    <tr>\n",
              "      <th rowspan=\"2\" valign=\"top\">MSFT</th>\n",
              "      <th rowspan=\"2\" valign=\"top\">2012</th>\n",
              "      <th>1</th>\n",
              "      <td>2012-01-18</td>\n",
              "      <td>24.039798</td>\n",
              "    </tr>\n",
              "    <tr>\n",
              "      <th>1</th>\n",
              "      <td>2012-01-19</td>\n",
              "      <td>23.946125</td>\n",
              "    </tr>\n",
              "    <tr>\n",
              "      <th rowspan=\"2\" valign=\"top\">APPL</th>\n",
              "      <th rowspan=\"2\" valign=\"top\">2012</th>\n",
              "      <th>1</th>\n",
              "      <td>2012-01-19</td>\n",
              "      <td>54.971837</td>\n",
              "    </tr>\n",
              "    <tr>\n",
              "      <th>1</th>\n",
              "      <td>2012-01-20</td>\n",
              "      <td>54.014408</td>\n",
              "    </tr>\n",
              "    <tr>\n",
              "      <th>MSFT</th>\n",
              "      <th>2012</th>\n",
              "      <th>1</th>\n",
              "      <td>2012-01-20</td>\n",
              "      <td>25.300120</td>\n",
              "    </tr>\n",
              "    <tr>\n",
              "      <th>APPL</th>\n",
              "      <th>2012</th>\n",
              "      <th>1</th>\n",
              "      <td>2012-01-23</td>\n",
              "      <td>54.928014</td>\n",
              "    </tr>\n",
              "    <tr>\n",
              "      <th rowspan=\"2\" valign=\"top\">MSFT</th>\n",
              "      <th rowspan=\"2\" valign=\"top\">2012</th>\n",
              "      <th>1</th>\n",
              "      <td>2012-01-23</td>\n",
              "      <td>25.317152</td>\n",
              "    </tr>\n",
              "    <tr>\n",
              "      <th>1</th>\n",
              "      <td>2012-01-24</td>\n",
              "      <td>24.985040</td>\n",
              "    </tr>\n",
              "    <tr>\n",
              "      <th rowspan=\"2\" valign=\"top\">APPL</th>\n",
              "      <th rowspan=\"2\" valign=\"top\">2012</th>\n",
              "      <th>1</th>\n",
              "      <td>2012-01-24</td>\n",
              "      <td>54.028545</td>\n",
              "    </tr>\n",
              "    <tr>\n",
              "      <th>1</th>\n",
              "      <td>2012-01-25</td>\n",
              "      <td>57.402035</td>\n",
              "    </tr>\n",
              "    <tr>\n",
              "      <th>MSFT</th>\n",
              "      <th>2012</th>\n",
              "      <th>1</th>\n",
              "      <td>2012-01-25</td>\n",
              "      <td>25.172385</td>\n",
              "    </tr>\n",
              "    <tr>\n",
              "      <th>APPL</th>\n",
              "      <th>2012</th>\n",
              "      <th>1</th>\n",
              "      <td>2012-01-26</td>\n",
              "      <td>57.141152</td>\n",
              "    </tr>\n",
              "    <tr>\n",
              "      <th>MSFT</th>\n",
              "      <th>2012</th>\n",
              "      <th>1</th>\n",
              "      <td>2012-01-26</td>\n",
              "      <td>25.121291</td>\n",
              "    </tr>\n",
              "    <tr>\n",
              "      <th>APPL</th>\n",
              "      <th>2012</th>\n",
              "      <th>1</th>\n",
              "      <td>2012-01-27</td>\n",
              "      <td>57.481714</td>\n",
              "    </tr>\n",
              "    <tr>\n",
              "      <th>MSFT</th>\n",
              "      <th>2012</th>\n",
              "      <th>1</th>\n",
              "      <td>2012-01-27</td>\n",
              "      <td>24.891367</td>\n",
              "    </tr>\n",
              "    <tr>\n",
              "      <th>APPL</th>\n",
              "      <th>2012</th>\n",
              "      <th>1</th>\n",
              "      <td>2012-01-30</td>\n",
              "      <td>58.218099</td>\n",
              "    </tr>\n",
              "    <tr>\n",
              "      <th rowspan=\"2\" valign=\"top\">MSFT</th>\n",
              "      <th rowspan=\"2\" valign=\"top\">2012</th>\n",
              "      <th>1</th>\n",
              "      <td>2012-01-30</td>\n",
              "      <td>25.214963</td>\n",
              "    </tr>\n",
              "    <tr>\n",
              "      <th>1</th>\n",
              "      <td>2012-01-31</td>\n",
              "      <td>25.146838</td>\n",
              "    </tr>\n",
              "    <tr>\n",
              "      <th>APPL</th>\n",
              "      <th>2012</th>\n",
              "      <th>1</th>\n",
              "      <td>2012-01-31</td>\n",
              "      <td>58.664042</td>\n",
              "    </tr>\n",
              "  </tbody>\n",
              "</table>\n",
              "</div>"
            ],
            "text/plain": [
              "                        Date  Adj. Close\n",
              "Symbol Year Month                       \n",
              "MSFT   2012 1     2012-01-03   22.792249\n",
              "APPL   2012 1     2012-01-03   52.848787\n",
              "MSFT   2012 1     2012-01-04   23.332995\n",
              "APPL   2012 1     2012-01-04   53.132802\n",
              "MSFT   2012 1     2012-01-05   23.571435\n",
              "APPL   2012 1     2012-01-05   53.722681\n",
              "MSFT   2012 1     2012-01-06   23.933352\n",
              "APPL   2012 1     2012-01-06   54.284287\n",
              "MSFT   2012 1     2012-01-09   23.622529\n",
              "APPL   2012 1     2012-01-09   54.198183\n",
              "            1     2012-01-10   54.392239\n",
              "MSFT   2012 1     2012-01-10   23.707686\n",
              "APPL   2012 1     2012-01-11   54.303564\n",
              "MSFT   2012 1     2012-01-11   23.605497\n",
              "APPL   2012 1     2012-01-12   54.154488\n",
              "MSFT   2012 1     2012-01-12   23.843937\n",
              "APPL   2012 1     2012-01-13   53.951436\n",
              "MSFT   2012 1     2012-01-13   24.056829\n",
              "            1     2012-01-17   24.061087\n",
              "APPL   2012 1     2012-01-17   54.579869\n",
              "            1     2012-01-18   55.146616\n",
              "MSFT   2012 1     2012-01-18   24.039798\n",
              "            1     2012-01-19   23.946125\n",
              "APPL   2012 1     2012-01-19   54.971837\n",
              "            1     2012-01-20   54.014408\n",
              "MSFT   2012 1     2012-01-20   25.300120\n",
              "APPL   2012 1     2012-01-23   54.928014\n",
              "MSFT   2012 1     2012-01-23   25.317152\n",
              "            1     2012-01-24   24.985040\n",
              "APPL   2012 1     2012-01-24   54.028545\n",
              "            1     2012-01-25   57.402035\n",
              "MSFT   2012 1     2012-01-25   25.172385\n",
              "APPL   2012 1     2012-01-26   57.141152\n",
              "MSFT   2012 1     2012-01-26   25.121291\n",
              "APPL   2012 1     2012-01-27   57.481714\n",
              "MSFT   2012 1     2012-01-27   24.891367\n",
              "APPL   2012 1     2012-01-30   58.218099\n",
              "MSFT   2012 1     2012-01-30   25.214963\n",
              "            1     2012-01-31   25.146838\n",
              "APPL   2012 1     2012-01-31   58.664042"
            ]
          },
          "metadata": {
            "tags": []
          },
          "execution_count": 54
        }
      ]
    },
    {
      "metadata": {
        "id": "VZInOj-EWCXJ",
        "colab_type": "text"
      },
      "cell_type": "markdown",
      "source": [
        "\n",
        "\n",
        "> Grouping can now be performed using the levels of the hierarchical index. The\n",
        "following groups by the index level 0 ( Symbol names):\n",
        "\n"
      ]
    },
    {
      "metadata": {
        "id": "cMhbWiSWV3jY",
        "colab_type": "code",
        "colab": {
          "base_uri": "https://localhost:8080/",
          "height": 286
        },
        "outputId": "276976e4-36ea-4876-83a7-a36aad512d59"
      },
      "cell_type": "code",
      "source": [
        "mig_l1 = mi.groupby(level=0)\n",
        "print_groups(mig_l1)"
      ],
      "execution_count": 55,
      "outputs": [
        {
          "output_type": "stream",
          "text": [
            "APPL\n",
            "                        Date  Adj. Close\n",
            "Symbol Year Month                       \n",
            "APPL   2012 1     2012-01-03   52.848787\n",
            "            1     2012-01-04   53.132802\n",
            "            1     2012-01-05   53.722681\n",
            "            1     2012-01-06   54.284287\n",
            "            1     2012-01-09   54.198183\n",
            "MSFT\n",
            "                        Date  Adj. Close\n",
            "Symbol Year Month                       \n",
            "MSFT   2012 1     2012-01-03   22.792249\n",
            "            1     2012-01-04   23.332995\n",
            "            1     2012-01-05   23.571435\n",
            "            1     2012-01-06   23.933352\n",
            "            1     2012-01-09   23.622529\n"
          ],
          "name": "stdout"
        }
      ]
    },
    {
      "metadata": {
        "id": "h9SGbVojWMwe",
        "colab_type": "text"
      },
      "cell_type": "markdown",
      "source": [
        "\n",
        "\n",
        "> Grouping by multiple levels can be performed by passing multiple levels to\n",
        ".groupby() . Also, if the MultiIndex has names specified, then those names can be\n",
        "used instead of the integers for the levels. The following command groups the three\n",
        "levels of the MultiIndex by using their names:\n",
        "\n"
      ]
    },
    {
      "metadata": {
        "id": "K9MHSmOrWMC7",
        "colab_type": "code",
        "colab": {
          "base_uri": "https://localhost:8080/",
          "height": 286
        },
        "outputId": "9b6d959d-6cd9-4ff3-b3fb-a7f3f4006238"
      },
      "cell_type": "code",
      "source": [
        "mig_l12 = mi.groupby(level=['Symbol', 'Year', 'Month'])\n",
        "print_groups(mig_l12)"
      ],
      "execution_count": 56,
      "outputs": [
        {
          "output_type": "stream",
          "text": [
            "('APPL', 2012, 1)\n",
            "                        Date  Adj. Close\n",
            "Symbol Year Month                       \n",
            "APPL   2012 1     2012-01-03   52.848787\n",
            "            1     2012-01-04   53.132802\n",
            "            1     2012-01-05   53.722681\n",
            "            1     2012-01-06   54.284287\n",
            "            1     2012-01-09   54.198183\n",
            "('MSFT', 2012, 1)\n",
            "                        Date  Adj. Close\n",
            "Symbol Year Month                       \n",
            "MSFT   2012 1     2012-01-03   22.792249\n",
            "            1     2012-01-04   23.332995\n",
            "            1     2012-01-05   23.571435\n",
            "            1     2012-01-06   23.933352\n",
            "            1     2012-01-09   23.622529\n"
          ],
          "name": "stdout"
        }
      ]
    },
    {
      "metadata": {
        "id": "k6mePLxo0HRE",
        "colab_type": "text"
      },
      "cell_type": "markdown",
      "source": [
        "\n",
        "\n",
        "> 2.   Aggregating\n",
        "Armed with the capability to group the stock data on a monthly basis, we can now\n",
        "start to drive analysis of the data. Specifically, we will develop methods to calculate\n",
        "the risk on a stock based on a time-window of a calendar month.\n",
        "Aggregation is performed using the .aggregate() , or in short .agg() , method of\n",
        "the GroupBy object. The parameter set to .agg() is a reference to a function that is\n",
        "applied to each group. The following command will calculate the mean of the values\n",
        "across each Symbol , Year , and Month :\n",
        "\n",
        "\n",
        "\n"
      ]
    },
    {
      "metadata": {
        "id": "Do7i3knrWHOV",
        "colab_type": "code",
        "colab": {
          "base_uri": "https://localhost:8080/",
          "height": 136
        },
        "outputId": "cbb9c6e1-8440-45e5-fa58-88ea040ee3ae"
      },
      "cell_type": "code",
      "source": [
        "mig_l12.agg(np.mean)"
      ],
      "execution_count": 57,
      "outputs": [
        {
          "output_type": "execute_result",
          "data": {
            "text/html": [
              "<div>\n",
              "<style scoped>\n",
              "    .dataframe tbody tr th:only-of-type {\n",
              "        vertical-align: middle;\n",
              "    }\n",
              "\n",
              "    .dataframe tbody tr th {\n",
              "        vertical-align: top;\n",
              "    }\n",
              "\n",
              "    .dataframe thead th {\n",
              "        text-align: right;\n",
              "    }\n",
              "</style>\n",
              "<table border=\"1\" class=\"dataframe\">\n",
              "  <thead>\n",
              "    <tr style=\"text-align: right;\">\n",
              "      <th></th>\n",
              "      <th></th>\n",
              "      <th></th>\n",
              "      <th>Adj. Close</th>\n",
              "    </tr>\n",
              "    <tr>\n",
              "      <th>Symbol</th>\n",
              "      <th>Year</th>\n",
              "      <th>Month</th>\n",
              "      <th></th>\n",
              "    </tr>\n",
              "  </thead>\n",
              "  <tbody>\n",
              "    <tr>\n",
              "      <th>APPL</th>\n",
              "      <th>2012</th>\n",
              "      <th>1</th>\n",
              "      <td>55.078240</td>\n",
              "    </tr>\n",
              "    <tr>\n",
              "      <th>MSFT</th>\n",
              "      <th>2012</th>\n",
              "      <th>1</th>\n",
              "      <td>24.283134</td>\n",
              "    </tr>\n",
              "  </tbody>\n",
              "</table>\n",
              "</div>"
            ],
            "text/plain": [
              "                   Adj. Close\n",
              "Symbol Year Month            \n",
              "APPL   2012 1       55.078240\n",
              "MSFT   2012 1       24.283134"
            ]
          },
          "metadata": {
            "tags": []
          },
          "execution_count": 57
        }
      ]
    },
    {
      "metadata": {
        "id": "Nuz8sXjA3IVD",
        "colab_type": "text"
      },
      "cell_type": "markdown",
      "source": [
        "\n",
        "\n",
        "> > The result of the aggregation will have an identically structured index as the original\n",
        "data. If you do not want this to happen, you can use the as_index=False option of\n",
        "the .groupby() method to specify not to duplicate the structure of the index, which\n",
        "may be convenient in several situations, including where a function expects the data\n",
        "with a numerical index:\n",
        "\n",
        "\n",
        "\n"
      ]
    },
    {
      "metadata": {
        "id": "8Rn8JODb27Sx",
        "colab_type": "code",
        "colab": {
          "base_uri": "https://localhost:8080/",
          "height": 106
        },
        "outputId": "73faa449-4783-47d1-de2f-21b612627aab"
      },
      "cell_type": "code",
      "source": [
        "JanSC.groupby(['Symbol', 'Year', 'Month'],as_index=False).agg(np.mean)[:5]"
      ],
      "execution_count": 59,
      "outputs": [
        {
          "output_type": "execute_result",
          "data": {
            "text/html": [
              "<div>\n",
              "<style scoped>\n",
              "    .dataframe tbody tr th:only-of-type {\n",
              "        vertical-align: middle;\n",
              "    }\n",
              "\n",
              "    .dataframe tbody tr th {\n",
              "        vertical-align: top;\n",
              "    }\n",
              "\n",
              "    .dataframe thead th {\n",
              "        text-align: right;\n",
              "    }\n",
              "</style>\n",
              "<table border=\"1\" class=\"dataframe\">\n",
              "  <thead>\n",
              "    <tr style=\"text-align: right;\">\n",
              "      <th></th>\n",
              "      <th>Symbol</th>\n",
              "      <th>Year</th>\n",
              "      <th>Month</th>\n",
              "      <th>Adj. Close</th>\n",
              "    </tr>\n",
              "  </thead>\n",
              "  <tbody>\n",
              "    <tr>\n",
              "      <th>0</th>\n",
              "      <td>APPL</td>\n",
              "      <td>2012</td>\n",
              "      <td>1</td>\n",
              "      <td>55.078240</td>\n",
              "    </tr>\n",
              "    <tr>\n",
              "      <th>1</th>\n",
              "      <td>MSFT</td>\n",
              "      <td>2012</td>\n",
              "      <td>1</td>\n",
              "      <td>24.283134</td>\n",
              "    </tr>\n",
              "  </tbody>\n",
              "</table>\n",
              "</div>"
            ],
            "text/plain": [
              "  Symbol  Year  Month  Adj. Close\n",
              "0   APPL  2012      1   55.078240\n",
              "1   MSFT  2012      1   24.283134"
            ]
          },
          "metadata": {
            "tags": []
          },
          "execution_count": 59
        }
      ]
    },
    {
      "metadata": {
        "id": "RlGFkzHy30Yl",
        "colab_type": "text"
      },
      "cell_type": "markdown",
      "source": [
        ">>This has derived the same results, but there is a slightly different organization.\n",
        "It is possible to apply multiple aggregation functions to each group in a single call to\n",
        ".agg() by passing them in a list:"
      ]
    },
    {
      "metadata": {
        "id": "Q6E9EIhA3RMi",
        "colab_type": "code",
        "colab": {
          "base_uri": "https://localhost:8080/",
          "height": 166
        },
        "outputId": "4f967b96-d26d-4254-d120-ed9c0b98d048"
      },
      "cell_type": "code",
      "source": [
        "mig_l12.agg([np.mean, np.std])"
      ],
      "execution_count": 60,
      "outputs": [
        {
          "output_type": "execute_result",
          "data": {
            "text/html": [
              "<div>\n",
              "<style scoped>\n",
              "    .dataframe tbody tr th:only-of-type {\n",
              "        vertical-align: middle;\n",
              "    }\n",
              "\n",
              "    .dataframe tbody tr th {\n",
              "        vertical-align: top;\n",
              "    }\n",
              "\n",
              "    .dataframe thead tr th {\n",
              "        text-align: left;\n",
              "    }\n",
              "\n",
              "    .dataframe thead tr:last-of-type th {\n",
              "        text-align: right;\n",
              "    }\n",
              "</style>\n",
              "<table border=\"1\" class=\"dataframe\">\n",
              "  <thead>\n",
              "    <tr>\n",
              "      <th></th>\n",
              "      <th></th>\n",
              "      <th></th>\n",
              "      <th colspan=\"2\" halign=\"left\">Adj. Close</th>\n",
              "    </tr>\n",
              "    <tr>\n",
              "      <th></th>\n",
              "      <th></th>\n",
              "      <th></th>\n",
              "      <th>mean</th>\n",
              "      <th>std</th>\n",
              "    </tr>\n",
              "    <tr>\n",
              "      <th>Symbol</th>\n",
              "      <th>Year</th>\n",
              "      <th>Month</th>\n",
              "      <th></th>\n",
              "      <th></th>\n",
              "    </tr>\n",
              "  </thead>\n",
              "  <tbody>\n",
              "    <tr>\n",
              "      <th>APPL</th>\n",
              "      <th>2012</th>\n",
              "      <th>1</th>\n",
              "      <td>55.078240</td>\n",
              "      <td>1.714656</td>\n",
              "    </tr>\n",
              "    <tr>\n",
              "      <th>MSFT</th>\n",
              "      <th>2012</th>\n",
              "      <th>1</th>\n",
              "      <td>24.283134</td>\n",
              "      <td>0.778694</td>\n",
              "    </tr>\n",
              "  </tbody>\n",
              "</table>\n",
              "</div>"
            ],
            "text/plain": [
              "                  Adj. Close          \n",
              "                        mean       std\n",
              "Symbol Year Month                     \n",
              "APPL   2012 1      55.078240  1.714656\n",
              "MSFT   2012 1      24.283134  0.778694"
            ]
          },
          "metadata": {
            "tags": []
          },
          "execution_count": 60
        }
      ]
    }
  ]
}