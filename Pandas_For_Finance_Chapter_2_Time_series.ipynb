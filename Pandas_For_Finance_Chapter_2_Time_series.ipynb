{
  "nbformat": 4,
  "nbformat_minor": 0,
  "metadata": {
    "colab": {
      "name": "Pandas_For_Finance_Chapter_2_Time-series.ipynb",
      "version": "0.3.2",
      "provenance": [],
      "collapsed_sections": [],
      "include_colab_link": true
    },
    "kernelspec": {
      "name": "python3",
      "display_name": "Python 3"
    }
  },
  "cells": [
    {
      "cell_type": "markdown",
      "metadata": {
        "id": "view-in-github",
        "colab_type": "text"
      },
      "source": [
        "[View in Colaboratory](https://colab.research.google.com/github/gauravsingh1012/Understanding-Pandas-For-Data-Analysis-and-Data-Visualisation/blob/master/Pandas_For_Finance_Chapter_2_Time_series.ipynb)"
      ]
    },
    {
      "metadata": {
        "id": "i3qjR-jd5U8b",
        "colab_type": "text"
      },
      "cell_type": "markdown",
      "source": [
        "#Chapter 2: Time-series\n",
        "\n",
        "** Notebook Setup: Loading historical stock data from the quandl **\n"
      ]
    },
    {
      "metadata": {
        "id": "y6u7UMUh5JGq",
        "colab_type": "code",
        "colab": {
          "base_uri": "https://localhost:8080/",
          "height": 403
        },
        "outputId": "fbc51a41-2cee-4972-baab-006d716728d7"
      },
      "cell_type": "code",
      "source": [
        "!pip install quandl"
      ],
      "execution_count": 3,
      "outputs": [
        {
          "output_type": "stream",
          "text": [
            "Collecting quandl\n",
            "  Downloading https://files.pythonhosted.org/packages/91/c4/dffb7ebe00231e7bde2c6841d68710705ef4fdc799e1f6ea9cc3d1fe751b/Quandl-3.4.1-py2.py3-none-any.whl\n",
            "Requirement already satisfied: requests>=2.7.0 in /usr/local/lib/python3.6/dist-packages (from quandl) (2.18.4)\n",
            "Requirement already satisfied: numpy>=1.8 in /usr/local/lib/python3.6/dist-packages (from quandl) (1.14.5)\n",
            "Requirement already satisfied: pandas>=0.14 in /usr/local/lib/python3.6/dist-packages (from quandl) (0.22.0)\n",
            "Collecting inflection>=0.3.1 (from quandl)\n",
            "  Downloading https://files.pythonhosted.org/packages/d5/35/a6eb45b4e2356fe688b21570864d4aa0d0a880ce387defe9c589112077f8/inflection-0.3.1.tar.gz\n",
            "Collecting more-itertools (from quandl)\n",
            "\u001b[?25l  Downloading https://files.pythonhosted.org/packages/79/b1/eace304ef66bd7d3d8b2f78cc374b73ca03bc53664d78151e9df3b3996cc/more_itertools-4.3.0-py3-none-any.whl (48kB)\n",
            "\u001b[K    100% |████████████████████████████████| 51kB 5.4MB/s \n",
            "\u001b[?25hRequirement already satisfied: python-dateutil in /usr/local/lib/python3.6/dist-packages (from quandl) (2.5.3)\n",
            "Requirement already satisfied: six in /usr/local/lib/python3.6/dist-packages (from quandl) (1.11.0)\n",
            "Requirement already satisfied: urllib3<1.23,>=1.21.1 in /usr/local/lib/python3.6/dist-packages (from requests>=2.7.0->quandl) (1.22)\n",
            "Requirement already satisfied: certifi>=2017.4.17 in /usr/local/lib/python3.6/dist-packages (from requests>=2.7.0->quandl) (2018.8.13)\n",
            "Requirement already satisfied: idna<2.7,>=2.5 in /usr/local/lib/python3.6/dist-packages (from requests>=2.7.0->quandl) (2.6)\n",
            "Requirement already satisfied: chardet<3.1.0,>=3.0.2 in /usr/local/lib/python3.6/dist-packages (from requests>=2.7.0->quandl) (3.0.4)\n",
            "Requirement already satisfied: pytz>=2011k in /usr/local/lib/python3.6/dist-packages (from pandas>=0.14->quandl) (2018.5)\n",
            "Building wheels for collected packages: inflection\n",
            "  Running setup.py bdist_wheel for inflection ... \u001b[?25l-\b \bdone\n",
            "\u001b[?25h  Stored in directory: /content/.cache/pip/wheels/9f/5a/d3/6fc3bf6516d2a3eb7e18f9f28b472110b59325f3f258fe9211\n",
            "Successfully built inflection\n",
            "Installing collected packages: inflection, more-itertools, quandl\n",
            "Successfully installed inflection-0.3.1 more-itertools-4.3.0 quandl-3.4.1\n"
          ],
          "name": "stdout"
        }
      ]
    },
    {
      "metadata": {
        "id": "CPdxgPs56YiT",
        "colab_type": "code",
        "colab": {}
      },
      "cell_type": "code",
      "source": [
        "import quandl\n",
        "import pandas as pd\n",
        "import numpy as np\n",
        "import time"
      ],
      "execution_count": 0,
      "outputs": []
    },
    {
      "metadata": {
        "id": "LDcMkhNE6abf",
        "colab_type": "code",
        "colab": {}
      },
      "cell_type": "code",
      "source": [
        "quandl.ApiConfig.api_key = input('Please enter your quandl Key: ')\n",
        "exchange = 'WIKI'"
      ],
      "execution_count": 0,
      "outputs": []
    },
    {
      "metadata": {
        "id": "HD07IHv06dIm",
        "colab_type": "code",
        "colab": {
          "base_uri": "https://localhost:8080/",
          "height": 106
        },
        "outputId": "d2ee11b3-7f0e-4bd7-8442-60e5f0fbafd9"
      },
      "cell_type": "code",
      "source": [
        "ticker = 'MSFT'\n",
        "msft = quandl.get('%s/%s' % (exchange, ticker))\n",
        "msft.head(1)"
      ],
      "execution_count": 6,
      "outputs": [
        {
          "output_type": "execute_result",
          "data": {
            "text/html": [
              "<div>\n",
              "<style scoped>\n",
              "    .dataframe tbody tr th:only-of-type {\n",
              "        vertical-align: middle;\n",
              "    }\n",
              "\n",
              "    .dataframe tbody tr th {\n",
              "        vertical-align: top;\n",
              "    }\n",
              "\n",
              "    .dataframe thead th {\n",
              "        text-align: right;\n",
              "    }\n",
              "</style>\n",
              "<table border=\"1\" class=\"dataframe\">\n",
              "  <thead>\n",
              "    <tr style=\"text-align: right;\">\n",
              "      <th></th>\n",
              "      <th>Open</th>\n",
              "      <th>High</th>\n",
              "      <th>Low</th>\n",
              "      <th>Close</th>\n",
              "      <th>Volume</th>\n",
              "      <th>Ex-Dividend</th>\n",
              "      <th>Split Ratio</th>\n",
              "      <th>Adj. Open</th>\n",
              "      <th>Adj. High</th>\n",
              "      <th>Adj. Low</th>\n",
              "      <th>Adj. Close</th>\n",
              "      <th>Adj. Volume</th>\n",
              "    </tr>\n",
              "    <tr>\n",
              "      <th>Date</th>\n",
              "      <th></th>\n",
              "      <th></th>\n",
              "      <th></th>\n",
              "      <th></th>\n",
              "      <th></th>\n",
              "      <th></th>\n",
              "      <th></th>\n",
              "      <th></th>\n",
              "      <th></th>\n",
              "      <th></th>\n",
              "      <th></th>\n",
              "      <th></th>\n",
              "    </tr>\n",
              "  </thead>\n",
              "  <tbody>\n",
              "    <tr>\n",
              "      <th>1986-03-13</th>\n",
              "      <td>25.5</td>\n",
              "      <td>29.25</td>\n",
              "      <td>25.5</td>\n",
              "      <td>28.0</td>\n",
              "      <td>3582600.0</td>\n",
              "      <td>0.0</td>\n",
              "      <td>1.0</td>\n",
              "      <td>0.058941</td>\n",
              "      <td>0.067609</td>\n",
              "      <td>0.058941</td>\n",
              "      <td>0.06472</td>\n",
              "      <td>1.031789e+09</td>\n",
              "    </tr>\n",
              "  </tbody>\n",
              "</table>\n",
              "</div>"
            ],
            "text/plain": [
              "            Open   High   Low  Close     Volume  Ex-Dividend  Split Ratio  \\\n",
              "Date                                                                        \n",
              "1986-03-13  25.5  29.25  25.5   28.0  3582600.0          0.0          1.0   \n",
              "\n",
              "            Adj. Open  Adj. High  Adj. Low  Adj. Close   Adj. Volume  \n",
              "Date                                                                  \n",
              "1986-03-13   0.058941   0.067609  0.058941     0.06472  1.031789e+09  "
            ]
          },
          "metadata": {
            "tags": []
          },
          "execution_count": 6
        }
      ]
    },
    {
      "metadata": {
        "id": "umU6iOj07NjL",
        "colab_type": "text"
      },
      "cell_type": "markdown",
      "source": [
        ">**1. DatetimeIndex and its use in time-series data**\n",
        "\n",
        ">Excelling at manipulating time-series data, pandas was created initially for use in\n",
        "finance, and from its inception, it has had facilities for managing complete date and\n",
        "time-series operations to handle complex financial scenarios. These capabilities have\n",
        "been progressively expanded and refined over all of its versions.\n",
        "\n",
        ">The representations of dates, times, and time intervals and periods provided by\n",
        "pandas, which are pandas's own, are above and beyond those provided in other\n",
        "Python frameworks such as SciPy and NumPy. The pandas implementations provide\n",
        "additional capabilities that are required to model time-series data, and to transform\n",
        "data across different frequencies, periods, and calendars for different organizations\n",
        "and financial markets.\n",
        "\n",
        ">Specific dates and times in pandas are represented using the pandas Timestamp\n",
        "class. Timestamp is based on NumPy's dtype datetime64 and has higher precision\n",
        "than Python's built-in datetime object. This increased precision is frequently\n",
        "required for accurate financial calculations.\n",
        "\n",
        ">Sequences of timestamp objects are represented by pandas as a DatetimeIndex ,\n",
        "which is a type of pandas index that is optimized for indexing by dates and times.\n",
        "There are several ways to create DatetimeIndex objects in pandas. The following\n",
        "command creates a DatetimeIndex from an array of datetime objects:"
      ]
    },
    {
      "metadata": {
        "id": "k5J6DtWO6ol7",
        "colab_type": "code",
        "colab": {
          "base_uri": "https://localhost:8080/",
          "height": 151
        },
        "outputId": "4dd02e42-141a-4316-97d4-f04e826884eb"
      },
      "cell_type": "code",
      "source": [
        "pd.DatetimeIndex(msft.reset_index(level=0)[\"Date\"])\n"
      ],
      "execution_count": 7,
      "outputs": [
        {
          "output_type": "execute_result",
          "data": {
            "text/plain": [
              "DatetimeIndex(['1986-03-13', '1986-03-14', '1986-03-17', '1986-03-18',\n",
              "               '1986-03-19', '1986-03-20', '1986-03-21', '1986-03-24',\n",
              "               '1986-03-25', '1986-03-26',\n",
              "               ...\n",
              "               '2018-03-14', '2018-03-15', '2018-03-16', '2018-03-19',\n",
              "               '2018-03-20', '2018-03-21', '2018-03-22', '2018-03-23',\n",
              "               '2018-03-26', '2018-03-27'],\n",
              "              dtype='datetime64[ns]', name='Date', length=8076, freq=None)"
            ]
          },
          "metadata": {
            "tags": []
          },
          "execution_count": 7
        }
      ]
    },
    {
      "metadata": {
        "id": "XuSmqcJt8T94",
        "colab_type": "code",
        "colab": {}
      },
      "cell_type": "code",
      "source": [
        "dates = pd.DatetimeIndex(msft.reset_index(level=0)[\"Date\"])"
      ],
      "execution_count": 0,
      "outputs": []
    },
    {
      "metadata": {
        "id": "sM-D9xyQNM-t",
        "colab_type": "code",
        "colab": {}
      },
      "cell_type": "code",
      "source": [
        "np.random.seed(123456)\n",
        "ts = pd.Series(np.random.randn(len(dates)),dates)"
      ],
      "execution_count": 0,
      "outputs": []
    },
    {
      "metadata": {
        "id": "9m6ih6CHNSKR",
        "colab_type": "code",
        "colab": {
          "base_uri": "https://localhost:8080/",
          "height": 34
        },
        "outputId": "a56ee394-85f0-4e21-d7a0-fc49f6bc7621"
      },
      "cell_type": "code",
      "source": [
        "type(ts.index)"
      ],
      "execution_count": 10,
      "outputs": [
        {
          "output_type": "execute_result",
          "data": {
            "text/plain": [
              "pandas.core.indexes.datetimes.DatetimeIndex"
            ]
          },
          "metadata": {
            "tags": []
          },
          "execution_count": 10
        }
      ]
    },
    {
      "metadata": {
        "id": "k4NpV7AAODph",
        "colab_type": "text"
      },
      "cell_type": "markdown",
      "source": [
        ">A Series will also automatically construct a DatetimeIndex as its index when\n",
        "passing a list of datetime objects as the index parameter.\n",
        "\n",
        ">The Series object has taken the datetime objects and constructed a DatetimeIndex\n",
        "from the date values, where each value of the DatetimeIndex is a Timestamp object,\n",
        "and each element of the index can be used to access the corresponding value in the\n",
        "Series object. To demonstrate this, the following command shows several ways\n",
        "in which we can access the value in the Series with the date 2018-03-14 as an\n",
        "index label:"
      ]
    },
    {
      "metadata": {
        "id": "AmyrnskUNUJb",
        "colab_type": "code",
        "colab": {
          "base_uri": "https://localhost:8080/",
          "height": 151
        },
        "outputId": "f5727be3-9fdb-4070-ced6-d91b2311ba16"
      },
      "cell_type": "code",
      "source": [
        "ts.index"
      ],
      "execution_count": 11,
      "outputs": [
        {
          "output_type": "execute_result",
          "data": {
            "text/plain": [
              "DatetimeIndex(['1986-03-13', '1986-03-14', '1986-03-17', '1986-03-18',\n",
              "               '1986-03-19', '1986-03-20', '1986-03-21', '1986-03-24',\n",
              "               '1986-03-25', '1986-03-26',\n",
              "               ...\n",
              "               '2018-03-14', '2018-03-15', '2018-03-16', '2018-03-19',\n",
              "               '2018-03-20', '2018-03-21', '2018-03-22', '2018-03-23',\n",
              "               '2018-03-26', '2018-03-27'],\n",
              "              dtype='datetime64[ns]', name='Date', length=8076, freq=None)"
            ]
          },
          "metadata": {
            "tags": []
          },
          "execution_count": 11
        }
      ]
    },
    {
      "metadata": {
        "id": "h4fD2v-nUcbF",
        "colab_type": "code",
        "colab": {
          "base_uri": "https://localhost:8080/",
          "height": 34
        },
        "outputId": "83bef099-fdfe-463b-a476-85af5b56ef67"
      },
      "cell_type": "code",
      "source": [
        "ts['2018-03-14']"
      ],
      "execution_count": 12,
      "outputs": [
        {
          "output_type": "execute_result",
          "data": {
            "text/plain": [
              "-0.2947681722979329"
            ]
          },
          "metadata": {
            "tags": []
          },
          "execution_count": 12
        }
      ]
    },
    {
      "metadata": {
        "id": "NVyv65zgjhK3",
        "colab_type": "text"
      },
      "cell_type": "markdown",
      "source": [
        ">One of the advantages of pandas is the ability to be able to select based upon partial\n",
        "datetime specifications. As an example, the following command selects data\n",
        "for the month of March 2018:"
      ]
    },
    {
      "metadata": {
        "id": "qZs2J0lJVM8r",
        "colab_type": "code",
        "colab": {
          "base_uri": "https://localhost:8080/",
          "height": 370
        },
        "outputId": "bf453153-1082-435e-8ab7-e1c1aba184d6"
      },
      "cell_type": "code",
      "source": [
        "ts['2018-03']"
      ],
      "execution_count": 13,
      "outputs": [
        {
          "output_type": "execute_result",
          "data": {
            "text/plain": [
              "Date\n",
              "2018-03-01    1.069782\n",
              "2018-03-02   -0.424193\n",
              "2018-03-05    0.986069\n",
              "2018-03-06    0.209142\n",
              "2018-03-07   -0.978009\n",
              "2018-03-08    0.018495\n",
              "2018-03-09    0.284592\n",
              "2018-03-12   -1.092970\n",
              "2018-03-13    0.035153\n",
              "2018-03-14   -0.294768\n",
              "2018-03-15    0.965046\n",
              "2018-03-16    0.025081\n",
              "2018-03-19   -0.792228\n",
              "2018-03-20    1.020248\n",
              "2018-03-21   -0.141247\n",
              "2018-03-22    0.279738\n",
              "2018-03-23   -1.276618\n",
              "2018-03-26    0.501666\n",
              "2018-03-27   -1.257674\n",
              "dtype: float64"
            ]
          },
          "metadata": {
            "tags": []
          },
          "execution_count": 13
        }
      ]
    },
    {
      "metadata": {
        "id": "tJcHvPQEWIm2",
        "colab_type": "text"
      },
      "cell_type": "markdown",
      "source": [
        ">Note that this did not require the use of the .loc method, as pandas\n",
        "first identifies this as a partial date and then looks along the index of\n",
        "the DataFrame instead of a column (although .loc can be used to\n",
        "perform an equivalent operation).\n",
        "\n",
        ">Also provided by pandas is the pd.to_datetime() function, which is used to\n",
        "perform a conversion of a list of potentially mixed type items into a DatetimeIndex :"
      ]
    },
    {
      "metadata": {
        "id": "8pPm9qcdVc_-",
        "colab_type": "code",
        "colab": {
          "base_uri": "https://localhost:8080/",
          "height": 34
        },
        "outputId": "742a2e92-7b46-47f5-e52b-46af4f876ed3"
      },
      "cell_type": "code",
      "source": [
        "dti = pd.to_datetime(['Aug 1, 2014', '2014-08-02',\n",
        "'2014.8.3', None])\n",
        "dti #Notice that None is converted into a not-a-time value, NaT, which represents that the source data could not be converted into datetime."
      ],
      "execution_count": 14,
      "outputs": [
        {
          "output_type": "execute_result",
          "data": {
            "text/plain": [
              "DatetimeIndex(['2014-08-01', '2014-08-02', '2014-08-03', 'NaT'], dtype='datetime64[ns]', freq=None)"
            ]
          },
          "metadata": {
            "tags": []
          },
          "execution_count": 14
        }
      ]
    },
    {
      "metadata": {
        "id": "oEDG5EsLWeTk",
        "colab_type": "text"
      },
      "cell_type": "markdown",
      "source": [
        ">The pandas default is that date strings are always month first. If you need to parse\n",
        "dates with the day as the first component, you can use the dayfirst=True option,\n",
        "which can be useful as data can often have day first, particularly when it is non-U.S.\n",
        "data. The following command demonstrates this in action and also shows how the\n",
        "ordering can be changed:"
      ]
    },
    {
      "metadata": {
        "id": "u5sbA8A5WQxP",
        "colab_type": "code",
        "colab": {
          "base_uri": "https://localhost:8080/",
          "height": 34
        },
        "outputId": "6afcc212-fc70-4ff5-aa6c-0f3af906405d"
      },
      "cell_type": "code",
      "source": [
        "dti1 = pd.to_datetime(['8/1/2014'])\n",
        "dti2 = pd.to_datetime(['1/8/2014'], dayfirst=True)\n",
        "dti1[0], dti2[0]"
      ],
      "execution_count": 15,
      "outputs": [
        {
          "output_type": "execute_result",
          "data": {
            "text/plain": [
              "(Timestamp('2014-08-01 00:00:00'), Timestamp('2014-08-01 00:00:00'))"
            ]
          },
          "metadata": {
            "tags": []
          },
          "execution_count": 15
        }
      ]
    },
    {
      "metadata": {
        "id": "HaFUv8_nXB0s",
        "colab_type": "text"
      },
      "cell_type": "markdown",
      "source": [
        ">A range of timestamps at a specific frequency can easily be created using the\n",
        "pd.date_range() function. The following command creates a Series from a\n",
        "DatetimeIndex of 10 consecutive days:"
      ]
    },
    {
      "metadata": {
        "id": "nY7XkKbNWilE",
        "colab_type": "code",
        "colab": {
          "base_uri": "https://localhost:8080/",
          "height": 202
        },
        "outputId": "dda5de0d-8e46-4bbf-99b6-b7f62629880f"
      },
      "cell_type": "code",
      "source": [
        "np.random.seed(123456)\n",
        "dates = pd.date_range('8/1/2014', periods=10)\n",
        "s1 = pd.Series(np.random.randn(10), dates)\n",
        "s1[:10]"
      ],
      "execution_count": 16,
      "outputs": [
        {
          "output_type": "execute_result",
          "data": {
            "text/plain": [
              "2014-08-01    0.469112\n",
              "2014-08-02   -0.282863\n",
              "2014-08-03   -1.509059\n",
              "2014-08-04   -1.135632\n",
              "2014-08-05    1.212112\n",
              "2014-08-06   -0.173215\n",
              "2014-08-07    0.119209\n",
              "2014-08-08   -1.044236\n",
              "2014-08-09   -0.861849\n",
              "2014-08-10   -2.104569\n",
              "Freq: D, dtype: float64"
            ]
          },
          "metadata": {
            "tags": []
          },
          "execution_count": 16
        }
      ]
    },
    {
      "metadata": {
        "id": "2RZ-qWFVXXqA",
        "colab_type": "text"
      },
      "cell_type": "markdown",
      "source": [
        ">Like any pandas index, a DatetimeIndex can be used for various index operations,\n",
        "such as data alignment, selection, and slicing."
      ]
    },
    {
      "metadata": {
        "id": "TF4tmj5TXEt2",
        "colab_type": "code",
        "colab": {
          "base_uri": "https://localhost:8080/",
          "height": 166
        },
        "outputId": "b44d8c5c-794c-43b7-a9da-0d238288282f"
      },
      "cell_type": "code",
      "source": [
        "msft.loc['2012-01-01':'2012-01-05'] #slicing"
      ],
      "execution_count": 17,
      "outputs": [
        {
          "output_type": "execute_result",
          "data": {
            "text/html": [
              "<div>\n",
              "<style scoped>\n",
              "    .dataframe tbody tr th:only-of-type {\n",
              "        vertical-align: middle;\n",
              "    }\n",
              "\n",
              "    .dataframe tbody tr th {\n",
              "        vertical-align: top;\n",
              "    }\n",
              "\n",
              "    .dataframe thead th {\n",
              "        text-align: right;\n",
              "    }\n",
              "</style>\n",
              "<table border=\"1\" class=\"dataframe\">\n",
              "  <thead>\n",
              "    <tr style=\"text-align: right;\">\n",
              "      <th></th>\n",
              "      <th>Open</th>\n",
              "      <th>High</th>\n",
              "      <th>Low</th>\n",
              "      <th>Close</th>\n",
              "      <th>Volume</th>\n",
              "      <th>Ex-Dividend</th>\n",
              "      <th>Split Ratio</th>\n",
              "      <th>Adj. Open</th>\n",
              "      <th>Adj. High</th>\n",
              "      <th>Adj. Low</th>\n",
              "      <th>Adj. Close</th>\n",
              "      <th>Adj. Volume</th>\n",
              "    </tr>\n",
              "    <tr>\n",
              "      <th>Date</th>\n",
              "      <th></th>\n",
              "      <th></th>\n",
              "      <th></th>\n",
              "      <th></th>\n",
              "      <th></th>\n",
              "      <th></th>\n",
              "      <th></th>\n",
              "      <th></th>\n",
              "      <th></th>\n",
              "      <th></th>\n",
              "      <th></th>\n",
              "      <th></th>\n",
              "    </tr>\n",
              "  </thead>\n",
              "  <tbody>\n",
              "    <tr>\n",
              "      <th>2012-01-03</th>\n",
              "      <td>26.5500</td>\n",
              "      <td>26.960</td>\n",
              "      <td>26.39</td>\n",
              "      <td>26.765</td>\n",
              "      <td>64731500.0</td>\n",
              "      <td>0.0</td>\n",
              "      <td>1.0</td>\n",
              "      <td>22.609162</td>\n",
              "      <td>22.958305</td>\n",
              "      <td>22.472910</td>\n",
              "      <td>22.792249</td>\n",
              "      <td>64731500.0</td>\n",
              "    </tr>\n",
              "    <tr>\n",
              "      <th>2012-01-04</th>\n",
              "      <td>26.8199</td>\n",
              "      <td>27.470</td>\n",
              "      <td>26.78</td>\n",
              "      <td>27.400</td>\n",
              "      <td>80516100.0</td>\n",
              "      <td>0.0</td>\n",
              "      <td>1.0</td>\n",
              "      <td>22.839000</td>\n",
              "      <td>23.392605</td>\n",
              "      <td>22.805022</td>\n",
              "      <td>23.332995</td>\n",
              "      <td>80516100.0</td>\n",
              "    </tr>\n",
              "    <tr>\n",
              "      <th>2012-01-05</th>\n",
              "      <td>27.3800</td>\n",
              "      <td>27.728</td>\n",
              "      <td>27.29</td>\n",
              "      <td>27.680</td>\n",
              "      <td>56081400.0</td>\n",
              "      <td>0.0</td>\n",
              "      <td>1.0</td>\n",
              "      <td>23.315964</td>\n",
              "      <td>23.612310</td>\n",
              "      <td>23.239323</td>\n",
              "      <td>23.571435</td>\n",
              "      <td>56081400.0</td>\n",
              "    </tr>\n",
              "  </tbody>\n",
              "</table>\n",
              "</div>"
            ],
            "text/plain": [
              "               Open    High    Low   Close      Volume  Ex-Dividend  \\\n",
              "Date                                                                  \n",
              "2012-01-03  26.5500  26.960  26.39  26.765  64731500.0          0.0   \n",
              "2012-01-04  26.8199  27.470  26.78  27.400  80516100.0          0.0   \n",
              "2012-01-05  27.3800  27.728  27.29  27.680  56081400.0          0.0   \n",
              "\n",
              "            Split Ratio  Adj. Open  Adj. High   Adj. Low  Adj. Close  \\\n",
              "Date                                                                   \n",
              "2012-01-03          1.0  22.609162  22.958305  22.472910   22.792249   \n",
              "2012-01-04          1.0  22.839000  23.392605  22.805022   23.332995   \n",
              "2012-01-05          1.0  23.315964  23.612310  23.239323   23.571435   \n",
              "\n",
              "            Adj. Volume  \n",
              "Date                     \n",
              "2012-01-03   64731500.0  \n",
              "2012-01-04   80516100.0  \n",
              "2012-01-05   56081400.0  "
            ]
          },
          "metadata": {
            "tags": []
          },
          "execution_count": 17
        }
      ]
    },
    {
      "metadata": {
        "id": "GIrzAvvmkxWH",
        "colab_type": "code",
        "colab": {
          "base_uri": "https://localhost:8080/",
          "height": 166
        },
        "outputId": "a4084c99-e5d9-4c94-dbc3-4d6242877747"
      },
      "cell_type": "code",
      "source": [
        "msft.loc['2012-01':'2012-01-05'] #slicing till particular date"
      ],
      "execution_count": 18,
      "outputs": [
        {
          "output_type": "execute_result",
          "data": {
            "text/html": [
              "<div>\n",
              "<style scoped>\n",
              "    .dataframe tbody tr th:only-of-type {\n",
              "        vertical-align: middle;\n",
              "    }\n",
              "\n",
              "    .dataframe tbody tr th {\n",
              "        vertical-align: top;\n",
              "    }\n",
              "\n",
              "    .dataframe thead th {\n",
              "        text-align: right;\n",
              "    }\n",
              "</style>\n",
              "<table border=\"1\" class=\"dataframe\">\n",
              "  <thead>\n",
              "    <tr style=\"text-align: right;\">\n",
              "      <th></th>\n",
              "      <th>Open</th>\n",
              "      <th>High</th>\n",
              "      <th>Low</th>\n",
              "      <th>Close</th>\n",
              "      <th>Volume</th>\n",
              "      <th>Ex-Dividend</th>\n",
              "      <th>Split Ratio</th>\n",
              "      <th>Adj. Open</th>\n",
              "      <th>Adj. High</th>\n",
              "      <th>Adj. Low</th>\n",
              "      <th>Adj. Close</th>\n",
              "      <th>Adj. Volume</th>\n",
              "    </tr>\n",
              "    <tr>\n",
              "      <th>Date</th>\n",
              "      <th></th>\n",
              "      <th></th>\n",
              "      <th></th>\n",
              "      <th></th>\n",
              "      <th></th>\n",
              "      <th></th>\n",
              "      <th></th>\n",
              "      <th></th>\n",
              "      <th></th>\n",
              "      <th></th>\n",
              "      <th></th>\n",
              "      <th></th>\n",
              "    </tr>\n",
              "  </thead>\n",
              "  <tbody>\n",
              "    <tr>\n",
              "      <th>2012-01-03</th>\n",
              "      <td>26.5500</td>\n",
              "      <td>26.960</td>\n",
              "      <td>26.39</td>\n",
              "      <td>26.765</td>\n",
              "      <td>64731500.0</td>\n",
              "      <td>0.0</td>\n",
              "      <td>1.0</td>\n",
              "      <td>22.609162</td>\n",
              "      <td>22.958305</td>\n",
              "      <td>22.472910</td>\n",
              "      <td>22.792249</td>\n",
              "      <td>64731500.0</td>\n",
              "    </tr>\n",
              "    <tr>\n",
              "      <th>2012-01-04</th>\n",
              "      <td>26.8199</td>\n",
              "      <td>27.470</td>\n",
              "      <td>26.78</td>\n",
              "      <td>27.400</td>\n",
              "      <td>80516100.0</td>\n",
              "      <td>0.0</td>\n",
              "      <td>1.0</td>\n",
              "      <td>22.839000</td>\n",
              "      <td>23.392605</td>\n",
              "      <td>22.805022</td>\n",
              "      <td>23.332995</td>\n",
              "      <td>80516100.0</td>\n",
              "    </tr>\n",
              "    <tr>\n",
              "      <th>2012-01-05</th>\n",
              "      <td>27.3800</td>\n",
              "      <td>27.728</td>\n",
              "      <td>27.29</td>\n",
              "      <td>27.680</td>\n",
              "      <td>56081400.0</td>\n",
              "      <td>0.0</td>\n",
              "      <td>1.0</td>\n",
              "      <td>23.315964</td>\n",
              "      <td>23.612310</td>\n",
              "      <td>23.239323</td>\n",
              "      <td>23.571435</td>\n",
              "      <td>56081400.0</td>\n",
              "    </tr>\n",
              "  </tbody>\n",
              "</table>\n",
              "</div>"
            ],
            "text/plain": [
              "               Open    High    Low   Close      Volume  Ex-Dividend  \\\n",
              "Date                                                                  \n",
              "2012-01-03  26.5500  26.960  26.39  26.765  64731500.0          0.0   \n",
              "2012-01-04  26.8199  27.470  26.78  27.400  80516100.0          0.0   \n",
              "2012-01-05  27.3800  27.728  27.29  27.680  56081400.0          0.0   \n",
              "\n",
              "            Split Ratio  Adj. Open  Adj. High   Adj. Low  Adj. Close  \\\n",
              "Date                                                                   \n",
              "2012-01-03          1.0  22.609162  22.958305  22.472910   22.792249   \n",
              "2012-01-04          1.0  22.839000  23.392605  22.805022   23.332995   \n",
              "2012-01-05          1.0  23.315964  23.612310  23.239323   23.571435   \n",
              "\n",
              "            Adj. Volume  \n",
              "Date                     \n",
              "2012-01-03   64731500.0  \n",
              "2012-01-04   80516100.0  \n",
              "2012-01-05   56081400.0  "
            ]
          },
          "metadata": {
            "tags": []
          },
          "execution_count": 18
        }
      ]
    },
    {
      "metadata": {
        "id": "lGekI_fYXqSt",
        "colab_type": "text"
      },
      "cell_type": "markdown",
      "source": [
        "> As shown above, It is also possible to slice, starting at the beginning of a specific month and ending at\n",
        "a specific day of the month\n",
        "\n",
        ">A specific item can be retrieved from a time-series represented by a DataFrame by\n",
        "specifying the date/time index value and using the .loc method. The result is a\n",
        "Series where the index labels are the column names, with the values for each being\n",
        "in a specific row for each of the columns:"
      ]
    },
    {
      "metadata": {
        "id": "-wqrIGDxXbqZ",
        "colab_type": "code",
        "colab": {
          "base_uri": "https://localhost:8080/",
          "height": 235
        },
        "outputId": "d67f0e46-ae5c-4d2a-a274-9f407419bd0d"
      },
      "cell_type": "code",
      "source": [
        "msft.loc['2012-01-03']"
      ],
      "execution_count": 19,
      "outputs": [
        {
          "output_type": "execute_result",
          "data": {
            "text/plain": [
              "Open           2.655000e+01\n",
              "High           2.696000e+01\n",
              "Low            2.639000e+01\n",
              "Close          2.676500e+01\n",
              "Volume         6.473150e+07\n",
              "Ex-Dividend    0.000000e+00\n",
              "Split Ratio    1.000000e+00\n",
              "Adj. Open      2.260916e+01\n",
              "Adj. High      2.295830e+01\n",
              "Adj. Low       2.247291e+01\n",
              "Adj. Close     2.279225e+01\n",
              "Adj. Volume    6.473150e+07\n",
              "Name: 2012-01-03 00:00:00, dtype: float64"
            ]
          },
          "metadata": {
            "tags": []
          },
          "execution_count": 19
        }
      ]
    },
    {
      "metadata": {
        "id": "s3RRbSTWYNPB",
        "colab_type": "code",
        "colab": {
          "base_uri": "https://localhost:8080/",
          "height": 34
        },
        "outputId": "bd5cc032-c0b7-4290-c6b8-b95dc617d7e1"
      },
      "cell_type": "code",
      "source": [
        "#msft['2012-01-03'] while this will not work for dataframe, this syntax can work for series\n",
        "msftAC = msft['Adj. Close']\n",
        "msftAC['2012-01-03']"
      ],
      "execution_count": 20,
      "outputs": [
        {
          "output_type": "execute_result",
          "data": {
            "text/plain": [
              "22.792248934631"
            ]
          },
          "metadata": {
            "tags": []
          },
          "execution_count": 20
        }
      ]
    },
    {
      "metadata": {
        "id": "h0I2z9aGjLKW",
        "colab_type": "text"
      },
      "cell_type": "markdown",
      "source": [
        ">So, This is a subtle difference that sometimes causes headaches when using\n",
        "time-series data in pandas. **So be careful or always convert your Series\n",
        "objects to DataFrame objects to use a lookup, i.e using .loc to lookup\n",
        "using the index.**\n",
        "\n",
        ">**2. Creating time-series with specific frequencies**\n",
        "\n",
        ">Time-series data in pandas can also be created to represent intervals of time other\n",
        "than daily frequency. Different frequencies can be generated with **pd.date_range()**\n",
        "by utilizing the freq parameter. This parameter defaults to a value of D , which\n",
        "represents daily frequency.\n",
        "\n",
        ">To introduce the creation of nondaily frequencies, the following command creates\n",
        "a DatetimeIndex with one-minute intervals using **freq='T'** :"
      ]
    },
    {
      "metadata": {
        "id": "gq7-62RqiDRE",
        "colab_type": "code",
        "colab": {
          "base_uri": "https://localhost:8080/",
          "height": 370
        },
        "outputId": "715a57fb-36f7-49e3-aa96-78b8ba0268ee"
      },
      "cell_type": "code",
      "source": [
        "date_range = pd.date_range('2014-08-01','2014-08-01 00:19:00',freq='T')\n",
        "\n",
        "bymin = pd.Series(np.arange(0, len(date_range)),date_range)\n",
        "bymin"
      ],
      "execution_count": 24,
      "outputs": [
        {
          "output_type": "execute_result",
          "data": {
            "text/plain": [
              "2014-08-01 00:00:00     0\n",
              "2014-08-01 00:01:00     1\n",
              "2014-08-01 00:02:00     2\n",
              "2014-08-01 00:03:00     3\n",
              "2014-08-01 00:04:00     4\n",
              "2014-08-01 00:05:00     5\n",
              "2014-08-01 00:06:00     6\n",
              "2014-08-01 00:07:00     7\n",
              "2014-08-01 00:08:00     8\n",
              "2014-08-01 00:09:00     9\n",
              "2014-08-01 00:10:00    10\n",
              "2014-08-01 00:11:00    11\n",
              "2014-08-01 00:12:00    12\n",
              "2014-08-01 00:13:00    13\n",
              "2014-08-01 00:14:00    14\n",
              "2014-08-01 00:15:00    15\n",
              "2014-08-01 00:16:00    16\n",
              "2014-08-01 00:17:00    17\n",
              "2014-08-01 00:18:00    18\n",
              "2014-08-01 00:19:00    19\n",
              "Freq: T, dtype: int64"
            ]
          },
          "metadata": {
            "tags": []
          },
          "execution_count": 24
        }
      ]
    },
    {
      "metadata": {
        "id": "eWLVb5-RmVwM",
        "colab_type": "text"
      },
      "cell_type": "markdown",
      "source": [
        ">This time-series allows us to use forms of slicing at finer resolution. Earlier, we saw\n",
        "slicing at day and month levels, but now we have a time-series with minute-based\n",
        "data that we can slice down to hours and minutes (and smaller intervals if we use\n",
        "finer frequencies):"
      ]
    },
    {
      "metadata": {
        "id": "Mfbb4K9ElXjl",
        "colab_type": "code",
        "colab": {
          "base_uri": "https://localhost:8080/",
          "height": 34
        },
        "outputId": "07f7c355-29a5-4c88-96b4-c9f10bb8f897"
      },
      "cell_type": "code",
      "source": [
        "bymin['2014-08-01 12:30':'2014-08-01 12:39']"
      ],
      "execution_count": 25,
      "outputs": [
        {
          "output_type": "execute_result",
          "data": {
            "text/plain": [
              "Series([], Freq: T, dtype: int64)"
            ]
          },
          "metadata": {
            "tags": []
          },
          "execution_count": 25
        }
      ]
    },
    {
      "metadata": {
        "id": "kFxLUBqEmjsI",
        "colab_type": "text"
      },
      "cell_type": "markdown",
      "source": [
        ">**3. Representing intervals of time using periods**\n",
        "\n",
        ">It is often required to represent not just a specific time or sequence of timestamps,\n",
        "but to represent an interval of time using a start date and an end date (an example of\n",
        "this would be a financial quarter). This representation of a bounded interval of time\n",
        "can be represented in pandas using **pd.Period** objects.\n",
        "Period objects consist of a start time and an end time and are created from a\n",
        "start date with a given frequency. The start time is referred to as the anchor of the\n",
        "Period object, and the end time is then calculated from the start date and the period\n",
        "specification.\n",
        "\n",
        ">To demonstrate this, the following command creates a period representing a 1-month\n",
        "period **freq='M'** anchored in August 2014:"
      ]
    },
    {
      "metadata": {
        "id": "LPSfWZ4smcfZ",
        "colab_type": "code",
        "colab": {
          "base_uri": "https://localhost:8080/",
          "height": 67
        },
        "outputId": "ebca9aef-a336-41e8-e7a9-2d230d5f0802"
      },
      "cell_type": "code",
      "source": [
        "aug2014 = pd.Period('2014-08', freq='M')\n",
        "aug2014 , aug2014.start_time, aug2014.end_time"
      ],
      "execution_count": 26,
      "outputs": [
        {
          "output_type": "execute_result",
          "data": {
            "text/plain": [
              "(Period('2014-08', 'M'),\n",
              " Timestamp('2014-08-01 00:00:00'),\n",
              " Timestamp('2014-08-31 23:59:59.999999999'))"
            ]
          },
          "metadata": {
            "tags": []
          },
          "execution_count": 26
        }
      ]
    },
    {
      "metadata": {
        "id": "p7RNZHxoFSeJ",
        "colab_type": "text"
      },
      "cell_type": "markdown",
      "source": [
        ">Mathematical operations are overloaded on Period objects, so as to calculate another\n",
        "period based upon the value represented in Period . As an example, the following\n",
        "command creates a new Period based upon the aug2014 period object by adding 1\n",
        "to the period."
      ]
    },
    {
      "metadata": {
        "id": "nF3-sk47m8Cr",
        "colab_type": "code",
        "colab": {
          "base_uri": "https://localhost:8080/",
          "height": 67
        },
        "outputId": "74519333-53f9-46e3-bf21-15b00ed2658a"
      },
      "cell_type": "code",
      "source": [
        "sep2014 = aug2014 + 1\n",
        "sep2014,sep2014.start_time, sep2014.end_time"
      ],
      "execution_count": 28,
      "outputs": [
        {
          "output_type": "execute_result",
          "data": {
            "text/plain": [
              "(Period('2014-09', 'M'),\n",
              " Timestamp('2014-09-01 00:00:00'),\n",
              " Timestamp('2014-09-30 23:59:59.999999999'))"
            ]
          },
          "metadata": {
            "tags": []
          },
          "execution_count": 28
        }
      ]
    },
    {
      "metadata": {
        "id": "Rkwrlk5CFpkm",
        "colab_type": "text"
      },
      "cell_type": "markdown",
      "source": [
        ">Period objects are useful when combined into a collection referred to as a\n",
        "PeriodIndex . The following command creates a pandas PeriodIndex consisting of\n",
        "1-month intervals for the year of 2013:"
      ]
    },
    {
      "metadata": {
        "id": "QvphgJFSFXBB",
        "colab_type": "code",
        "colab": {
          "base_uri": "https://localhost:8080/",
          "height": 67
        },
        "outputId": "79bc82a9-2c0d-41a3-9601-dd89a0198ada"
      },
      "cell_type": "code",
      "source": [
        "mp2013 = pd.period_range('1/1/2013', '12/31/2013', freq='M')\n",
        "mp2013"
      ],
      "execution_count": 29,
      "outputs": [
        {
          "output_type": "execute_result",
          "data": {
            "text/plain": [
              "PeriodIndex(['2013-01', '2013-02', '2013-03', '2013-04', '2013-05', '2013-06',\n",
              "             '2013-07', '2013-08', '2013-09', '2013-10', '2013-11', '2013-12'],\n",
              "            dtype='period[M]', freq='M')"
            ]
          },
          "metadata": {
            "tags": []
          },
          "execution_count": 29
        }
      ]
    },
    {
      "metadata": {
        "id": "2bjsehWPGlGe",
        "colab_type": "text"
      },
      "cell_type": "markdown",
      "source": [
        ">A PeriodIndex differs from a DatetimeIndex in that in a PeriodIndex , the index labels are Period objects"
      ]
    },
    {
      "metadata": {
        "id": "o3Ig7HSxFsFQ",
        "colab_type": "code",
        "colab": {
          "base_uri": "https://localhost:8080/",
          "height": 218
        },
        "outputId": "66c1b31f-a96d-4c72-e46c-18119ed7512a"
      },
      "cell_type": "code",
      "source": [
        "for p in mp2013:\n",
        "  print(\"{0} {1} {2} {3}\".format(p, p.freq,  p.start_time, p.end_time))"
      ],
      "execution_count": 33,
      "outputs": [
        {
          "output_type": "stream",
          "text": [
            "2013-01 <MonthEnd> 2013-01-01 00:00:00 2013-01-31 23:59:59.999999999\n",
            "2013-02 <MonthEnd> 2013-02-01 00:00:00 2013-02-28 23:59:59.999999999\n",
            "2013-03 <MonthEnd> 2013-03-01 00:00:00 2013-03-31 23:59:59.999999999\n",
            "2013-04 <MonthEnd> 2013-04-01 00:00:00 2013-04-30 23:59:59.999999999\n",
            "2013-05 <MonthEnd> 2013-05-01 00:00:00 2013-05-31 23:59:59.999999999\n",
            "2013-06 <MonthEnd> 2013-06-01 00:00:00 2013-06-30 23:59:59.999999999\n",
            "2013-07 <MonthEnd> 2013-07-01 00:00:00 2013-07-31 23:59:59.999999999\n",
            "2013-08 <MonthEnd> 2013-08-01 00:00:00 2013-08-31 23:59:59.999999999\n",
            "2013-09 <MonthEnd> 2013-09-01 00:00:00 2013-09-30 23:59:59.999999999\n",
            "2013-10 <MonthEnd> 2013-10-01 00:00:00 2013-10-31 23:59:59.999999999\n",
            "2013-11 <MonthEnd> 2013-11-01 00:00:00 2013-11-30 23:59:59.999999999\n",
            "2013-12 <MonthEnd> 2013-12-01 00:00:00 2013-12-31 23:59:59.999999999\n"
          ],
          "name": "stdout"
        }
      ]
    },
    {
      "metadata": {
        "id": "Pa9eBYKjGoCc",
        "colab_type": "text"
      },
      "cell_type": "markdown",
      "source": [
        ">With a PeriodIndex , we can then construct a Series using it as the index:"
      ]
    },
    {
      "metadata": {
        "id": "7ueXxMjlGO42",
        "colab_type": "code",
        "colab": {
          "base_uri": "https://localhost:8080/",
          "height": 235
        },
        "outputId": "e2998f91-448f-4ad4-cc72-c17d93ec20e6"
      },
      "cell_type": "code",
      "source": [
        "np.random.seed(123456)\n",
        "ps = pd.Series(np.random.randn(12), mp2013)\n",
        "ps"
      ],
      "execution_count": 34,
      "outputs": [
        {
          "output_type": "execute_result",
          "data": {
            "text/plain": [
              "2013-01    0.469112\n",
              "2013-02   -0.282863\n",
              "2013-03   -1.509059\n",
              "2013-04   -1.135632\n",
              "2013-05    1.212112\n",
              "2013-06   -0.173215\n",
              "2013-07    0.119209\n",
              "2013-08   -1.044236\n",
              "2013-09   -0.861849\n",
              "2013-10   -2.104569\n",
              "2013-11   -0.494929\n",
              "2013-12    1.071804\n",
              "Freq: M, dtype: float64"
            ]
          },
          "metadata": {
            "tags": []
          },
          "execution_count": 34
        }
      ]
    },
    {
      "metadata": {
        "id": "gKhLP5UOG1jW",
        "colab_type": "text"
      },
      "cell_type": "markdown",
      "source": [
        ">We now have a time-series where the value at a specific index label represents a\n",
        "measurement that spans a period of time, such as the average value of a security\n",
        "in a given month, instead of at a specific time. This becomes very useful when we\n",
        "perform resampling of the time-series to another frequency, which we will do a little\n",
        "later in this chapter.\n",
        "\n",
        "> **4. Shifting and lagging time-series data**\n",
        "\n",
        ">A common operation on time-series data is to shift or \"lag\" the values back and\n",
        "forward in time, such as to calculate percentage change from sample to sample. The\n",
        "pandas method for this is **.shift()** , which will shift the values in the index by a\n",
        "specified number of units of the index's period.\n",
        "To demonstrate shifting and lagging, we will use the adjusted close values for MSFT.\n",
        "As a refresher, the following command shows the first 5 items in that time-series:"
      ]
    },
    {
      "metadata": {
        "id": "Kx6JVtQOGyDS",
        "colab_type": "code",
        "colab": {
          "base_uri": "https://localhost:8080/",
          "height": 134
        },
        "outputId": "68cb7bed-3828-46b0-ad25-63e363208014"
      },
      "cell_type": "code",
      "source": [
        "msftAC[:5]"
      ],
      "execution_count": 35,
      "outputs": [
        {
          "output_type": "execute_result",
          "data": {
            "text/plain": [
              "Date\n",
              "1986-03-13    0.064720\n",
              "1986-03-14    0.067031\n",
              "1986-03-17    0.068187\n",
              "1986-03-18    0.066454\n",
              "1986-03-19    0.065298\n",
              "Name: Adj. Close, dtype: float64"
            ]
          },
          "metadata": {
            "tags": []
          },
          "execution_count": 35
        }
      ]
    },
    {
      "metadata": {
        "id": "vcWnILToKHah",
        "colab_type": "text"
      },
      "cell_type": "markdown",
      "source": [
        ">The following command shifts the adjusted closing prices forward by 1 day:"
      ]
    },
    {
      "metadata": {
        "id": "Gij9EeAtKEIr",
        "colab_type": "code",
        "colab": {
          "base_uri": "https://localhost:8080/",
          "height": 134
        },
        "outputId": "bbb5e1b2-23cb-43f7-aa31-ac94af417356"
      },
      "cell_type": "code",
      "source": [
        "shifted_forward = msftAC.shift(1)\n",
        "shifted_forward[:5]"
      ],
      "execution_count": 36,
      "outputs": [
        {
          "output_type": "execute_result",
          "data": {
            "text/plain": [
              "Date\n",
              "1986-03-13         NaN\n",
              "1986-03-14    0.064720\n",
              "1986-03-17    0.067031\n",
              "1986-03-18    0.068187\n",
              "1986-03-19    0.066454\n",
              "Name: Adj. Close, dtype: float64"
            ]
          },
          "metadata": {
            "tags": []
          },
          "execution_count": 36
        }
      ]
    },
    {
      "metadata": {
        "id": "ei_0gPmvKd_c",
        "colab_type": "text"
      },
      "cell_type": "markdown",
      "source": [
        ">Notice that the value of the index label of 1986-03-13 is now NaN . When shifting\n",
        "at the same frequency as that of the index, the shift will result in one or more NaN\n",
        "values being added for the labels at one end of the Series , and a loss of the same\n",
        "number of values at the other end. The amount of NaN values is the same as the\n",
        "number of specified periods.\n",
        "\n",
        ">If we examine the tail of both the original and shifted Series , we will see that the\n",
        "last value in the Series was shifted away:"
      ]
    },
    {
      "metadata": {
        "id": "6ExP5beYKJSv",
        "colab_type": "code",
        "colab": {
          "base_uri": "https://localhost:8080/",
          "height": 235
        },
        "outputId": "4f2929fe-3544-4f80-851f-d88e704bf3fe"
      },
      "cell_type": "code",
      "source": [
        "msftAC.tail(5), shifted_forward.tail(5)"
      ],
      "execution_count": 37,
      "outputs": [
        {
          "output_type": "execute_result",
          "data": {
            "text/plain": [
              "(Date\n",
              " 2018-03-21    92.48\n",
              " 2018-03-22    89.79\n",
              " 2018-03-23    87.18\n",
              " 2018-03-26    93.78\n",
              " 2018-03-27    89.47\n",
              " Name: Adj. Close, dtype: float64, Date\n",
              " 2018-03-21    93.13\n",
              " 2018-03-22    92.48\n",
              " 2018-03-23    89.79\n",
              " 2018-03-26    87.18\n",
              " 2018-03-27    93.78\n",
              " Name: Adj. Close, dtype: float64)"
            ]
          },
          "metadata": {
            "tags": []
          },
          "execution_count": 37
        }
      ]
    },
    {
      "metadata": {
        "id": "q25VYCsoK8XM",
        "colab_type": "text"
      },
      "cell_type": "markdown",
      "source": [
        ">so the value that was in original one at the end is now lost in shifted one.\n",
        "It is also possible to shift values in the opposite direction. The following command\n",
        "demonstrates this by **shifting the Series by -2, However this will result in two NANs at the end**:"
      ]
    },
    {
      "metadata": {
        "id": "IBBsQGD8KiEK",
        "colab_type": "code",
        "colab": {
          "base_uri": "https://localhost:8080/",
          "height": 235
        },
        "outputId": "3bd8447d-1e68-40ea-c372-2e6b96ab8005"
      },
      "cell_type": "code",
      "source": [
        "shifted_backwards = msftAC.shift(-2)\n",
        "shifted_backwards[:5], shifted_backwards.tail(5)"
      ],
      "execution_count": 40,
      "outputs": [
        {
          "output_type": "execute_result",
          "data": {
            "text/plain": [
              "(Date\n",
              " 1986-03-13    0.068187\n",
              " 1986-03-14    0.066454\n",
              " 1986-03-17    0.065298\n",
              " 1986-03-18    0.063564\n",
              " 1986-03-19    0.061831\n",
              " Name: Adj. Close, dtype: float64, Date\n",
              " 2018-03-21    87.18\n",
              " 2018-03-22    93.78\n",
              " 2018-03-23    89.47\n",
              " 2018-03-26      NaN\n",
              " 2018-03-27      NaN\n",
              " Name: Adj. Close, dtype: float64)"
            ]
          },
          "metadata": {
            "tags": []
          },
          "execution_count": 40
        }
      ]
    },
    {
      "metadata": {
        "id": "1p5FRepyMeNt",
        "colab_type": "text"
      },
      "cell_type": "markdown",
      "source": [
        ">It is possible to shift by different frequencies using the freq parameter. This will\n",
        "create a time-series with a new index, where the index labels are adjusted by the\n",
        "number of specified units of the given frequency. As an example, the following\n",
        "command shifts forward the time-series with a frequency of 1 day by one second:"
      ]
    },
    {
      "metadata": {
        "id": "sMmVHKn3L7I0",
        "colab_type": "code",
        "colab": {
          "base_uri": "https://localhost:8080/",
          "height": 134
        },
        "outputId": "1a6568ba-0bf4-47b3-f9bf-f4b916d44856"
      },
      "cell_type": "code",
      "source": [
        "msftAC.shift(1, freq=\"S\")[:5]"
      ],
      "execution_count": 41,
      "outputs": [
        {
          "output_type": "execute_result",
          "data": {
            "text/plain": [
              "Date\n",
              "1986-03-13 00:00:01    0.064720\n",
              "1986-03-14 00:00:01    0.067031\n",
              "1986-03-17 00:00:01    0.068187\n",
              "1986-03-18 00:00:01    0.066454\n",
              "1986-03-19 00:00:01    0.065298\n",
              "Name: Adj. Close, dtype: float64"
            ]
          },
          "metadata": {
            "tags": []
          },
          "execution_count": 41
        }
      ]
    },
    {
      "metadata": {
        "id": "VnVhQfTmMsD_",
        "colab_type": "text"
      },
      "cell_type": "markdown",
      "source": [
        ">The resulting DataFrame or Series is essentially the same as the original, with the\n",
        "specified number of units of frequency added to each index label. No data will be\n",
        "shifted out or replaced with NaN as this is not performing realignment.\n",
        "\n",
        ">**An alternate form of shifting is provided by pandas using the .tshift() method.**\n",
        "Rather than changing the alignment of the data, .tshift() simply results in a\n",
        "new Series or DataFrame , where the **values of the index labels are changed by the\n",
        "specified number of offsets of the value of the freq parameter**. This is demonstrated\n",
        "by the following command, which modifies the index labels by 1 day:"
      ]
    },
    {
      "metadata": {
        "id": "fq9waUU-MhdF",
        "colab_type": "code",
        "colab": {
          "base_uri": "https://localhost:8080/",
          "height": 134
        },
        "outputId": "951e33c7-6177-4f42-8fd7-a5c8e9331e72"
      },
      "cell_type": "code",
      "source": [
        "msftAC.tshift(1, freq=\"D\")[:5]"
      ],
      "execution_count": 43,
      "outputs": [
        {
          "output_type": "execute_result",
          "data": {
            "text/plain": [
              "Date\n",
              "1986-03-14    0.064720\n",
              "1986-03-15    0.067031\n",
              "1986-03-18    0.068187\n",
              "1986-03-19    0.066454\n",
              "1986-03-20    0.065298\n",
              "Name: Adj. Close, dtype: float64"
            ]
          },
          "metadata": {
            "tags": []
          },
          "execution_count": 43
        }
      ]
    },
    {
      "metadata": {
        "id": "uH40N3ODNBff",
        "colab_type": "text"
      },
      "cell_type": "markdown",
      "source": [
        ">**A practical application of shifting is the calculation of daily percentage changes from\n",
        "the previous day. The following command calculates the day-to-day percentage\n",
        "change in the adjusted closing price for MSFT**:"
      ]
    },
    {
      "metadata": {
        "id": "GqO6P14NM5V6",
        "colab_type": "code",
        "colab": {
          "base_uri": "https://localhost:8080/",
          "height": 134
        },
        "outputId": "c6a3596b-692b-4edf-da4f-06dc11e1b1a5"
      },
      "cell_type": "code",
      "source": [
        "(msftAC / msftAC.shift(1) - 1) [:5]"
      ],
      "execution_count": 46,
      "outputs": [
        {
          "output_type": "execute_result",
          "data": {
            "text/plain": [
              "Date\n",
              "1986-03-13         NaN\n",
              "1986-03-14    0.035714\n",
              "1986-03-17    0.017241\n",
              "1986-03-18   -0.025424\n",
              "1986-03-19   -0.017391\n",
              "Name: Adj. Close, dtype: float64"
            ]
          },
          "metadata": {
            "tags": []
          },
          "execution_count": 46
        }
      ]
    },
    {
      "metadata": {
        "id": "oEtDJIHrSLfO",
        "colab_type": "text"
      },
      "cell_type": "markdown",
      "source": [
        ">**5. Frequency conversion of time-series data**\n",
        "\n",
        ">The frequency of the data in a time-series can be converted in pandas using the\n",
        "**.asfreq() method of a Series or DataFrame** . To demonstrate, we will use the\n",
        "following small subset of the MSFT stock closing values:"
      ]
    },
    {
      "metadata": {
        "id": "2w67ojZGNPBn",
        "colab_type": "code",
        "colab": {
          "base_uri": "https://localhost:8080/",
          "height": 84
        },
        "outputId": "50890539-6bd8-4263-90e1-de69732fccd1"
      },
      "cell_type": "code",
      "source": [
        "sample = msftAC[:2]\n",
        "sample"
      ],
      "execution_count": 48,
      "outputs": [
        {
          "output_type": "execute_result",
          "data": {
            "text/plain": [
              "Date\n",
              "1986-03-13    0.064720\n",
              "1986-03-14    0.067031\n",
              "Name: Adj. Close, dtype: float64"
            ]
          },
          "metadata": {
            "tags": []
          },
          "execution_count": 48
        }
      ]
    },
    {
      "metadata": {
        "id": "Y27_ex7xSgro",
        "colab_type": "code",
        "colab": {
          "base_uri": "https://localhost:8080/",
          "height": 470
        },
        "outputId": "b4134df2-6583-4675-8ae2-50323f98e7c5"
      },
      "cell_type": "code",
      "source": [
        "sample.asfreq(\"H\")"
      ],
      "execution_count": 49,
      "outputs": [
        {
          "output_type": "execute_result",
          "data": {
            "text/plain": [
              "Date\n",
              "1986-03-13 00:00:00    0.064720\n",
              "1986-03-13 01:00:00         NaN\n",
              "1986-03-13 02:00:00         NaN\n",
              "1986-03-13 03:00:00         NaN\n",
              "1986-03-13 04:00:00         NaN\n",
              "1986-03-13 05:00:00         NaN\n",
              "1986-03-13 06:00:00         NaN\n",
              "1986-03-13 07:00:00         NaN\n",
              "1986-03-13 08:00:00         NaN\n",
              "1986-03-13 09:00:00         NaN\n",
              "1986-03-13 10:00:00         NaN\n",
              "1986-03-13 11:00:00         NaN\n",
              "1986-03-13 12:00:00         NaN\n",
              "1986-03-13 13:00:00         NaN\n",
              "1986-03-13 14:00:00         NaN\n",
              "1986-03-13 15:00:00         NaN\n",
              "1986-03-13 16:00:00         NaN\n",
              "1986-03-13 17:00:00         NaN\n",
              "1986-03-13 18:00:00         NaN\n",
              "1986-03-13 19:00:00         NaN\n",
              "1986-03-13 20:00:00         NaN\n",
              "1986-03-13 21:00:00         NaN\n",
              "1986-03-13 22:00:00         NaN\n",
              "1986-03-13 23:00:00         NaN\n",
              "1986-03-14 00:00:00    0.067031\n",
              "Freq: H, Name: Adj. Close, dtype: float64"
            ]
          },
          "metadata": {
            "tags": []
          },
          "execution_count": 49
        }
      ]
    },
    {
      "metadata": {
        "id": "I6VNLPe4S50S",
        "colab_type": "text"
      },
      "cell_type": "markdown",
      "source": [
        ">A new index with hourly index labels has been created by pandas, but when aligning\n",
        "to the original time-series, only two values were found, |**thereby leaving the others\n",
        "filled with NaN**.\n",
        "We can change this default behavior using the method parameter of the **.asfreq()**\n",
        "method. **One method is pad or ffill that will fill with the last known value**:"
      ]
    },
    {
      "metadata": {
        "id": "kRpxTODZSqF8",
        "colab_type": "code",
        "colab": {
          "base_uri": "https://localhost:8080/",
          "height": 470
        },
        "outputId": "bdf7bbd4-a9ac-44f0-f5e4-a08a20ba34a7"
      },
      "cell_type": "code",
      "source": [
        "sample.asfreq(\"H\", method=\"ffill\")"
      ],
      "execution_count": 50,
      "outputs": [
        {
          "output_type": "execute_result",
          "data": {
            "text/plain": [
              "Date\n",
              "1986-03-13 00:00:00    0.064720\n",
              "1986-03-13 01:00:00    0.064720\n",
              "1986-03-13 02:00:00    0.064720\n",
              "1986-03-13 03:00:00    0.064720\n",
              "1986-03-13 04:00:00    0.064720\n",
              "1986-03-13 05:00:00    0.064720\n",
              "1986-03-13 06:00:00    0.064720\n",
              "1986-03-13 07:00:00    0.064720\n",
              "1986-03-13 08:00:00    0.064720\n",
              "1986-03-13 09:00:00    0.064720\n",
              "1986-03-13 10:00:00    0.064720\n",
              "1986-03-13 11:00:00    0.064720\n",
              "1986-03-13 12:00:00    0.064720\n",
              "1986-03-13 13:00:00    0.064720\n",
              "1986-03-13 14:00:00    0.064720\n",
              "1986-03-13 15:00:00    0.064720\n",
              "1986-03-13 16:00:00    0.064720\n",
              "1986-03-13 17:00:00    0.064720\n",
              "1986-03-13 18:00:00    0.064720\n",
              "1986-03-13 19:00:00    0.064720\n",
              "1986-03-13 20:00:00    0.064720\n",
              "1986-03-13 21:00:00    0.064720\n",
              "1986-03-13 22:00:00    0.064720\n",
              "1986-03-13 23:00:00    0.064720\n",
              "1986-03-14 00:00:00    0.067031\n",
              "Freq: H, Name: Adj. Close, dtype: float64"
            ]
          },
          "metadata": {
            "tags": []
          },
          "execution_count": 50
        }
      ]
    },
    {
      "metadata": {
        "id": "joiuEf6tUTB5",
        "colab_type": "text"
      },
      "cell_type": "markdown",
      "source": [
        ">**6. Resampling of time-series**\n",
        "\n",
        ">Frequency conversion provides basic conversion of data using the new frequency\n",
        "intervals and allows the filling of missing data using either NaN, forward filling,\n",
        "or backward filling. More elaborate control is provided through the process of\n",
        "resampling.\n",
        "\n",
        ">Resampling can be either **downsampling, where data is converted to wider\n",
        "frequency ranges (such as downsampling from day-to-day to month-to-month)**\n",
        "or **upsampling, where data is converted to narrower time ranges**. Data for the\n",
        "associated labels are then calculated by a function provided to pandas instead\n",
        "of simple filling.\n",
        "\n",
        ">To demonstrate upsampling, we will calculate the daily cumulative returns for\n",
        "the MSFT stock and resample it to monthly frequency. We will\n",
        "examine the return calculation in more detail in Chapter 5, Time-series Stock Data,\n",
        "but for now, we will use it as a demonstration of the mechanics of up and down\n",
        "resampling of time-series data.\n",
        "\n",
        ">**The cumulative daily return for MSFT can be calculated with the following command\n",
        "using .shift() and application of the .cumprod() method**, as shown here:"
      ]
    },
    {
      "metadata": {
        "id": "PZqCuJ7xUGQd",
        "colab_type": "code",
        "colab": {
          "base_uri": "https://localhost:8080/",
          "height": 235
        },
        "outputId": "edec0d32-f3ae-4fc9-f68b-402be6f4e7eb"
      },
      "cell_type": "code",
      "source": [
        "msft_cum_ret = (1 + (msftAC / msftAC.shift() - 1)).cumprod()\n",
        "msft_cum_ret.head(),msft_cum_ret.tail()"
      ],
      "execution_count": 53,
      "outputs": [
        {
          "output_type": "execute_result",
          "data": {
            "text/plain": [
              "(Date\n",
              " 1986-03-13         NaN\n",
              " 1986-03-14    1.035714\n",
              " 1986-03-17    1.053571\n",
              " 1986-03-18    1.026786\n",
              " 1986-03-19    1.008929\n",
              " Name: Adj. Close, dtype: float64, Date\n",
              " 2018-03-21    1428.925048\n",
              " 2018-03-22    1387.361376\n",
              " 2018-03-23    1347.033799\n",
              " 2018-03-26    1449.011581\n",
              " 2018-03-27    1382.416999\n",
              " Name: Adj. Close, dtype: float64)"
            ]
          },
          "metadata": {
            "tags": []
          },
          "execution_count": 53
        }
      ]
    },
    {
      "metadata": {
        "id": "cPO9ymM9VmD3",
        "colab_type": "text"
      },
      "cell_type": "markdown",
      "source": [
        ">A time-series can be resampled using the .resample() method. This method\n",
        "provides a very flexible means to specify the frequency conversion involved in the\n",
        "resampling, as well as the means by which the resampled values are selected or\n",
        "calculated.\n",
        "\n",
        ">**The following command downsamples the daily cumulative returns from day-to-day\n",
        "to month-to-month**:"
      ]
    },
    {
      "metadata": {
        "id": "0yqzvsVuVLDg",
        "colab_type": "code",
        "colab": {
          "base_uri": "https://localhost:8080/",
          "height": 218
        },
        "outputId": "da840aa3-0de8-4c68-83cd-21e8afbeef61"
      },
      "cell_type": "code",
      "source": [
        "msft_monthly_cum_ret = msft_cum_ret.resample(\"M\")\n",
        "msft_monthly_cum_ret[:5]"
      ],
      "execution_count": 55,
      "outputs": [
        {
          "output_type": "stream",
          "text": [
            "/usr/local/lib/python3.6/dist-packages/ipykernel_launcher.py:2: FutureWarning: \n",
            ".resample() is now a deferred operation\n",
            "You called __getitem__(...) on this deferred object which materialized it into a series\n",
            "by implicitly taking the mean.  Use .resample(...).mean() instead\n",
            "  \n"
          ],
          "name": "stderr"
        },
        {
          "output_type": "execute_result",
          "data": {
            "text/plain": [
              "Date\n",
              "1986-03-31    0.989448\n",
              "1986-04-30    1.053766\n",
              "1986-05-31    1.144133\n",
              "1986-06-30    1.145187\n",
              "1986-07-31    1.054172\n",
              "Freq: M, Name: Adj. Close, dtype: float64"
            ]
          },
          "metadata": {
            "tags": []
          },
          "execution_count": 55
        }
      ]
    },
    {
      "metadata": {
        "id": "MGI6ydvHhL4J",
        "colab_type": "text"
      },
      "cell_type": "markdown",
      "source": [
        ">As the resample period is specified as monthly, **pandas will break the index labels\n",
        "into monthly intervals bounded on calendar months**, and the new index label for a\n",
        "group will be the month's end date. **The value for each index entry will be the mean\n",
        "of the values for the month. This can be verified for January 2012 with the following\n",
        "command**:"
      ]
    },
    {
      "metadata": {
        "id": "YT-maO_8Vygu",
        "colab_type": "code",
        "colab": {
          "base_uri": "https://localhost:8080/",
          "height": 34
        },
        "outputId": "06fc0c5a-03b8-417a-e0e7-34c1ce7edfd8"
      },
      "cell_type": "code",
      "source": [
        "msft_cum_ret['1986-03'].mean()"
      ],
      "execution_count": 56,
      "outputs": [
        {
          "output_type": "execute_result",
          "data": {
            "text/plain": [
              "0.9894480519480549"
            ]
          },
          "metadata": {
            "tags": []
          },
          "execution_count": 56
        }
      ]
    },
    {
      "metadata": {
        "id": "kpFu7x5Bhf__",
        "colab_type": "text"
      },
      "cell_type": "markdown",
      "source": [
        ">So by default resampling is done using mean. The means by which the value for each index label is calculated can be controlled\n",
        "using the **how parameter**. Any function that is available via dispatching can be\n",
        "used and given to the how parameter by name. The default is to use the np.mean()\n",
        "function, We can use **how=\"ohlc\"** , which will give us a summary of the open , high , low , and\n",
        "close values during each sampling period. \n",
        "\n",
        ">For each resampling period (monthly in\n",
        "this example), **pandas will return the first value in the period ( open ), the maximum\n",
        "value ( high ), the lowest value ( low ), and the final value in the period ( close )**:"
      ]
    },
    {
      "metadata": {
        "id": "L5iMa4cwhcCJ",
        "colab_type": "code",
        "colab": {
          "base_uri": "https://localhost:8080/",
          "height": 275
        },
        "outputId": "8a84f294-09db-4ad8-da06-ca04a13cd12b"
      },
      "cell_type": "code",
      "source": [
        "msft_cum_ret.resample(\"M\", how=\"ohlc\")[:5]"
      ],
      "execution_count": 57,
      "outputs": [
        {
          "output_type": "stream",
          "text": [
            "/usr/local/lib/python3.6/dist-packages/ipykernel_launcher.py:1: FutureWarning: how in .resample() is deprecated\n",
            "the new syntax is .resample(...).ohlc()\n",
            "  \"\"\"Entry point for launching an IPython kernel.\n"
          ],
          "name": "stderr"
        },
        {
          "output_type": "execute_result",
          "data": {
            "text/html": [
              "<div>\n",
              "<style scoped>\n",
              "    .dataframe tbody tr th:only-of-type {\n",
              "        vertical-align: middle;\n",
              "    }\n",
              "\n",
              "    .dataframe tbody tr th {\n",
              "        vertical-align: top;\n",
              "    }\n",
              "\n",
              "    .dataframe thead th {\n",
              "        text-align: right;\n",
              "    }\n",
              "</style>\n",
              "<table border=\"1\" class=\"dataframe\">\n",
              "  <thead>\n",
              "    <tr style=\"text-align: right;\">\n",
              "      <th></th>\n",
              "      <th>open</th>\n",
              "      <th>high</th>\n",
              "      <th>low</th>\n",
              "      <th>close</th>\n",
              "    </tr>\n",
              "    <tr>\n",
              "      <th>Date</th>\n",
              "      <th></th>\n",
              "      <th></th>\n",
              "      <th></th>\n",
              "      <th></th>\n",
              "    </tr>\n",
              "  </thead>\n",
              "  <tbody>\n",
              "    <tr>\n",
              "      <th>1986-03-31</th>\n",
              "      <td>1.035714</td>\n",
              "      <td>1.053571</td>\n",
              "      <td>0.928571</td>\n",
              "      <td>0.982143</td>\n",
              "    </tr>\n",
              "    <tr>\n",
              "      <th>1986-04-30</th>\n",
              "      <td>0.973214</td>\n",
              "      <td>1.214286</td>\n",
              "      <td>0.973214</td>\n",
              "      <td>1.151786</td>\n",
              "    </tr>\n",
              "    <tr>\n",
              "      <th>1986-05-31</th>\n",
              "      <td>1.133929</td>\n",
              "      <td>1.250000</td>\n",
              "      <td>1.107143</td>\n",
              "      <td>1.250000</td>\n",
              "    </tr>\n",
              "    <tr>\n",
              "      <th>1986-06-30</th>\n",
              "      <td>1.214286</td>\n",
              "      <td>1.223214</td>\n",
              "      <td>1.062500</td>\n",
              "      <td>1.098214</td>\n",
              "    </tr>\n",
              "    <tr>\n",
              "      <th>1986-07-31</th>\n",
              "      <td>1.098214</td>\n",
              "      <td>1.116071</td>\n",
              "      <td>0.973214</td>\n",
              "      <td>1.017857</td>\n",
              "    </tr>\n",
              "  </tbody>\n",
              "</table>\n",
              "</div>"
            ],
            "text/plain": [
              "                open      high       low     close\n",
              "Date                                              \n",
              "1986-03-31  1.035714  1.053571  0.928571  0.982143\n",
              "1986-04-30  0.973214  1.214286  0.973214  1.151786\n",
              "1986-05-31  1.133929  1.250000  1.107143  1.250000\n",
              "1986-06-30  1.214286  1.223214  1.062500  1.098214\n",
              "1986-07-31  1.098214  1.116071  0.973214  1.017857"
            ]
          },
          "metadata": {
            "tags": []
          },
          "execution_count": 57
        }
      ]
    },
    {
      "metadata": {
        "id": "FL3yXjzhilN6",
        "colab_type": "text"
      },
      "cell_type": "markdown",
      "source": [
        ">The **type of index** resulting from a resampling is controlled by the **kind** parameter,\n",
        "which **can be set to timestamp (the default) or period**. In the resampling examples\n",
        "up to this point, the resample has returned Timestamp and, in particular, returned\n",
        "the last day of the month. The following command demonstrates **returning an index\n",
        "based on periods instead of time stamps, which can be quite useful if we need to\n",
        "have the start and end timestamps for each sample**:"
      ]
    },
    {
      "metadata": {
        "id": "RQItknweh1ne",
        "colab_type": "code",
        "colab": {
          "base_uri": "https://localhost:8080/",
          "height": 151
        },
        "outputId": "658a8163-2efa-4c7a-e954-a743994e0c66"
      },
      "cell_type": "code",
      "source": [
        "def printPeriodicData(periodObj, Index=5):\n",
        "  for i in periodObj.index[:Index]:\n",
        "    print (\"{0}:{1} {2}\".format(i.start_time, i.end_time,periodObj[i]))\n",
        "\n",
        "by_periods = msft_cum_ret.resample(\"M\",how=\"mean\",kind=\"period\")\n",
        "\n",
        "printPeriodicData(by_periods)"
      ],
      "execution_count": 62,
      "outputs": [
        {
          "output_type": "stream",
          "text": [
            "1986-03-01 00:00:00:1986-03-31 23:59:59.999999999 0.9894480519480549\n",
            "1986-04-01 00:00:00:1986-04-30 23:59:59.999999999 1.0537662337662366\n",
            "1986-05-01 00:00:00:1986-05-31 23:59:59.999999999 1.1441326530612284\n",
            "1986-06-01 00:00:00:1986-06-30 23:59:59.999999999 1.1451870748299353\n",
            "1986-07-01 00:00:00:1986-07-31 23:59:59.999999999 1.05417207792208\n"
          ],
          "name": "stdout"
        },
        {
          "output_type": "stream",
          "text": [
            "/usr/local/lib/python3.6/dist-packages/ipykernel_launcher.py:5: FutureWarning: how in .resample() is deprecated\n",
            "the new syntax is .resample(...).mean()\n",
            "  \"\"\"\n"
          ],
          "name": "stderr"
        }
      ]
    },
    {
      "metadata": {
        "id": "2kv7lSjckSts",
        "colab_type": "text"
      },
      "cell_type": "markdown",
      "source": [
        "To demonstrate **upsampling**, we will examine the process using the second and third\n",
        "days of MSFT's adjusted close values:"
      ]
    },
    {
      "metadata": {
        "id": "Pa4wJNkNjx6l",
        "colab_type": "code",
        "colab": {
          "base_uri": "https://localhost:8080/",
          "height": 84
        },
        "outputId": "5f1e84ea-846d-45ae-f0af-5789db5d0924"
      },
      "cell_type": "code",
      "source": [
        "sample = msft_cum_ret[1:3]\n",
        "sample"
      ],
      "execution_count": 64,
      "outputs": [
        {
          "output_type": "execute_result",
          "data": {
            "text/plain": [
              "Date\n",
              "1986-03-14    1.035714\n",
              "1986-03-17    1.053571\n",
              "Name: Adj. Close, dtype: float64"
            ]
          },
          "metadata": {
            "tags": []
          },
          "execution_count": 64
        }
      ]
    },
    {
      "metadata": {
        "id": "I3S-IYbakZjE",
        "colab_type": "code",
        "colab": {
          "base_uri": "https://localhost:8080/",
          "height": 302
        },
        "outputId": "bd500d11-8add-4829-97cb-d34c51f53a14"
      },
      "cell_type": "code",
      "source": [
        "by_hour = sample.resample(\"H\")\n",
        "by_hour.head(2),by_hour.tail(2) "
      ],
      "execution_count": 71,
      "outputs": [
        {
          "output_type": "stream",
          "text": [
            "/usr/local/lib/python3.6/dist-packages/ipykernel_launcher.py:2: FutureWarning: \n",
            ".resample() is now a deferred operation\n",
            "You called head(...) on this deferred object which materialized it into a series\n",
            "by implicitly taking the mean.  Use .resample(...).mean() instead\n",
            "  \n",
            "/usr/local/lib/python3.6/dist-packages/ipykernel_launcher.py:2: FutureWarning: \n",
            ".resample() is now a deferred operation\n",
            "You called tail(...) on this deferred object which materialized it into a series\n",
            "by implicitly taking the mean.  Use .resample(...).mean() instead\n",
            "  \n"
          ],
          "name": "stderr"
        },
        {
          "output_type": "execute_result",
          "data": {
            "text/plain": [
              "(Date\n",
              " 1986-03-14 00:00:00    1.035714\n",
              " 1986-03-14 01:00:00         NaN\n",
              " Freq: H, Name: Adj. Close, dtype: float64, Date\n",
              " 1986-03-16 23:00:00         NaN\n",
              " 1986-03-17 00:00:00    1.053571\n",
              " Freq: H, Name: Adj. Close, dtype: float64)"
            ]
          },
          "metadata": {
            "tags": []
          },
          "execution_count": 71
        }
      ]
    },
    {
      "metadata": {
        "id": "jUQc_OjmlJ3f",
        "colab_type": "text"
      },
      "cell_type": "markdown",
      "source": [
        ">Hourly index labels have been created by pandas, but **the alignment only propagates\n",
        "two values into the new time-series and fills the others with NaN**. This is an inherent\n",
        "issue with upsampling as in the result there is missing information. By default,\n",
        "pandas uses NaN but provide other methods to fill in values.\n",
        "\n",
        ">As with frequency conversion, the **new index labels can be forward filled or back\n",
        "filled** using the fill_method parameter and **specifying bfill or ffill . Another\n",
        "option is to interpolate the missing data, which can be done using the time-series\n",
        "object's .interpolate() method, which will perform a linear interpolation**:"
      ]
    },
    {
      "metadata": {
        "id": "e1GECbIhkf7E",
        "colab_type": "code",
        "colab": {
          "base_uri": "https://localhost:8080/",
          "height": 218
        },
        "outputId": "726cbe48-113c-445d-fd21-2b65d25f00e6"
      },
      "cell_type": "code",
      "source": [
        "by_hour.interpolate()[:10]"
      ],
      "execution_count": 73,
      "outputs": [
        {
          "output_type": "execute_result",
          "data": {
            "text/plain": [
              "Date\n",
              "1986-03-14 00:00:00    1.035714\n",
              "1986-03-14 01:00:00    1.035962\n",
              "1986-03-14 02:00:00    1.036210\n",
              "1986-03-14 03:00:00    1.036458\n",
              "1986-03-14 04:00:00    1.036706\n",
              "1986-03-14 05:00:00    1.036954\n",
              "1986-03-14 06:00:00    1.037202\n",
              "1986-03-14 07:00:00    1.037450\n",
              "1986-03-14 08:00:00    1.037698\n",
              "1986-03-14 09:00:00    1.037946\n",
              "Freq: H, Name: Adj. Close, dtype: float64"
            ]
          },
          "metadata": {
            "tags": []
          },
          "execution_count": 73
        }
      ]
    },
    {
      "metadata": {
        "id": "UH50QRo8nZ65",
        "colab_type": "text"
      },
      "cell_type": "markdown",
      "source": [
        "#Summary:\n",
        "\n",
        "In this chapter, we have covered the following:\n",
        "\n",
        "\n",
        "1.   DatetimeIndex: DatetimeIndex and time-series data\n",
        "2.   Creating time-series with specific frequencies: with pd.date_range('2014-08-01','2014-08-01 00:19:00',freq='T')\n",
        "3.   Representation of intervals of time user periods: with pd.Period('2014-08', freq='M') \n",
        "4.   Shifting and lagging time-series data: msftAC.shift(1) and msftAC.shift(-2)\n",
        "5.   Frequency conversion of time-series data: msftAC[:2].asfreq(\"H\", method=\"ffill\")\n",
        "6.   Downsampling and Upsampling of time-series data: msft_cum_ret.resample(\"M\", how=\"ohlc\")[:5] and msft_cum_ret[1:3]..resample(\"H\")"
      ]
    },
    {
      "metadata": {
        "id": "bLMZUTkrndHK",
        "colab_type": "code",
        "colab": {}
      },
      "cell_type": "code",
      "source": [
        ""
      ],
      "execution_count": 0,
      "outputs": []
    }
  ]
}